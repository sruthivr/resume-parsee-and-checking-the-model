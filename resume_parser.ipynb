{
  "nbformat": 4,
  "nbformat_minor": 0,
  "metadata": {
    "colab": {
      "name": "resume parser.ipynb",
      "provenance": [],
      "collapsed_sections": [
        "mg1CAv-MCLYt",
        "yGzTK2vlCN0b",
        "KTnoWfuWCQWs",
        "dNphWsKtIbSC",
        "7pq43kKC04--",
        "TFRWPSgbE0Yg",
        "TUGW1v3JFFSW",
        "alvo-rC3FMoo"
      ]
    },
    "kernelspec": {
      "display_name": "Python 3",
      "name": "python3"
    },
    "language_info": {
      "name": "python"
    }
  },
  "cells": [
    {
      "cell_type": "markdown",
      "source": [
        "ABSTRACT\n",
        "\n",
        "Resume parsing refers to the automated storage, organization and analysis of job resumes. Resume parsing software provides companies an efficient way to identify keywords, skills, and so forth, in order to sort through large quantities of applications to identify the best applicants. Resume parsers analyze a resume, extract the desired information, and insert the information into a database with a unique entry for each candidate. Once the resume has been analyzed, a recruiter can search the database for keywords and phrases and get a list of relevant candidates.\n",
        "\n",
        "Parse information from a resume using natural language processing (NLP), find the keywords, cluster them onto sectors based on their keywords and lastly show the most relevant resume to the employer based on keyword matching. First, the user uploads a resume to the web platform. The parser parses all the necessary information from the resume and auto fills a form for the user to proofread. \n",
        "\n",
        "I collected two hundred resume data as in pickled format for creating an NLP model to train my data. Most of the basic pre-processing, data visualisation and machine learning steps will be used here. The proposed NLP model is promising in extracting the key words and their context for different resumes. And the comparison between the actual resume data to the model based predicted data is carried out by the help of Fuzzywuzzy library. The Fuzzy ratio shows the accuracy of predicted data to the actual data and improvement of the prediction accuracy and suggest that the model can be used in other resumes as well.\n",
        "\n"
      ],
      "metadata": {
        "id": "FHeNVX50tnVJ"
      }
    },
    {
      "cell_type": "markdown",
      "metadata": {
        "id": "VXjWSMFyUsxq"
      },
      "source": [
        "#Instalation of Libraries"
      ]
    },
    {
      "cell_type": "code",
      "metadata": {
        "colab": {
          "base_uri": "https://localhost:8080/"
        },
        "id": "XksgIpKiO7qI",
        "outputId": "186fe545-cf74-4d03-ec94-627c564c399b"
      },
      "source": [
        "pip install PyMuPDF"
      ],
      "execution_count": 1,
      "outputs": [
        {
          "output_type": "stream",
          "name": "stdout",
          "text": [
            "Collecting PyMuPDF\n",
            "  Downloading PyMuPDF-1.19.3-cp37-cp37m-manylinux_2_17_x86_64.manylinux2014_x86_64.whl (8.7 MB)\n",
            "\u001b[K     |████████████████████████████████| 8.7 MB 5.6 MB/s \n",
            "\u001b[?25hInstalling collected packages: PyMuPDF\n",
            "Successfully installed PyMuPDF-1.19.3\n"
          ]
        }
      ]
    },
    {
      "cell_type": "code",
      "metadata": {
        "colab": {
          "base_uri": "https://localhost:8080/"
        },
        "id": "SB4ZJ9-gQC9Y",
        "outputId": "2fcb3554-1298-4e09-fe46-0474e35eed96"
      },
      "source": [
        "pip install fuzzywuzzy[speedup]"
      ],
      "execution_count": 2,
      "outputs": [
        {
          "output_type": "stream",
          "name": "stdout",
          "text": [
            "Collecting fuzzywuzzy[speedup]\n",
            "  Downloading fuzzywuzzy-0.18.0-py2.py3-none-any.whl (18 kB)\n",
            "Collecting python-levenshtein>=0.12\n",
            "  Downloading python-Levenshtein-0.12.2.tar.gz (50 kB)\n",
            "\u001b[K     |████████████████████████████████| 50 kB 2.7 MB/s \n",
            "\u001b[?25hRequirement already satisfied: setuptools in /usr/local/lib/python3.7/dist-packages (from python-levenshtein>=0.12->fuzzywuzzy[speedup]) (57.4.0)\n",
            "Building wheels for collected packages: python-levenshtein\n",
            "  Building wheel for python-levenshtein (setup.py) ... \u001b[?25l\u001b[?25hdone\n",
            "  Created wheel for python-levenshtein: filename=python_Levenshtein-0.12.2-cp37-cp37m-linux_x86_64.whl size=149867 sha256=969337146be2e253f086818e3797fc13348a052655b4be21d3e623ec50f09061\n",
            "  Stored in directory: /root/.cache/pip/wheels/05/5f/ca/7c4367734892581bb5ff896f15027a932c551080b2abd3e00d\n",
            "Successfully built python-levenshtein\n",
            "Installing collected packages: python-levenshtein, fuzzywuzzy\n",
            "Successfully installed fuzzywuzzy-0.18.0 python-levenshtein-0.12.2\n"
          ]
        }
      ]
    },
    {
      "cell_type": "markdown",
      "metadata": {
        "id": "eFq1P8ieNKWH"
      },
      "source": [
        "**PyMuPDF** is a Python binding for MuPDF – a lightweight PDF, XPS, and E-book viewer, renderer, and toolkit, which is maintained and developed by Artifex Software, Inc. MuPDF can access files in PDF, XPS, OpenXPS, CBZ, EPUB and FB2 (e-books) formats, and it is known for its top performance and high rendering quality.\n",
        "\n",
        "**FuzzyWuzzy** is a library of Python which is used for string matching. Fuzzy string matching is the process of finding strings that match a given pattern. Basically it uses Levenshtein Distance to calculate the differences between sequences. FuzzyWuzzy has been developed and open-sourced by SeatGeek, a service to find sport and concert tickets. "
      ]
    },
    {
      "cell_type": "markdown",
      "metadata": {
        "id": "suxkDvtQmDqs"
      },
      "source": [
        "# Loading Library"
      ]
    },
    {
      "cell_type": "code",
      "metadata": {
        "id": "29JDhRf1pVFR"
      },
      "source": [
        "#load libraries\n",
        "\n",
        "import spacy\n",
        "import pickle\n",
        "import random\n",
        "\n",
        "\n",
        "import pandas as pd\n",
        "import numpy as np\n",
        "\n",
        "import seaborn as sns\n",
        "\n",
        "import matplotlib.pyplot as plt\n",
        "\n",
        "from fuzzywuzzy import process, fuzz"
      ],
      "execution_count": 3,
      "outputs": []
    },
    {
      "cell_type": "markdown",
      "metadata": {
        "id": "O95b2BBRQMm4"
      },
      "source": [
        "**SpaCy** is a free, open-source library for advanced Natural Language Processing (NLP) in Python. SpaCy provides an exceptionally efficient statistical system for NER in python, which can assign labels to groups of tokens which are contiguous. It provides a default model which can recognize a wide range of named or numerical entities, which include person, organization, language, event etc. Apart from these default entities, spaCy also gives us the liberty to add arbitrary classes to the NER model, by training the model to update it with newer trained examples.\n",
        "\n",
        "**Python pickle** module is used for serializing and de-serializing a Python object structure. Pickling is a way to convert a python object (list, dict, etc.) into a character stream. \n",
        "\n",
        "**Python Random** module is an in-built module of Python which is used to generate random numbers. This module can be used to perform random actions such as generating random numbers, print random a value for a list or string, etc.\n",
        "\n",
        "**Pandas** is an open-source library that is built on top of NumPy library. It is a Python package that offers various data structures and operations for manipulating numerical data and time series. It is mainly popular for importing and analyzing data much easier. Pandas is fast and it has high-performance & productivity for users.\n",
        "\n",
        "**NumPy** is a general-purpose array-processing package. It provides a high-performance multidimensional array object, and tools for working with these arrays. It is the fundamental package for scientific computing with Python.\n",
        "\n",
        "**Seaborn**  is an open-source Python library built on top of matplotlib. It is used for data visualization and exploratory data analysis. Seaborn works easily with dataframes and the Pandas library. The graphs created can also be customized easily.\\\n",
        "\n",
        "**Matplotlib** is an amazing visualization library in Python for 2D plots of arrays. Matplotlib is a multi-platform data visualization library built on NumPy arrays and designed to work with the broader SciPy stack. It was introduced by John Hunter in the year 2002. One of the greatest benefits of visualization is that it allows us visual access to huge amounts of data in easily digestible visuals."
      ]
    },
    {
      "cell_type": "markdown",
      "metadata": {
        "id": "gIL8Taq7mLNC"
      },
      "source": [
        "# Loading pickle file"
      ]
    },
    {
      "cell_type": "code",
      "metadata": {
        "colab": {
          "base_uri": "https://localhost:8080/"
        },
        "id": "BLj4u2yuynt0",
        "outputId": "df714afb-3e81-49ef-c98e-9b83063045b1"
      },
      "source": [
        "train_data = pickle.load(open('/content/train_data.pkl', 'rb'))\n",
        "\n",
        "#First train data\n",
        "\n",
        "train_data[0]"
      ],
      "execution_count": 4,
      "outputs": [
        {
          "output_type": "execute_result",
          "data": {
            "text/plain": [
              "('Govardhana K Senior Software Engineer  Bengaluru, Karnataka, Karnataka - Email me on Indeed: indeed.com/r/Govardhana-K/ b2de315d95905b68  Total IT experience 5 Years 6 Months Cloud Lending Solutions INC 4 Month • Salesforce Developer Oracle 5 Years 2 Month • Core Java Developer Languages Core Java, Go Lang Oracle PL-SQL programming, Sales Force Developer with APEX.  Designations & Promotions  Willing to relocate: Anywhere  WORK EXPERIENCE  Senior Software Engineer  Cloud Lending Solutions -  Bangalore, Karnataka -  January 2018 to Present  Present  Senior Consultant  Oracle -  Bangalore, Karnataka -  November 2016 to December 2017  Staff Consultant  Oracle -  Bangalore, Karnataka -  January 2014 to October 2016  Associate Consultant  Oracle -  Bangalore, Karnataka -  November 2012 to December 2013  EDUCATION  B.E in Computer Science Engineering  Adithya Institute of Technology -  Tamil Nadu  September 2008 to June 2012  https://www.indeed.com/r/Govardhana-K/b2de315d95905b68?isid=rex-download&ikw=download-top&co=IN https://www.indeed.com/r/Govardhana-K/b2de315d95905b68?isid=rex-download&ikw=download-top&co=IN   SKILLS  APEX. (Less than 1 year), Data Structures (3 years), FLEXCUBE (5 years), Oracle (5 years), Algorithms (3 years)  LINKS  https://www.linkedin.com/in/govardhana-k-61024944/  ADDITIONAL INFORMATION  Technical Proficiency:  Languages: Core Java, Go Lang, Data Structures & Algorithms, Oracle PL-SQL programming, Sales Force with APEX. Tools: RADTool, Jdeveloper, NetBeans, Eclipse, SQL developer, PL/SQL Developer, WinSCP, Putty Web Technologies: JavaScript, XML, HTML, Webservice  Operating Systems: Linux, Windows Version control system SVN & Git-Hub Databases: Oracle Middleware: Web logic, OC4J Product FLEXCUBE: Oracle FLEXCUBE Versions 10.x, 11.x and 12.x  https://www.linkedin.com/in/govardhana-k-61024944/',\n",
              " {'entities': [(1749, 1755, 'Companies worked at'),\n",
              "   (1696, 1702, 'Companies worked at'),\n",
              "   (1417, 1423, 'Companies worked at'),\n",
              "   (1356, 1793, 'Skills'),\n",
              "   (1209, 1215, 'Companies worked at'),\n",
              "   (1136, 1248, 'Skills'),\n",
              "   (928, 932, 'Graduation Year'),\n",
              "   (858, 889, 'College Name'),\n",
              "   (821, 856, 'Degree'),\n",
              "   (787, 791, 'Graduation Year'),\n",
              "   (744, 750, 'Companies worked at'),\n",
              "   (722, 742, 'Designation'),\n",
              "   (658, 664, 'Companies worked at'),\n",
              "   (640, 656, 'Designation'),\n",
              "   (574, 580, 'Companies worked at'),\n",
              "   (555, 573, 'Designation'),\n",
              "   (470, 493, 'Companies worked at'),\n",
              "   (444, 469, 'Designation'),\n",
              "   (308, 314, 'Companies worked at'),\n",
              "   (234, 240, 'Companies worked at'),\n",
              "   (175, 198, 'Companies worked at'),\n",
              "   (93, 137, 'Email Address'),\n",
              "   (39, 48, 'Location'),\n",
              "   (13, 38, 'Designation'),\n",
              "   (0, 12, 'Name')]})"
            ]
          },
          "metadata": {},
          "execution_count": 4
        }
      ]
    },
    {
      "cell_type": "markdown",
      "metadata": {
        "id": "rRA9o67Dewm4"
      },
      "source": [
        "To open the file for writing, simply use the open() function. The first argument should be the name of your file. The second argument is 'wb'. The 'w' means that you'll be writing to the file, and b refers to binary mode. This means that the data will be written in the form of byte objects. This pickle file(ie, train_data.pkl) contain nearly two hundred resume data in compressed form. it is used to train our model. "
      ]
    },
    {
      "cell_type": "markdown",
      "metadata": {
        "id": "_YqtljDLmTgB"
      },
      "source": [
        "# NLP model creation"
      ]
    },
    {
      "cell_type": "code",
      "metadata": {
        "id": "uyazC0OdzFfe"
      },
      "source": [
        "#load model\n",
        "\n",
        "nlp = spacy.blank('en')\n",
        "def train_model(train_data):\n",
        "    if 'ner' not in nlp.pipe_names:\n",
        "        ner = nlp.create_pipe('ner')\n",
        "        nlp.add_pipe(ner, last = True)\n",
        "    \n",
        "    for _, annotation in train_data:\n",
        "        for ent in annotation['entities']:\n",
        "            ner.add_label(ent[2])\n",
        "            \n",
        "    \n",
        "    other_pipes = [pipe for pipe in nlp.pipe_names if pipe != 'ner']\n",
        "    with nlp.disable_pipes(*other_pipes):  # only train NER\n",
        "        optimizer = nlp.begin_training()\n",
        "        for itn in range(10):\n",
        "            print(\"Statring iteration \" + str(itn))\n",
        "            random.shuffle(train_data)\n",
        "            losses = {}\n",
        "            index = 0\n",
        "            for text, annotations in train_data:\n",
        "                try:\n",
        "                    nlp.update(\n",
        "                        [text],  # batch of texts\n",
        "                        [annotations],  # batch of annotations\n",
        "                        drop=0.2,  # dropout - make it harder to memorise data\n",
        "                        sgd=optimizer,  # callable to update weights\n",
        "                        losses=losses)\n",
        "                except Exception as e:\n",
        "                    pass\n",
        "                \n",
        "            print(losses)"
      ],
      "execution_count": 5,
      "outputs": []
    },
    {
      "cell_type": "markdown",
      "metadata": {
        "id": "Q3xVteJsffFp"
      },
      "source": [
        "In this first the blank model is created after that ner model is added it help to add the labels from the file. after the model creation and pipe line checking its going through the train data with random shuffle."
      ]
    },
    {
      "cell_type": "code",
      "metadata": {
        "colab": {
          "base_uri": "https://localhost:8080/"
        },
        "id": "Kwac5qP1zRP9",
        "outputId": "1e1c50c6-8797-4070-fc37-12a427b29d5b"
      },
      "source": [
        "#passing trained data in our model\n",
        "train_model(train_data)"
      ],
      "execution_count": 6,
      "outputs": [
        {
          "output_type": "stream",
          "name": "stdout",
          "text": [
            "Statring iteration 0\n",
            "{'ner': 12132.647536099637}\n",
            "Statring iteration 1\n",
            "{'ner': 9292.267437321592}\n",
            "Statring iteration 2\n",
            "{'ner': 9065.259428343023}\n",
            "Statring iteration 3\n",
            "{'ner': 7848.1575358989685}\n",
            "Statring iteration 4\n",
            "{'ner': 5293.43602185203}\n",
            "Statring iteration 5\n",
            "{'ner': 7292.920740155449}\n",
            "Statring iteration 6\n",
            "{'ner': 5386.397857025261}\n",
            "Statring iteration 7\n",
            "{'ner': 5199.825756753805}\n",
            "Statring iteration 8\n",
            "{'ner': 5888.256726958203}\n",
            "Statring iteration 9\n",
            "{'ner': 5593.726414282507}\n"
          ]
        }
      ]
    },
    {
      "cell_type": "code",
      "metadata": {
        "id": "yAtFaYTyzScb"
      },
      "source": [
        "nlp.to_disk('nlp_model')"
      ],
      "execution_count": 7,
      "outputs": []
    },
    {
      "cell_type": "code",
      "metadata": {
        "id": "OOJWCqqV0Hxo"
      },
      "source": [
        "#loading the model\n",
        "nlp_model = spacy.load('nlp_model')"
      ],
      "execution_count": 8,
      "outputs": []
    },
    {
      "cell_type": "code",
      "metadata": {
        "colab": {
          "base_uri": "https://localhost:8080/",
          "height": 140
        },
        "id": "PHiZAkFU0K24",
        "outputId": "52392bab-3748-49c4-a8b0-f5072c686d35"
      },
      "source": [
        "#display the zeroth index datain trained dataset\n",
        "train_data[0][0]"
      ],
      "execution_count": 9,
      "outputs": [
        {
          "output_type": "execute_result",
          "data": {
            "application/vnd.google.colaboratory.intrinsic+json": {
              "type": "string"
            },
            "text/plain": [
              "'Shivasai Mantri Microsoft dynamics AX Technical consultant  Hyderabad, Telangana - Email me on Indeed: indeed.com/r/Shivasai-Mantri/ eb5df334d3959e42  Achieve challenging Organizational Goals by applying creative problem solving skills to benefit mutual growth and success.  Willing to relocate: Anywhere  WORK EXPERIENCE  Microsoft dynamics AX Technical consultant  Indian Terrain Fashions Limited -  October 2016 to Present  Developing the new modules and menus and customizing the existing modules in AX as per the company requirement  Microsoft dynamics AX Technical consultant  ABA Technology Services  Developing the new modules and menus and customizing the existing modules in AX as per the company requirement  EDUCATION  BE in Computer science  Sreenidhi Institute of science and technology -  Hyderabad, Telangana  August 2011 to June 2015  Narayana Junior College -  Hyderabad, Telangana  SSC  Vamshi High school -  Bodhan, Andhra Pradesh  SKILLS  asp.net, dynamics ax technical consultant, sql, x++  https://www.indeed.com/r/Shivasai-Mantri/eb5df334d3959e42?isid=rex-download&ikw=download-top&co=IN https://www.indeed.com/r/Shivasai-Mantri/eb5df334d3959e42?isid=rex-download&ikw=download-top&co=IN'"
            ]
          },
          "metadata": {},
          "execution_count": 9
        }
      ]
    },
    {
      "cell_type": "code",
      "metadata": {
        "colab": {
          "base_uri": "https://localhost:8080/"
        },
        "id": "Ye2Hrw590QSb",
        "outputId": "cb971064-e282-495e-adfe-08e86ea009e9"
      },
      "source": [
        "doc = nlp_model(train_data[0][0])\n",
        "for ent in doc.ents:\n",
        "    print(f'{ent.label_.upper():{30}}- {ent.text}')"
      ],
      "execution_count": 10,
      "outputs": [
        {
          "output_type": "stream",
          "name": "stdout",
          "text": [
            "NAME                          - Shivasai Mantri\n",
            "DESIGNATION                   - Microsoft dynamics AX Technical consultant\n",
            "LOCATION                      - Hyderabad\n",
            "EMAIL ADDRESS                 - indeed.com/r/Shivasai-Mantri/ eb5df334d3959e42\n",
            "DESIGNATION                   - Microsoft dynamics AX Technical consultant\n",
            "COMPANIES WORKED AT           - Microsoft\n",
            "DESIGNATION                   - Technical consultant\n",
            "DEGREE                        - BE in Computer science\n",
            "COLLEGE NAME                  - Sreenidhi Institute of science and technology\n",
            "GRADUATION YEAR               - 2015\n",
            "COLLEGE NAME                  - Vamshi High school\n",
            "SKILLS                        - asp.net, dynamics ax technical consultant, sql, x++\n"
          ]
        }
      ]
    },
    {
      "cell_type": "markdown",
      "metadata": {
        "id": "n12gm45mhIGF"
      },
      "source": [
        "From our trained model and data the zeroth position resume data is extracted with labels and thier values. Each time the resume data is shuffled here. because to check the availability of all data. This model creation help to avoide each time execution of code. one the medel is loaded then we can upload the data then get the result."
      ]
    },
    {
      "cell_type": "markdown",
      "metadata": {
        "id": "oJFwFo5wm50t"
      },
      "source": [
        "# Resume Loading"
      ]
    },
    {
      "cell_type": "markdown",
      "metadata": {
        "id": "5qCOo4F-CFU9"
      },
      "source": [
        "# **Resume 1**"
      ]
    },
    {
      "cell_type": "code",
      "metadata": {
        "colab": {
          "base_uri": "https://localhost:8080/"
        },
        "id": "9EJcEgmF0aOI",
        "outputId": "d01da0d2-95cd-44a2-d7c6-a5a5c5084133"
      },
      "source": [
        "import sys, fitz\n",
        "fname = '/content/Jebacerin L_C#_5.10yrs.pdf'\n",
        "doc = fitz.open(fname)\n",
        "text = \"\"\n",
        "for page in doc:\n",
        "    text = text + str(page.getText())\n",
        "tx = \" \".join(text.split('\\n'))\n",
        "print(tx)"
      ],
      "execution_count": 11,
      "outputs": [
        {
          "output_type": "stream",
          "name": "stdout",
          "text": [
            "        Jebacerin.L,  TamilNadu, India   Mobile : + 91  Email :@gmail.com      PROFILE    An experienced .NET practitioner in designing, developing using Microsoft .NET Framework with 3  years experience.Has good exposure in developing robust, interactive and data driven web  applications enhancing and modifying them as necessary to ensure the best experience for the  user. An Engineering graduate BE in Computer Science and Engineering & ME in  Computer Science and Engineering with First Class with excellent track record of delivering  commitments on time and high quality.       EXPERIENCE SUMMARY    Exenta Software Pvt. Ltd (Trivandrum) – Software Engineer   (5 OCT 2015 to 26 OCT 2018)    Inspirisys Solutions Pvt Ltd (Trivandrum) – Software Engineer  (29 OCT 2018 – 16 JUL 2019)    MSN Ltd(Trivandrum) –Software Engineer  (17 JUL 2019 – Till Date)        CERTIFICATIONS    DotNet from E-VisionLab.        SKILLSET    ●  C#.NET, ASP.NET, .NET Framework 4.5,WPF, XML, WebServices,    Web API, OOPS Concepts,jQuery,Angular10,TypeScript  ●  Exposure in JavaScript,JQuery, HTML  ●  Proficient in VS.2015  ●  SQL Server 2014  ●  IIS Express      Technology  Details  .NET 2.0,3.5,4.5  Dotnet Framework  Angular10  Angular  .NET Enterprise Library Framework  Exception Handling, Logging  SQL Server 2014  Stored Procedures/Joins                      SERVICE DELIVERY EXPERIENCE    ●  Excellent knowledge in Software development life cycle processes.  ●  Experienced in project implementation.  ●  Served as Competency Analyst for MS Platform based solutions for Product development     Team.  ●  Ensured availability for operations.      DOMAIN EXPERIENCE    ●  OnBoarding  ●  Exit  ●  DashBoard  ●  HRMS  ●  PassBook kiosk  ●  Cheque Kiosk  ●  GoldLoan        PROJECTS EXPERIENCE        Project Name  Exenta HRMS  Project  Description  Exenta HRMS software automates your HR processes, enabling you to  track, manage, and analyze all your employee from application to  retirement. When an organization takes care to reduce the manual  workload an organization performs, they choose to replace those  processes with various levels of HRMS systems .Each module has a  comprehensible dashboard, simple and straightforward UI and most  importantly customizable reports. This project involves all process starts  from employee on boarding to exit process of an employee.  Business Domain  HRMS  Duration  Oct 2015 – Oct 2018  Technology  Asp.net /C#/SQL, IIS  Role in Project  Developer (Primary Role)    ●  Developer   ●  Implemented business logic.  ●  Created Stored procedures.  ●  Customer interaction for getting change requests, error tracking.  ●  Application development using ASP.NET and C#  ●  Created stored procedures, Functions, to achieve data integrity  Project Name  Device Monitoring client        Project  Description  Device Monitoring(Health monitoring) client is in Cheque deposit  Kiosk Machine and Passbook Kiosk Machine. It update every 5  minutes regarding status. It update through webservice via SQl  DB.If the passbook kiosk or chequedeposit kiosk stop.It  automatically start the kiosk machine.It check every 5  minutes.and send the update to website using website control  this kioskmachine stop,restart and shutdown     Business Domain  KIOSK(Cheque Deposit Machine,Passbook Machine)  Citi union Bank  Duration  Nov2018-Mar2019  Technology  WPF,Webservice      Role in Project  Developer (Primary Role)    ●  Developer   ●  Design the Frontend  ●  Customer interaction for getting change requests, error  tracking.  ●  Windows development using WPF          Project Name  Banking Software  Project  Description  Banking Software contain Gold Loan, Fixed Deposit. It is highly  parameterized to support dynamic nature of customer and  regulatory requirements     Business Domain  Gold Loan,Fixed Deposit  Duration  July2019-TillDate  Technology  WPF,WebAPI      Project Name  Hr Software  Role in Project    Developing    Handling Client Issue    Creating Reports  Project Name   Hr Software        Project  Description  Hr Software Contains Onboarding,Leave,Leave Request,Leave  Approval,Payroll,Exit     Business Domain  Leave Mark,Payroll  Duration  July2019-Aug2020  Technology  WPF,WebAPI      Role in Project  Developer (Primary Role)    ●  Handling Hr Issue  ●  Developer  ●  Design the Frontend  ●  Design the backend  ●  Customer interaction for getting change requests, error  tracking.  ●  Windows development using WPF            Project Name   Gold Loan  Project  Description  Creating Gold Loan,Add the Gold Details,Data Stored in Accounts     Business Domain  Creating Gold Loan  Duration  Sep2020-TillDate  Technology  Angular10,WebAPI,SQL      Role in Project  Developer (Primary Role)    ●  Creating UI Page  ●  Developer  ●  Design the Frontend  ●  Design the backend  ●  Customer interaction for getting change requests, error  tracking.  ●  Web Page                Personal Details    Date of Birth                   17-November-1989  Sex           Male  Marital Status                Married  Blood Group                  A+ve  Nationality              Indian  Languages known    English,Tamil,Malayalam          DECLARATION                    I do hereby declare that all the above information given is true to my best knowledge  and ability.    Date:           2021  Place: Trivandrum   Jebacerin.L  \n"
          ]
        },
        {
          "output_type": "stream",
          "name": "stderr",
          "text": [
            "Deprecation: 'getText' removed from class 'Page' after v1.19 - use 'get_text'.\n"
          ]
        }
      ]
    },
    {
      "cell_type": "code",
      "metadata": {
        "colab": {
          "base_uri": "https://localhost:8080/"
        },
        "id": "XctUt4kX1Gcc",
        "outputId": "c987aa53-9559-44d8-f27f-38548e4bb93a"
      },
      "source": [
        "doc = nlp_model(tx)\n",
        "for ent in doc.ents:\n",
        "    print(f'{ent.label_.upper():{30}}- {ent.text}')"
      ],
      "execution_count": 12,
      "outputs": [
        {
          "output_type": "stream",
          "name": "stdout",
          "text": [
            "DESIGNATION                   - Software Engineer\n",
            "COMPANIES WORKED AT           - Engineer\n",
            "DESIGNATION                   - IIS Express\n",
            "GRADUATION YEAR               - 2014\n",
            "DESIGNATION                   - Project Name\n",
            "GRADUATION YEAR               - 2018\n",
            "DESIGNATION                   - Hr Software\n",
            "COLLEGE NAME                  - Hr Software        Project\n",
            "DEGREE                        - Developer\n"
          ]
        }
      ]
    },
    {
      "cell_type": "code",
      "metadata": {
        "id": "s8IX_Wux3YQD"
      },
      "source": [
        "#Dictionary creation"
      ],
      "execution_count": 13,
      "outputs": []
    },
    {
      "cell_type": "code",
      "metadata": {
        "id": "VJI9hSs6izR5"
      },
      "source": [
        "dict1 = {\"NAME\":[], \"DEGREE\":[], \"DESIGNATION\":[], \"SKILLS\":[] ,\"COLLEGE NAME\":[], \"LOCATION\":[],\"GRADUATION YEAR\":[],\"COMPANIES WORKED AT\":[],\"EMAIL ADDRESS\":[]}\n",
        "for ent in doc.ents:\n",
        "  dict1[ent.label_.upper()].append(ent.text)"
      ],
      "execution_count": 14,
      "outputs": []
    },
    {
      "cell_type": "code",
      "metadata": {
        "colab": {
          "base_uri": "https://localhost:8080/"
        },
        "id": "nz-ewYFMluwl",
        "outputId": "0f992aa9-2e90-423b-fbf9-5494717bedff"
      },
      "source": [
        "dict1"
      ],
      "execution_count": 15,
      "outputs": [
        {
          "output_type": "execute_result",
          "data": {
            "text/plain": [
              "{'COLLEGE NAME': ['Hr Software        Project'],\n",
              " 'COMPANIES WORKED AT': ['Engineer'],\n",
              " 'DEGREE': ['Developer'],\n",
              " 'DESIGNATION': ['Software Engineer',\n",
              "  'IIS Express',\n",
              "  'Project Name',\n",
              "  'Hr Software'],\n",
              " 'EMAIL ADDRESS': [],\n",
              " 'GRADUATION YEAR': ['2014', '2018'],\n",
              " 'LOCATION': [],\n",
              " 'NAME': [],\n",
              " 'SKILLS': []}"
            ]
          },
          "metadata": {},
          "execution_count": 15
        }
      ]
    },
    {
      "cell_type": "markdown",
      "metadata": {
        "id": "za8ZOImrCIyg"
      },
      "source": [
        "# **Resume 2**"
      ]
    },
    {
      "cell_type": "code",
      "metadata": {
        "colab": {
          "base_uri": "https://localhost:8080/"
        },
        "id": "8w46ffWcHRDn",
        "outputId": "9cc9b3dd-8192-424e-88e6-329b9ea48eb8"
      },
      "source": [
        "fname = '/content/Shaniba M_Angular_3.5Yrs.pdf'\n",
        "doc = fitz.open(fname)\n",
        "text = \"\"\n",
        "for page in doc:\n",
        "    text = text + str(page.getText())\n",
        "tx = \" \".join(text.split('\\n'))\n",
        "print(tx)"
      ],
      "execution_count": 16,
      "outputs": [
        {
          "output_type": "stream",
          "name": "stdout",
          "text": [
            "    Photo  Address  Mob1:   Mob2:   SHANIBA M   OBJECTIVE    To gain confidence and fame using my potential in the field of software, and express  my innovative creative, managerial, technical skills for self and company growth.  CAREER SUMMARY   •  B-tech graduate with 3+ year experience in web applications and hybrid  mobile application development.  •  Excellent communication and inter-personal skills with experience of  interacting with the endusers and resolving their queries to their  satisfaction.  •  Ability to grasp the ideas of the clients and implement in the same  direction.  TECHNICAL SKILLS   LANGUAGES:  •  ANGULAR 2 AND ABOVE (ANGULAR 8 CURRENTLY WORKING), TYPESCRIPT, IONIC 3, JAVASCRIPT,  HTML 5, CSS 3, C, C++, REACT JS(OVERVIEW), PYTHON(OVERVIEW)  •  SOFTWARE TESTING(MANUAL)  •  OPERATING SYSTEMS: WINDOWS 10, WINDOWS 7, WINDOWS 8, LINUX, UBUNTU  •  MATLAB, PLC SCADA  •  OVER VIEW: MS OFFICE, MS EXCEL, MS OUTLOOK.  SOFTWARE SKILLS   •  Web and Mobile application development  •  Utilized Agile Development Methodology  •  Familiarity on Git  •  Manual Testing of Mobile Application (iPad/Android)  •  Manual Testing on Web Application.  WORK HISTORY    SOFTWARE DEVELOPER, XMINDS INFOTECH PVT LTD, TRIVANDRUM  April 25th to current  Project:Datazoom  Improving the experience efficiency and profitability of streaming video requires  data.Datazoom enables video publishers to better operate distributed architeures  through centralizing ,standardizing and integrating data in real-time to create a  more data pipeline and optimize solutions  ASSOCIATE DEVELOPER, ULTS, UL CYBER PARK, CALICUT  July 2019 to February 2021  Projects:  (1) KLA-Shalabham    Page 2  Digitalization of Kerala Legislative Assembly. The Kerala Legislative assembly has  made a significant transition to the free software e-niyamasabha platform for  recording its voluminous business.  (2) TDB –Software for Travancore Devaswam Board. Software providing all the  services through online for temples under Travancore devaswam board.  (3) KLM- MUDRA-Kerala Kalamandalam-The digital revamp with the automation of  the kalamandalam office. This is the debut public institution in India deemed to be a  university of arts and culture in Kerala in the village of cheruthuruthy, Thrissur .  JR. SOFTWARE ENGINEER, EXENDUR TECHNOLOGIES PVT.LTD, KAKKANAD,  ERNAKULAM  March 2018 to July 2019  Projects:  (1) Service Marketplace (Mobile): Service utility application for E commerce  platform that connects service providers with customers who are in need of their  services. GPS is provided for tracking and selecting location-based services.  (2) Appointment system (Mobile): Medical appointment system helping patients to  get reliable, convenient and timely access to health care from anywhere in the by  connecting experienced doctors.  (3) Mobile attendance system (Mobile): Mobile Attendance powered the user to  clock in & out from anywhere using their Mobile. It uses GPS information ensuring  the right employee is at the right place to work. It offers a real-time tracking system.    SOFTWARE ENGINEER TRAINEE, RPTECH SOFT INTERNATIONAL PVT.LTD,  TECHNOPARK, TVM  September 2016 to October 2017  Project: aTrack  Internal attendance tracking application (Mobile). Daily reporting, compliance, task  logs etc.  EDUCATION    10TH, SACRED HEART GIRL’S HIGH SCHOOL – THALASSERY, SSLC BOARD,  2009 MARKS: 90%  12TH, GOVT. BRENNAN HIGHER SECONDARY SCHOOL - THALASSERY, DHSE  BOARD,  2009-2011 MARKS: 87%  B-TECH, COLLEGE OF ENGINEERING VADAKARA (ENGG.COLLEGE UNDER CAPE- ESTD BY GOVT OF KERALA) KOZHIKODE (UNDER CUSAT),  2011-2015 MARKS: 63.5%  PERSONAL DETAILS     Nationality: Indian    Fathers Name: Sasidharan.M    Mothers Name: Beena M    Languages Known: English, Hindi, And Malayalam    Hobbies: Reading, Dance ,Listening to music, handicrafts    Page 3  STRENGTHS    •  Helping Mentality  •  Positive Attitude Towards Life  •  Leadership Quality  •  Quick Leaner    DECLARATION:   I SHANIBA.M do Hereby declare that the above-mentioned details are true to the best of my knowledge and belief.  SHANIBA .M   \n"
          ]
        },
        {
          "output_type": "stream",
          "name": "stderr",
          "text": [
            "Deprecation: 'getText' removed from class 'Page' after v1.19 - use 'get_text'.\n"
          ]
        }
      ]
    },
    {
      "cell_type": "code",
      "metadata": {
        "colab": {
          "base_uri": "https://localhost:8080/"
        },
        "id": "Wekx1vqYHWTb",
        "outputId": "8b803bec-78f9-47e8-c89c-316319f13caf"
      },
      "source": [
        "doc = nlp_model(tx)\n",
        "for ent in doc.ents:\n",
        "    print(f'{ent.label_.upper():{30}}- {ent.text}')"
      ],
      "execution_count": 17,
      "outputs": [
        {
          "output_type": "stream",
          "name": "stdout",
          "text": [
            "DEGREE                        - Photo\n",
            "DEGREE                        - B-tech graduate\n",
            "GRADUATION YEAR               - 2019\n"
          ]
        }
      ]
    },
    {
      "cell_type": "code",
      "metadata": {
        "id": "T9Z64YYL3aoy"
      },
      "source": [
        "#Dictionary creation"
      ],
      "execution_count": 18,
      "outputs": []
    },
    {
      "cell_type": "code",
      "metadata": {
        "id": "XefBrsaZlWyx"
      },
      "source": [
        "dict2 = {\"NAME\":[], \"DEGREE\":[], \"DESIGNATION\":[], \"SKILLS\":[] ,\"COMPANIES WORKED AT\":[],\"COLLEGE NAME\":[], \"LOCATION\":[],\"GRADUATION YEAR\":[],\"EMAIL ADDRESS\":[]}\n",
        "for ent in doc.ents:\n",
        "  dict2[ent.label_.upper()].append(ent.text)"
      ],
      "execution_count": 19,
      "outputs": []
    },
    {
      "cell_type": "code",
      "metadata": {
        "colab": {
          "base_uri": "https://localhost:8080/"
        },
        "id": "R-1CrA8JlxKL",
        "outputId": "0232d2b4-f4e8-4d7e-b42b-0681d9ccf49e"
      },
      "source": [
        "dict2"
      ],
      "execution_count": 20,
      "outputs": [
        {
          "output_type": "execute_result",
          "data": {
            "text/plain": [
              "{'COLLEGE NAME': [],\n",
              " 'COMPANIES WORKED AT': [],\n",
              " 'DEGREE': ['Photo', 'B-tech graduate'],\n",
              " 'DESIGNATION': [],\n",
              " 'EMAIL ADDRESS': [],\n",
              " 'GRADUATION YEAR': ['2019'],\n",
              " 'LOCATION': [],\n",
              " 'NAME': [],\n",
              " 'SKILLS': []}"
            ]
          },
          "metadata": {},
          "execution_count": 20
        }
      ]
    },
    {
      "cell_type": "markdown",
      "metadata": {
        "id": "mg1CAv-MCLYt"
      },
      "source": [
        "# **Resume 3**"
      ]
    },
    {
      "cell_type": "code",
      "metadata": {
        "colab": {
          "base_uri": "https://localhost:8080/"
        },
        "id": "OONv_Tzj_8tH",
        "outputId": "bb1a7a23-dafe-49eb-a4dc-c69b820be359"
      },
      "source": [
        "fname = '/content/Sailesh Earath Krishnan_UI UX_6.5yrs.pdf'\n",
        "doc = fitz.open(fname)\n",
        "text = \"\"\n",
        "for page in doc:\n",
        "    text = text + str(page.getText())\n",
        "tx = \" \".join(text.split('\\n'))\n",
        "print(tx)"
      ],
      "execution_count": 21,
      "outputs": [
        {
          "output_type": "stream",
          "name": "stdout",
          "text": [
            "1    CURRICULUM VITAE        Sailesh Earath Krishnan  Email ID: @gmail.com  Phone: +91   Portfolio:   Skype ID:           OBJECTIVE    To have a challenging long-term career in a good organization where I can apply my skills and  experience and grow up with the company.      QUALIFICATIONS    Course  University  Year  Percentage  MCA  Anna University  2008  69%  B.Sc. Mathematics  Calicut University  2004  42%  Higher Secondary  Govt. of Kerala  2001  53%  SSLC  Govt. of Kerala  1999  60%    SKILLS  ●  Front-end development using HTML, CSS and jQuery.  ●  Responsive Html conversion using Bootstrap framework and media queries.  ●  Template Customization and content updating for WordPress and Joomla websites.  ●  Designing digital contents using Adobe Photoshop, Illustrator, InDesign, and Ceros.  ●  Prototyping using Adobe XD, Figma, Sketch.   ●  Wireframe design using Balsamiq.  ●  Email Marketing (Adestra, Hubspot, Sharpspring).  CAREER EXPERIENCE    Freelancer   UI/Graphics Designer (01/01/2019 to present).    Vtrio Solutions Pvt. Ltd.  Senior Graphics Designer (16/10/2017 to 06/12/2018).  2      Forent Infosolutions Pvt.  Ltd.  Senior Web Designer (15/07/2016 to 12/07/2017).    Wiztelsys Server Technologies Pvt. Ltd.  Senior Ui Designer (05/01/2015 to 31/12/2015).    ThinkPalm Technologies Pvt.  Ltd.  HTML Designer (05/02/2014 to 26/08/2014).    Dreeme Team Web Design Pvt. Ltd.  HTML Designer (18/04/2013 to 30/08/2013).    Magna Infotech Pvt. Ltd.  Web Developer in Wipro Pvt. Ltd. (19/12/2012 to 20/03/2013) contract job.    Bandyworks Pvt. Ltd.  Web Designer (22/12/2011 to 31/10/2012)    Antzmedia Pvt. Ltd.  Web Designer (02/04/2010 to 29/04/2011)    PROJECTS    www.alderholt-technology.co.uk  www.blencowescaffolding.co.uk  www.nealjacobs.co.uk  www.timharrisson.com  www.mollymojo.co.uk  www.babylonschooloflanguages.com  www.jamesbabbworkshops.com  https://tinyurl.com/35py8w8c  (Website designed Using Figma)    PERSONAL DETAILS    Full Name  Sailesh Earath Krishnan  Permanent Address      Present Address    3    Date of Birth  17-03-1984  Marital Status  Married    PAN Card    Aadhaar Number    Passport      CAREER DETAILS    Total Experience  6.5 years  Relevant Experience  6.5 Years  Current CTC    Expected CTC    Notice Period  Immediately  Current location  Cochin  Preferred location  Anywhere    DECLARATION    I declare that the above facts given by me are true to the best of my knowledge.                                                                                                                                                                                                                                                     Sincerely                            SAILESH E K                                                     \n"
          ]
        },
        {
          "output_type": "stream",
          "name": "stderr",
          "text": [
            "Deprecation: 'getText' removed from class 'Page' after v1.19 - use 'get_text'.\n"
          ]
        }
      ]
    },
    {
      "cell_type": "code",
      "metadata": {
        "colab": {
          "base_uri": "https://localhost:8080/"
        },
        "id": "OpHd4kO9AUj8",
        "outputId": "8cf49c67-9e59-4412-ad6c-145da1f973ab"
      },
      "source": [
        "doc = nlp_model(tx)\n",
        "for ent in doc.ents:\n",
        "    print(f'{ent.label_.upper():{30}}- {ent.text}')"
      ],
      "execution_count": 22,
      "outputs": [
        {
          "output_type": "stream",
          "name": "stdout",
          "text": [
            "COLLEGE NAME                  - Anna University\n",
            "DEGREE                        - B.Sc. Mathematics\n",
            "COLLEGE NAME                  - Calicut University\n",
            "GRADUATION YEAR               - 2001\n",
            "GRADUATION YEAR               - 1999\n",
            "DESIGNATION                   - Senior Graphics Designer (\n",
            "DEGREE                        - 6.5 years\n",
            "COLLEGE NAME                  - Relevant Experience\n",
            "DEGREE                        - 6.5 Years\n",
            "COLLEGE NAME                  - Current CTC    Expected CTC    Notice Period\n"
          ]
        }
      ]
    },
    {
      "cell_type": "code",
      "metadata": {
        "id": "yUG-18zt3c4x"
      },
      "source": [
        "#Dictionary creation"
      ],
      "execution_count": 23,
      "outputs": []
    },
    {
      "cell_type": "code",
      "metadata": {
        "id": "ZVeQms2mlc-X"
      },
      "source": [
        "dict3 = {\"NAME\":[], \"DEGREE\":[], \"DESIGNATION\":[], \"SKILLS\":[] ,\"COLLEGE NAME\":[], \"LOCATION\":[],\"GRADUATION YEAR\":[],\"COMPANIES WORKED AT\":[],\"EMAIL ADDRESS\":[]}\n",
        "for ent in doc.ents:\n",
        "  dict3[ent.label_.upper()].append(ent.text)"
      ],
      "execution_count": 24,
      "outputs": []
    },
    {
      "cell_type": "code",
      "metadata": {
        "colab": {
          "base_uri": "https://localhost:8080/"
        },
        "id": "w906EaCDlyzj",
        "outputId": "94a4636a-0b19-4d7d-c50d-f3cc940bc998"
      },
      "source": [
        "dict3"
      ],
      "execution_count": 25,
      "outputs": [
        {
          "output_type": "execute_result",
          "data": {
            "text/plain": [
              "{'COLLEGE NAME': ['Anna University',\n",
              "  'Calicut University',\n",
              "  'Relevant Experience',\n",
              "  'Current CTC    Expected CTC    Notice Period'],\n",
              " 'COMPANIES WORKED AT': [],\n",
              " 'DEGREE': ['B.Sc. Mathematics', '6.5 years', '6.5 Years'],\n",
              " 'DESIGNATION': ['Senior Graphics Designer ('],\n",
              " 'EMAIL ADDRESS': [],\n",
              " 'GRADUATION YEAR': ['2001', '1999'],\n",
              " 'LOCATION': [],\n",
              " 'NAME': [],\n",
              " 'SKILLS': []}"
            ]
          },
          "metadata": {},
          "execution_count": 25
        }
      ]
    },
    {
      "cell_type": "markdown",
      "metadata": {
        "id": "yGzTK2vlCN0b"
      },
      "source": [
        "#**Resume 4**"
      ]
    },
    {
      "cell_type": "code",
      "metadata": {
        "colab": {
          "base_uri": "https://localhost:8080/"
        },
        "id": "y5ETBfJXAY1e",
        "outputId": "47bd6c30-7603-4ea8-ad3e-3028bc47ef60"
      },
      "source": [
        "fname = '/content/Rajesh M_Java_4.2yrs.pdf'\n",
        "doc = fitz.open(fname)\n",
        "text = \"\"\n",
        "for page in doc:\n",
        "    text = text + str(page.getText())\n",
        "tx = \" \".join(text.split('\\n'))\n",
        "print(tx)"
      ],
      "execution_count": 26,
      "outputs": [
        {
          "output_type": "stream",
          "name": "stdout",
          "text": [
            "  Rajesh M  E-mail: @gmail.com  Mobile No: +91     Skill Summary   Over 4 year 2 months of experience in JAVA/J2EE technologies.   Mainly responsible for overall web application development and back end Oracle  PL/SQL development which includes exception handling thereby providing a good  product for IT-people and customers.   Knowledge in spring and Hibernate.   Knowledge in Java technology using JSP and Servlet architecture.   Knowledge in core java with oops concept.   Knowledge in JavaScript, HTML, CSS, JQuery.   Good working knowledge on Application development and maintenance life cycle  process.   Good working knowledge Oracle database with PL/SQL.   Ability to learn new concepts and to adapt to new environments.    Skill Sets   Programming Languages    : Java    Technologies                :J2EE    Server-side Scripting             : JSP, Servlet   Client-side Scripting                           :JavaScript, Ajax, JQuery       Frameworks                    : Spring, Hibernate.   Scripting Languages     : HTML, CSS, JavaScript, and JQuery.   Servers                                                : Tomcat 8   Data Base                     : Oracle 11G.   Development IDEs      : Eclipse 4.6.   Operating Systems       : windows XP, windows 7, windows 8    Job Summary       Volante Technology, Chennai from June 2020 to till date    Ducont India Systems Private Limited, Chennai from Nov 2017 to Jan 2020.    Zylog Systems Ltd, Chennai from Dec 2016 to Oct 2017.      Education   MCA from Jeppiaar Engineering College, Chennai, in June 2015   With aggregate of 68 %.   BSC (Comp.S5cience) from S.C.P.Jain College Minjur, in April 2012   With aggregate of 68 %.    Professional Experience              Project 1:    Project name  :  Cheque Truncation System  Client     :  Standard Chartered Bank.  Team size    :  7 members       Role            :  Junior Software programmer    Technologies  :  Servlet, Java, Oracle, JSP, JavaScript, CSS, HTML, SVN.         Project Description:    The Cheque Truncation System is mainly used for clear the customer cheques in  the daily basis. This Product mainly based on three modules called Capturing  Application, Outward, and Inward. The Capturing application is used to scanning the  customer cheques in the regular interval. After Scanning the images and corresponding  data’s of the images (in the XML format) will be stored in the specific location. After one  service will pick those files and insert into the database. Then through UI we can read the  data and verify the data’s using corresponding images. Finally the verified data’s will be  sending to RBI in XML format with in RBI cut off time. Then RBI will take those files  and will send it to the corresponding banks. This process is called outward. Second  process is inward; in this process RBI first will put the data files in the centralized server.  Our application service picks those files and parses. Then finally insert into the database.  Then Data Entry users and other admin users will check the customer’s data, signature  then finally the customer will get credit amount into their accounts. The below important  Modules and services we are using in this application.     Capturing Application   Outward Clearing   Inward Clearing   Inward and Outward Return Processing   Signature Verification     Role and Responsibilities:     Responsible for developing UI for the application using JSP, JavaScript, CSS.   Responsible for developing Business logic and Backend coding for the  application using Java and oracle PL/SQL development   Responsible for unit testing for overall project    Responsible for deployment of application in Apache Tomcat                    Project 2:    Project name  :   OTP Engine (Web service) &  Back office Module (Web application)              Client     :    ADCB Bank (UAE)  Team size    :   3 members       Role            :  Junior Software programmer    Technologies   :   Spring, Hibernate, Java, Oracle, JSP, JavaScript,                                            JQuery, HTML, CSS, SVN                   Project Description:        OTP Generation and validation is done by web service and configurations  of OTP Engine is done by Back office module.      Role and Responsibilities:     Responsible for developing UI for the application using JSP, JavaScript, CSS.   Responsible for developing Business logic and Backend coding for the  application using Spring, Hibernate and oracle PL/SQL development   Responsible for unit testing for overall project    Responsible for deployment of application in Apache Tomcat                  Project 3:    Project name  :   Fleet Management System              Client     :    Aditya Vidyashram - Residential School  Team size    :   5 members       Role            :  Junior Software programmer    Technologies   :   Spring, Hibernate, Java, Oracle, JSP, JavaScript, JQuery,                                                                              CSS, HTML, SVN  Project Description:    Fleet Management System using GPS. This application is mainly used for  monitoring the status of vehicles in live and also see route history of vehicle. Main  advantages is alert system. There are some alerts like ignition, geo fence, speed, idle, off  line alerts. Creating different alerts for vehicle to get alert log in alert monitor screen and  also generate report for vehicles.        .             Role and Responsibilities:     Responsible for developing UI for the application using JSP, JavaScript, CSS.   Responsible for developing Business logic and Backend coding for the  application using Spring, Hibernate and oracle PL/SQL development   Responsible for unit testing for overall project    Responsible for deployment of application in Apache Tomcat          Project 4:    Project name  :   Sohar Bank Mobile Application (Web service)               Client     :    Sohar Bank (UAE)  Team size    :   3 members       Role            :  Junior Software programmer    Technologies   :   Spring, Hibernate, Java, Oracle,SVN                                                       Project Description:        Mobile Application with features of debit and prepaid card details with  card transaction ,card block ,push notification ,Fund transaction etc and  validation is done by web service.      Role and Responsibilities:     Responsible for developing Business logic and Backend coding for the  application using Spring, Hibernate and oracle PL/SQL development   Responsible for unit testing for overall project   Responsible for deployment of application in Apache Tomcat  Profile       NAME                   :  RAJESH M        D.O.B                   :  26-01-1992        GENDER                     :  MALE        FATHER NAME                 :  MATHIYALAGAN.B        ADDRESS                     :        LANGUAGES KNOWN     : English, Tamil  Declaration:  I do hereby confirm that the information given in this form is true to the best of my knowledge and  belief.  Place: Chennai   Date:                         (RAJESH.M)  \n"
          ]
        },
        {
          "output_type": "stream",
          "name": "stderr",
          "text": [
            "Deprecation: 'getText' removed from class 'Page' after v1.19 - use 'get_text'.\n"
          ]
        }
      ]
    },
    {
      "cell_type": "code",
      "metadata": {
        "colab": {
          "base_uri": "https://localhost:8080/"
        },
        "id": "MdIyFSedAs1t",
        "outputId": "567fe087-5b75-4667-a8c3-3b1b8b3fcee6"
      },
      "source": [
        "doc = nlp_model(tx)\n",
        "for ent in doc.ents:\n",
        "    print(f'{ent.label_.upper():{30}}- {ent.text}')"
      ],
      "execution_count": 27,
      "outputs": [
        {
          "output_type": "stream",
          "name": "stdout",
          "text": [
            "DEGREE                        - Rajesh M\n",
            "COLLEGE NAME                  -  MCA from Jeppiaar Engineering College, Chennai, in June 2015\n",
            "COLLEGE NAME                  - data’s of the images (in the XML format)\n",
            "DEGREE                        - OTP Engine\n"
          ]
        }
      ]
    },
    {
      "cell_type": "code",
      "metadata": {
        "id": "ZRohpQsPdTtO"
      },
      "source": [
        "#Dictionary creation"
      ],
      "execution_count": 28,
      "outputs": []
    },
    {
      "cell_type": "code",
      "metadata": {
        "id": "A9c5_bbj4xBo"
      },
      "source": [
        "dict4 = {\"DEGREE\":[], \"NAME\":[], \"COLLEGE NAME\":[], \"SKILLS\":[],\"GRADUATION YEAR\":[],\"EMAIL ADDRESS\":[],\"LOCATION\":[],\"COMPANIES WORKED AT\":[],\"DESIGNATION\":[]}\n",
        "for ent in doc.ents:\n",
        "    dict4[ent.label_.upper()].append(ent.text)"
      ],
      "execution_count": 29,
      "outputs": []
    },
    {
      "cell_type": "code",
      "metadata": {
        "colab": {
          "base_uri": "https://localhost:8080/"
        },
        "id": "g0VM2wWjlmj8",
        "outputId": "2447371a-a27f-4bab-f78d-70c54eab3439"
      },
      "source": [
        "dict4"
      ],
      "execution_count": 30,
      "outputs": [
        {
          "output_type": "execute_result",
          "data": {
            "text/plain": [
              "{'COLLEGE NAME': ['\\uf0b7 MCA from Jeppiaar Engineering College, Chennai, in June 2015',\n",
              "  'data’s of the images (in the XML format)'],\n",
              " 'COMPANIES WORKED AT': [],\n",
              " 'DEGREE': ['Rajesh M', 'OTP Engine'],\n",
              " 'DESIGNATION': [],\n",
              " 'EMAIL ADDRESS': [],\n",
              " 'GRADUATION YEAR': [],\n",
              " 'LOCATION': [],\n",
              " 'NAME': [],\n",
              " 'SKILLS': []}"
            ]
          },
          "metadata": {},
          "execution_count": 30
        }
      ]
    },
    {
      "cell_type": "markdown",
      "metadata": {
        "id": "KTnoWfuWCQWs"
      },
      "source": [
        "#**Resume 5**"
      ]
    },
    {
      "cell_type": "code",
      "metadata": {
        "colab": {
          "base_uri": "https://localhost:8080/"
        },
        "id": "ggFewihtAz9n",
        "outputId": "f45e8ec5-c284-445b-9838-4735b969aa81"
      },
      "source": [
        "fname = '/content/Mohanapriya Meganathan_C++_5.5Yrs.pdf'\n",
        "doc = fitz.open(fname)\n",
        "text = \"\"\n",
        "for page in doc:\n",
        "    text = text + str(page.getText())\n",
        "tx = \" \".join(text.split('\\n'))\n",
        "print(tx)"
      ],
      "execution_count": 31,
      "outputs": [
        {
          "output_type": "stream",
          "name": "stdout",
          "text": [
            "  Mohanapriya Meganathan             Phone: +91-        Email: @gmail.com    Total IT Experience: 5.5 years    PROFESSIONAL SYNOPSIS  Pursue a job to excel in my professional career and take up challenges that will bring out the best of my  technical and academic skills which in turn will contribute towards the benefit and growth of the organization.   WORK EXPERIENCE  HCL Technologies India Private Limited                                      Sep 2016 – July 2020     Lead Engineer  Huawei Technologies India Private Limited, Bangalore (Contractor)                   Jan 2015 - July 2016  Associate Software Engineer   EDUCATION  T.J.S Engineering College, Chennai              April 2014  B.E   Electronics and Communication Engineering   Infant Jesus, Manali                  March 2010  HSC  S.G.B.C Vivekananda Vidyalaya, Minjur             April 2008  SSLC  TECHNICAL SKILLS  Programming Languages :  C, C++  Scripting Languages  :  Python   Operating System  :  Windows, Linux   Database    :  SQL  Tools      :  Rational Clear quest, VNC Viewer, SVN Tortoise     AWARDS & RECOGNITION    Got Best Performance Award in the month of Feb 2017 and July 2018 in HCL Technologies Private Limited.    Got Best Developer Award in the month of October 2015 in Huawei Technologies Private Limited.    Got 50th University Rank in Electronics and Communication Department in Anna University.    Presented a paper on Wireless technologies coexistence and interference avoiding solutions in SRM Valliammai  college symposium and Magna ECE and Veltech IT conferences.    Received cash awards for being Class level topper in three consecutive years of engineering examination    Preparing for CompTIA Security+ exam to get certified and enrich the knowledge on security.    PROJECTS    XEROX DISCOVERY SFR (CUSTOMIZATION -Software Feature Request)       Client: Xerox Corporation  Technical Skills: C, C++, Linux, SQL               September 2016 – July 2020  The SFR or the customization project deals with the software development of Xerox office printers.   This involves development of new features as per current technology and customer needs. Enhancement of existing  features is also a part of the project. It is highly challenging project that delivered number of innovative features and  making sure those are aligned properly with the existing printer applications.  Role:    Designing and Developing requirements given by client team.    Perform unit testing and update the test matrix with results.    Promoting code after getting approval from the expertise.    Mentoring and training up junior and new resources.  Important Features Developed:    Worked in Protocol Implementation of Thin Print and Secure Implementation of POP3 and SMTP.    Resolved Openssl bugs in Stunnel (Open Source) which is used to improve the Security in Protocols.  Convergent Billing System                    Client: Airtel  Technical Skills: C, C++, Linux, SQL                          January 2015 – July 2016  Convergent Billing System is charging module used to bill for prepaid and postpaid customers. This involves feature  development to the individual users and to normal users.  Role:    Designing and Developing requirements given by client team.    Writing SQL query to access the data for the above Module.    Build Package and deploy in test environment.  TRAININGS    Completed training in UNIQ TECHNOLOGIES on basics of website development, Photoshop and HTML tags.    Had training for Six months in C in the Institute, Surabee school of Electronics.  PERSONAL DETAILS  Father’s Name  : E. Meganathan  Marital Status  : Married  Gender    : Female  Date of Birth   : 22 July 1993  Languages Known  : English, Tamil  Permanent Address  :     DECLARATION  I hereby declare that the information furnished above is true to the best of my knowledge.   Chennai                 (M. Mohanapriya)  \n"
          ]
        },
        {
          "output_type": "stream",
          "name": "stderr",
          "text": [
            "Deprecation: 'getText' removed from class 'Page' after v1.19 - use 'get_text'.\n"
          ]
        }
      ]
    },
    {
      "cell_type": "code",
      "metadata": {
        "colab": {
          "base_uri": "https://localhost:8080/"
        },
        "id": "zAg_FdUCBAuE",
        "outputId": "74fd86bb-5c08-4e61-d6d3-9287ebe05de1"
      },
      "source": [
        "doc = nlp_model(tx)\n",
        "for ent in doc.ents:\n",
        "    print(f'{ent.label_.upper():{30}}- {ent.text}')"
      ],
      "execution_count": 32,
      "outputs": [
        {
          "output_type": "stream",
          "name": "stdout",
          "text": [
            "COLLEGE NAME                  - Mohanapriya Meganathan             Phone: +91-        Email: @gmail.com    Total IT Experience: 5.5 years\n",
            "COLLEGE NAME                  - Associate Software Engineer\n",
            "COLLEGE NAME                  - T.J.S Engineering College, Chennai\n",
            "DEGREE                        - B.E\n",
            "DEGREE                        - Electronics and Communication Engineering\n",
            "GRADUATION YEAR               - 2010\n"
          ]
        }
      ]
    },
    {
      "cell_type": "code",
      "metadata": {
        "id": "k5NCynpV23sJ"
      },
      "source": [
        "#Dictionary creation"
      ],
      "execution_count": 33,
      "outputs": []
    },
    {
      "cell_type": "code",
      "metadata": {
        "id": "NvVtRVPCljY_"
      },
      "source": [
        "dict5 = {\"NAME\":[], \"DEGREE\":[], \"DESIGNATION\":[], \"SKILLS\":[] ,\"COLLEGE NAME\":[], \"LOCATION\":[],\"GRADUATION YEAR\":[],\"COMPANIES WORKED AT\":[],\"EMAIL ADDRESS\":[]}\n",
        "for ent in doc.ents:\n",
        "  dict5[ent.label_.upper()].append(ent.text)"
      ],
      "execution_count": 34,
      "outputs": []
    },
    {
      "cell_type": "code",
      "metadata": {
        "colab": {
          "base_uri": "https://localhost:8080/"
        },
        "id": "ag-dyUE2lxhH",
        "outputId": "e642675c-0ecc-4d95-8994-f206f298753e"
      },
      "source": [
        "dict5"
      ],
      "execution_count": 35,
      "outputs": [
        {
          "output_type": "execute_result",
          "data": {
            "text/plain": [
              "{'COLLEGE NAME': ['Mohanapriya Meganathan             Phone: +91-        Email: @gmail.com    Total IT Experience: 5.5 years',\n",
              "  'Associate Software Engineer',\n",
              "  'T.J.S Engineering College, Chennai'],\n",
              " 'COMPANIES WORKED AT': [],\n",
              " 'DEGREE': ['B.E', 'Electronics and Communication Engineering'],\n",
              " 'DESIGNATION': [],\n",
              " 'EMAIL ADDRESS': [],\n",
              " 'GRADUATION YEAR': ['2010'],\n",
              " 'LOCATION': [],\n",
              " 'NAME': [],\n",
              " 'SKILLS': []}"
            ]
          },
          "metadata": {},
          "execution_count": 35
        }
      ]
    },
    {
      "cell_type": "markdown",
      "metadata": {
        "id": "JbQxygT-hcej"
      },
      "source": [
        "Above five resumes are used to test our model. For that each resume is passed though the model and the extracted data is stored in a dictionary for the future use."
      ]
    },
    {
      "cell_type": "markdown",
      "metadata": {
        "id": "dNphWsKtIbSC"
      },
      "source": [
        "#Create dataframe using first dictionary"
      ]
    },
    {
      "cell_type": "code",
      "metadata": {
        "id": "yds1xGBCIawq"
      },
      "source": [
        "new = pd.DataFrame.from_dict(dict1, orient='index')"
      ],
      "execution_count": 36,
      "outputs": []
    },
    {
      "cell_type": "code",
      "metadata": {
        "colab": {
          "base_uri": "https://localhost:8080/",
          "height": 0
        },
        "id": "44QlZ9luJDSH",
        "outputId": "e8afe2f3-667f-4be4-b5c4-e2b5bc783639"
      },
      "source": [
        "new"
      ],
      "execution_count": 37,
      "outputs": [
        {
          "output_type": "execute_result",
          "data": {
            "text/html": [
              "\n",
              "  <div id=\"df-622d56cc-241c-4bc5-9033-4bcc3614c828\">\n",
              "    <div class=\"colab-df-container\">\n",
              "      <div>\n",
              "<style scoped>\n",
              "    .dataframe tbody tr th:only-of-type {\n",
              "        vertical-align: middle;\n",
              "    }\n",
              "\n",
              "    .dataframe tbody tr th {\n",
              "        vertical-align: top;\n",
              "    }\n",
              "\n",
              "    .dataframe thead th {\n",
              "        text-align: right;\n",
              "    }\n",
              "</style>\n",
              "<table border=\"1\" class=\"dataframe\">\n",
              "  <thead>\n",
              "    <tr style=\"text-align: right;\">\n",
              "      <th></th>\n",
              "      <th>0</th>\n",
              "      <th>1</th>\n",
              "      <th>2</th>\n",
              "      <th>3</th>\n",
              "    </tr>\n",
              "  </thead>\n",
              "  <tbody>\n",
              "    <tr>\n",
              "      <th>NAME</th>\n",
              "      <td>None</td>\n",
              "      <td>None</td>\n",
              "      <td>None</td>\n",
              "      <td>None</td>\n",
              "    </tr>\n",
              "    <tr>\n",
              "      <th>DEGREE</th>\n",
              "      <td>Developer</td>\n",
              "      <td>None</td>\n",
              "      <td>None</td>\n",
              "      <td>None</td>\n",
              "    </tr>\n",
              "    <tr>\n",
              "      <th>DESIGNATION</th>\n",
              "      <td>Software Engineer</td>\n",
              "      <td>IIS Express</td>\n",
              "      <td>Project Name</td>\n",
              "      <td>Hr Software</td>\n",
              "    </tr>\n",
              "    <tr>\n",
              "      <th>SKILLS</th>\n",
              "      <td>None</td>\n",
              "      <td>None</td>\n",
              "      <td>None</td>\n",
              "      <td>None</td>\n",
              "    </tr>\n",
              "    <tr>\n",
              "      <th>COLLEGE NAME</th>\n",
              "      <td>Hr Software        Project</td>\n",
              "      <td>None</td>\n",
              "      <td>None</td>\n",
              "      <td>None</td>\n",
              "    </tr>\n",
              "    <tr>\n",
              "      <th>LOCATION</th>\n",
              "      <td>None</td>\n",
              "      <td>None</td>\n",
              "      <td>None</td>\n",
              "      <td>None</td>\n",
              "    </tr>\n",
              "    <tr>\n",
              "      <th>GRADUATION YEAR</th>\n",
              "      <td>2014</td>\n",
              "      <td>2018</td>\n",
              "      <td>None</td>\n",
              "      <td>None</td>\n",
              "    </tr>\n",
              "    <tr>\n",
              "      <th>COMPANIES WORKED AT</th>\n",
              "      <td>Engineer</td>\n",
              "      <td>None</td>\n",
              "      <td>None</td>\n",
              "      <td>None</td>\n",
              "    </tr>\n",
              "    <tr>\n",
              "      <th>EMAIL ADDRESS</th>\n",
              "      <td>None</td>\n",
              "      <td>None</td>\n",
              "      <td>None</td>\n",
              "      <td>None</td>\n",
              "    </tr>\n",
              "  </tbody>\n",
              "</table>\n",
              "</div>\n",
              "      <button class=\"colab-df-convert\" onclick=\"convertToInteractive('df-622d56cc-241c-4bc5-9033-4bcc3614c828')\"\n",
              "              title=\"Convert this dataframe to an interactive table.\"\n",
              "              style=\"display:none;\">\n",
              "        \n",
              "  <svg xmlns=\"http://www.w3.org/2000/svg\" height=\"24px\"viewBox=\"0 0 24 24\"\n",
              "       width=\"24px\">\n",
              "    <path d=\"M0 0h24v24H0V0z\" fill=\"none\"/>\n",
              "    <path d=\"M18.56 5.44l.94 2.06.94-2.06 2.06-.94-2.06-.94-.94-2.06-.94 2.06-2.06.94zm-11 1L8.5 8.5l.94-2.06 2.06-.94-2.06-.94L8.5 2.5l-.94 2.06-2.06.94zm10 10l.94 2.06.94-2.06 2.06-.94-2.06-.94-.94-2.06-.94 2.06-2.06.94z\"/><path d=\"M17.41 7.96l-1.37-1.37c-.4-.4-.92-.59-1.43-.59-.52 0-1.04.2-1.43.59L10.3 9.45l-7.72 7.72c-.78.78-.78 2.05 0 2.83L4 21.41c.39.39.9.59 1.41.59.51 0 1.02-.2 1.41-.59l7.78-7.78 2.81-2.81c.8-.78.8-2.07 0-2.86zM5.41 20L4 18.59l7.72-7.72 1.47 1.35L5.41 20z\"/>\n",
              "  </svg>\n",
              "      </button>\n",
              "      \n",
              "  <style>\n",
              "    .colab-df-container {\n",
              "      display:flex;\n",
              "      flex-wrap:wrap;\n",
              "      gap: 12px;\n",
              "    }\n",
              "\n",
              "    .colab-df-convert {\n",
              "      background-color: #E8F0FE;\n",
              "      border: none;\n",
              "      border-radius: 50%;\n",
              "      cursor: pointer;\n",
              "      display: none;\n",
              "      fill: #1967D2;\n",
              "      height: 32px;\n",
              "      padding: 0 0 0 0;\n",
              "      width: 32px;\n",
              "    }\n",
              "\n",
              "    .colab-df-convert:hover {\n",
              "      background-color: #E2EBFA;\n",
              "      box-shadow: 0px 1px 2px rgba(60, 64, 67, 0.3), 0px 1px 3px 1px rgba(60, 64, 67, 0.15);\n",
              "      fill: #174EA6;\n",
              "    }\n",
              "\n",
              "    [theme=dark] .colab-df-convert {\n",
              "      background-color: #3B4455;\n",
              "      fill: #D2E3FC;\n",
              "    }\n",
              "\n",
              "    [theme=dark] .colab-df-convert:hover {\n",
              "      background-color: #434B5C;\n",
              "      box-shadow: 0px 1px 3px 1px rgba(0, 0, 0, 0.15);\n",
              "      filter: drop-shadow(0px 1px 2px rgba(0, 0, 0, 0.3));\n",
              "      fill: #FFFFFF;\n",
              "    }\n",
              "  </style>\n",
              "\n",
              "      <script>\n",
              "        const buttonEl =\n",
              "          document.querySelector('#df-622d56cc-241c-4bc5-9033-4bcc3614c828 button.colab-df-convert');\n",
              "        buttonEl.style.display =\n",
              "          google.colab.kernel.accessAllowed ? 'block' : 'none';\n",
              "\n",
              "        async function convertToInteractive(key) {\n",
              "          const element = document.querySelector('#df-622d56cc-241c-4bc5-9033-4bcc3614c828');\n",
              "          const dataTable =\n",
              "            await google.colab.kernel.invokeFunction('convertToInteractive',\n",
              "                                                     [key], {});\n",
              "          if (!dataTable) return;\n",
              "\n",
              "          const docLinkHtml = 'Like what you see? Visit the ' +\n",
              "            '<a target=\"_blank\" href=https://colab.research.google.com/notebooks/data_table.ipynb>data table notebook</a>'\n",
              "            + ' to learn more about interactive tables.';\n",
              "          element.innerHTML = '';\n",
              "          dataTable['output_type'] = 'display_data';\n",
              "          await google.colab.output.renderOutput(dataTable, element);\n",
              "          const docLink = document.createElement('div');\n",
              "          docLink.innerHTML = docLinkHtml;\n",
              "          element.appendChild(docLink);\n",
              "        }\n",
              "      </script>\n",
              "    </div>\n",
              "  </div>\n",
              "  "
            ],
            "text/plain": [
              "                                              0  ...            3\n",
              "NAME                                       None  ...         None\n",
              "DEGREE                                Developer  ...         None\n",
              "DESIGNATION                   Software Engineer  ...  Hr Software\n",
              "SKILLS                                     None  ...         None\n",
              "COLLEGE NAME         Hr Software        Project  ...         None\n",
              "LOCATION                                   None  ...         None\n",
              "GRADUATION YEAR                            2014  ...         None\n",
              "COMPANIES WORKED AT                    Engineer  ...         None\n",
              "EMAIL ADDRESS                              None  ...         None\n",
              "\n",
              "[9 rows x 4 columns]"
            ]
          },
          "metadata": {},
          "execution_count": 37
        }
      ]
    },
    {
      "cell_type": "code",
      "metadata": {
        "id": "h3ArrgQSJERR"
      },
      "source": [
        "#Changing row data to column data in a dataframe\n",
        "\n",
        "df = new.transpose()"
      ],
      "execution_count": 38,
      "outputs": []
    },
    {
      "cell_type": "code",
      "metadata": {
        "id": "zE2MJRTnaHKZ",
        "colab": {
          "base_uri": "https://localhost:8080/",
          "height": 0
        },
        "outputId": "50c9a13f-7827-42f8-e96e-359d42911df2"
      },
      "source": [
        "df"
      ],
      "execution_count": 39,
      "outputs": [
        {
          "output_type": "execute_result",
          "data": {
            "text/html": [
              "\n",
              "  <div id=\"df-454508dc-f0e6-480e-b78c-ebb99c4cbb2a\">\n",
              "    <div class=\"colab-df-container\">\n",
              "      <div>\n",
              "<style scoped>\n",
              "    .dataframe tbody tr th:only-of-type {\n",
              "        vertical-align: middle;\n",
              "    }\n",
              "\n",
              "    .dataframe tbody tr th {\n",
              "        vertical-align: top;\n",
              "    }\n",
              "\n",
              "    .dataframe thead th {\n",
              "        text-align: right;\n",
              "    }\n",
              "</style>\n",
              "<table border=\"1\" class=\"dataframe\">\n",
              "  <thead>\n",
              "    <tr style=\"text-align: right;\">\n",
              "      <th></th>\n",
              "      <th>NAME</th>\n",
              "      <th>DEGREE</th>\n",
              "      <th>DESIGNATION</th>\n",
              "      <th>SKILLS</th>\n",
              "      <th>COLLEGE NAME</th>\n",
              "      <th>LOCATION</th>\n",
              "      <th>GRADUATION YEAR</th>\n",
              "      <th>COMPANIES WORKED AT</th>\n",
              "      <th>EMAIL ADDRESS</th>\n",
              "    </tr>\n",
              "  </thead>\n",
              "  <tbody>\n",
              "    <tr>\n",
              "      <th>0</th>\n",
              "      <td>None</td>\n",
              "      <td>Developer</td>\n",
              "      <td>Software Engineer</td>\n",
              "      <td>None</td>\n",
              "      <td>Hr Software        Project</td>\n",
              "      <td>None</td>\n",
              "      <td>2014</td>\n",
              "      <td>Engineer</td>\n",
              "      <td>None</td>\n",
              "    </tr>\n",
              "    <tr>\n",
              "      <th>1</th>\n",
              "      <td>None</td>\n",
              "      <td>None</td>\n",
              "      <td>IIS Express</td>\n",
              "      <td>None</td>\n",
              "      <td>None</td>\n",
              "      <td>None</td>\n",
              "      <td>2018</td>\n",
              "      <td>None</td>\n",
              "      <td>None</td>\n",
              "    </tr>\n",
              "    <tr>\n",
              "      <th>2</th>\n",
              "      <td>None</td>\n",
              "      <td>None</td>\n",
              "      <td>Project Name</td>\n",
              "      <td>None</td>\n",
              "      <td>None</td>\n",
              "      <td>None</td>\n",
              "      <td>None</td>\n",
              "      <td>None</td>\n",
              "      <td>None</td>\n",
              "    </tr>\n",
              "    <tr>\n",
              "      <th>3</th>\n",
              "      <td>None</td>\n",
              "      <td>None</td>\n",
              "      <td>Hr Software</td>\n",
              "      <td>None</td>\n",
              "      <td>None</td>\n",
              "      <td>None</td>\n",
              "      <td>None</td>\n",
              "      <td>None</td>\n",
              "      <td>None</td>\n",
              "    </tr>\n",
              "  </tbody>\n",
              "</table>\n",
              "</div>\n",
              "      <button class=\"colab-df-convert\" onclick=\"convertToInteractive('df-454508dc-f0e6-480e-b78c-ebb99c4cbb2a')\"\n",
              "              title=\"Convert this dataframe to an interactive table.\"\n",
              "              style=\"display:none;\">\n",
              "        \n",
              "  <svg xmlns=\"http://www.w3.org/2000/svg\" height=\"24px\"viewBox=\"0 0 24 24\"\n",
              "       width=\"24px\">\n",
              "    <path d=\"M0 0h24v24H0V0z\" fill=\"none\"/>\n",
              "    <path d=\"M18.56 5.44l.94 2.06.94-2.06 2.06-.94-2.06-.94-.94-2.06-.94 2.06-2.06.94zm-11 1L8.5 8.5l.94-2.06 2.06-.94-2.06-.94L8.5 2.5l-.94 2.06-2.06.94zm10 10l.94 2.06.94-2.06 2.06-.94-2.06-.94-.94-2.06-.94 2.06-2.06.94z\"/><path d=\"M17.41 7.96l-1.37-1.37c-.4-.4-.92-.59-1.43-.59-.52 0-1.04.2-1.43.59L10.3 9.45l-7.72 7.72c-.78.78-.78 2.05 0 2.83L4 21.41c.39.39.9.59 1.41.59.51 0 1.02-.2 1.41-.59l7.78-7.78 2.81-2.81c.8-.78.8-2.07 0-2.86zM5.41 20L4 18.59l7.72-7.72 1.47 1.35L5.41 20z\"/>\n",
              "  </svg>\n",
              "      </button>\n",
              "      \n",
              "  <style>\n",
              "    .colab-df-container {\n",
              "      display:flex;\n",
              "      flex-wrap:wrap;\n",
              "      gap: 12px;\n",
              "    }\n",
              "\n",
              "    .colab-df-convert {\n",
              "      background-color: #E8F0FE;\n",
              "      border: none;\n",
              "      border-radius: 50%;\n",
              "      cursor: pointer;\n",
              "      display: none;\n",
              "      fill: #1967D2;\n",
              "      height: 32px;\n",
              "      padding: 0 0 0 0;\n",
              "      width: 32px;\n",
              "    }\n",
              "\n",
              "    .colab-df-convert:hover {\n",
              "      background-color: #E2EBFA;\n",
              "      box-shadow: 0px 1px 2px rgba(60, 64, 67, 0.3), 0px 1px 3px 1px rgba(60, 64, 67, 0.15);\n",
              "      fill: #174EA6;\n",
              "    }\n",
              "\n",
              "    [theme=dark] .colab-df-convert {\n",
              "      background-color: #3B4455;\n",
              "      fill: #D2E3FC;\n",
              "    }\n",
              "\n",
              "    [theme=dark] .colab-df-convert:hover {\n",
              "      background-color: #434B5C;\n",
              "      box-shadow: 0px 1px 3px 1px rgba(0, 0, 0, 0.15);\n",
              "      filter: drop-shadow(0px 1px 2px rgba(0, 0, 0, 0.3));\n",
              "      fill: #FFFFFF;\n",
              "    }\n",
              "  </style>\n",
              "\n",
              "      <script>\n",
              "        const buttonEl =\n",
              "          document.querySelector('#df-454508dc-f0e6-480e-b78c-ebb99c4cbb2a button.colab-df-convert');\n",
              "        buttonEl.style.display =\n",
              "          google.colab.kernel.accessAllowed ? 'block' : 'none';\n",
              "\n",
              "        async function convertToInteractive(key) {\n",
              "          const element = document.querySelector('#df-454508dc-f0e6-480e-b78c-ebb99c4cbb2a');\n",
              "          const dataTable =\n",
              "            await google.colab.kernel.invokeFunction('convertToInteractive',\n",
              "                                                     [key], {});\n",
              "          if (!dataTable) return;\n",
              "\n",
              "          const docLinkHtml = 'Like what you see? Visit the ' +\n",
              "            '<a target=\"_blank\" href=https://colab.research.google.com/notebooks/data_table.ipynb>data table notebook</a>'\n",
              "            + ' to learn more about interactive tables.';\n",
              "          element.innerHTML = '';\n",
              "          dataTable['output_type'] = 'display_data';\n",
              "          await google.colab.output.renderOutput(dataTable, element);\n",
              "          const docLink = document.createElement('div');\n",
              "          docLink.innerHTML = docLinkHtml;\n",
              "          element.appendChild(docLink);\n",
              "        }\n",
              "      </script>\n",
              "    </div>\n",
              "  </div>\n",
              "  "
            ],
            "text/plain": [
              "   NAME     DEGREE  ... COMPANIES WORKED AT EMAIL ADDRESS\n",
              "0  None  Developer  ...            Engineer          None\n",
              "1  None       None  ...                None          None\n",
              "2  None       None  ...                None          None\n",
              "3  None       None  ...                None          None\n",
              "\n",
              "[4 rows x 9 columns]"
            ]
          },
          "metadata": {},
          "execution_count": 39
        }
      ]
    },
    {
      "cell_type": "markdown",
      "metadata": {
        "id": "s_1wg5chIuQ1"
      },
      "source": [
        "#Add remaining dictionary to dataframe"
      ]
    },
    {
      "cell_type": "code",
      "metadata": {
        "id": "zh3k_NCKXMYo"
      },
      "source": [
        "output = df.append(dict2, ignore_index=True)"
      ],
      "execution_count": 40,
      "outputs": []
    },
    {
      "cell_type": "code",
      "metadata": {
        "id": "MA12NmRJXY7N"
      },
      "source": [
        "output1 = output.append(dict3, ignore_index=True)"
      ],
      "execution_count": 41,
      "outputs": []
    },
    {
      "cell_type": "code",
      "metadata": {
        "id": "E3x6z7M9XmvF"
      },
      "source": [
        "output2 = output1.append(dict4, ignore_index=True)"
      ],
      "execution_count": 42,
      "outputs": []
    },
    {
      "cell_type": "code",
      "metadata": {
        "id": "2OgKXvJuXpYW"
      },
      "source": [
        "output3 = output2.append(dict5, ignore_index=True)"
      ],
      "execution_count": 43,
      "outputs": []
    },
    {
      "cell_type": "code",
      "metadata": {
        "colab": {
          "base_uri": "https://localhost:8080/",
          "height": 413
        },
        "id": "5i-QxmyJXsCP",
        "outputId": "629258d3-5194-4ec3-d8e6-c0b0a9d219c9"
      },
      "source": [
        "output3"
      ],
      "execution_count": 44,
      "outputs": [
        {
          "output_type": "execute_result",
          "data": {
            "text/html": [
              "\n",
              "  <div id=\"df-69b03760-af77-4d5c-a234-6ccb3d7bbbfe\">\n",
              "    <div class=\"colab-df-container\">\n",
              "      <div>\n",
              "<style scoped>\n",
              "    .dataframe tbody tr th:only-of-type {\n",
              "        vertical-align: middle;\n",
              "    }\n",
              "\n",
              "    .dataframe tbody tr th {\n",
              "        vertical-align: top;\n",
              "    }\n",
              "\n",
              "    .dataframe thead th {\n",
              "        text-align: right;\n",
              "    }\n",
              "</style>\n",
              "<table border=\"1\" class=\"dataframe\">\n",
              "  <thead>\n",
              "    <tr style=\"text-align: right;\">\n",
              "      <th></th>\n",
              "      <th>NAME</th>\n",
              "      <th>DEGREE</th>\n",
              "      <th>DESIGNATION</th>\n",
              "      <th>SKILLS</th>\n",
              "      <th>COLLEGE NAME</th>\n",
              "      <th>LOCATION</th>\n",
              "      <th>GRADUATION YEAR</th>\n",
              "      <th>COMPANIES WORKED AT</th>\n",
              "      <th>EMAIL ADDRESS</th>\n",
              "    </tr>\n",
              "  </thead>\n",
              "  <tbody>\n",
              "    <tr>\n",
              "      <th>0</th>\n",
              "      <td>None</td>\n",
              "      <td>Developer</td>\n",
              "      <td>Software Engineer</td>\n",
              "      <td>None</td>\n",
              "      <td>Hr Software        Project</td>\n",
              "      <td>None</td>\n",
              "      <td>2014</td>\n",
              "      <td>Engineer</td>\n",
              "      <td>None</td>\n",
              "    </tr>\n",
              "    <tr>\n",
              "      <th>1</th>\n",
              "      <td>None</td>\n",
              "      <td>None</td>\n",
              "      <td>IIS Express</td>\n",
              "      <td>None</td>\n",
              "      <td>None</td>\n",
              "      <td>None</td>\n",
              "      <td>2018</td>\n",
              "      <td>None</td>\n",
              "      <td>None</td>\n",
              "    </tr>\n",
              "    <tr>\n",
              "      <th>2</th>\n",
              "      <td>None</td>\n",
              "      <td>None</td>\n",
              "      <td>Project Name</td>\n",
              "      <td>None</td>\n",
              "      <td>None</td>\n",
              "      <td>None</td>\n",
              "      <td>None</td>\n",
              "      <td>None</td>\n",
              "      <td>None</td>\n",
              "    </tr>\n",
              "    <tr>\n",
              "      <th>3</th>\n",
              "      <td>None</td>\n",
              "      <td>None</td>\n",
              "      <td>Hr Software</td>\n",
              "      <td>None</td>\n",
              "      <td>None</td>\n",
              "      <td>None</td>\n",
              "      <td>None</td>\n",
              "      <td>None</td>\n",
              "      <td>None</td>\n",
              "    </tr>\n",
              "    <tr>\n",
              "      <th>4</th>\n",
              "      <td>[]</td>\n",
              "      <td>[Photo, B-tech graduate]</td>\n",
              "      <td>[]</td>\n",
              "      <td>[]</td>\n",
              "      <td>[]</td>\n",
              "      <td>[]</td>\n",
              "      <td>[2019]</td>\n",
              "      <td>[]</td>\n",
              "      <td>[]</td>\n",
              "    </tr>\n",
              "    <tr>\n",
              "      <th>5</th>\n",
              "      <td>[]</td>\n",
              "      <td>[B.Sc. Mathematics, 6.5 years, 6.5 Years]</td>\n",
              "      <td>[Senior Graphics Designer (]</td>\n",
              "      <td>[]</td>\n",
              "      <td>[Anna University, Calicut University, Relevant...</td>\n",
              "      <td>[]</td>\n",
              "      <td>[2001, 1999]</td>\n",
              "      <td>[]</td>\n",
              "      <td>[]</td>\n",
              "    </tr>\n",
              "    <tr>\n",
              "      <th>6</th>\n",
              "      <td>[]</td>\n",
              "      <td>[Rajesh M, OTP Engine]</td>\n",
              "      <td>[]</td>\n",
              "      <td>[]</td>\n",
              "      <td>[ MCA from Jeppiaar Engineering College, Chen...</td>\n",
              "      <td>[]</td>\n",
              "      <td>[]</td>\n",
              "      <td>[]</td>\n",
              "      <td>[]</td>\n",
              "    </tr>\n",
              "    <tr>\n",
              "      <th>7</th>\n",
              "      <td>[]</td>\n",
              "      <td>[B.E, Electronics and Communication Engineering]</td>\n",
              "      <td>[]</td>\n",
              "      <td>[]</td>\n",
              "      <td>[Mohanapriya Meganathan             Phone: +91...</td>\n",
              "      <td>[]</td>\n",
              "      <td>[2010]</td>\n",
              "      <td>[]</td>\n",
              "      <td>[]</td>\n",
              "    </tr>\n",
              "  </tbody>\n",
              "</table>\n",
              "</div>\n",
              "      <button class=\"colab-df-convert\" onclick=\"convertToInteractive('df-69b03760-af77-4d5c-a234-6ccb3d7bbbfe')\"\n",
              "              title=\"Convert this dataframe to an interactive table.\"\n",
              "              style=\"display:none;\">\n",
              "        \n",
              "  <svg xmlns=\"http://www.w3.org/2000/svg\" height=\"24px\"viewBox=\"0 0 24 24\"\n",
              "       width=\"24px\">\n",
              "    <path d=\"M0 0h24v24H0V0z\" fill=\"none\"/>\n",
              "    <path d=\"M18.56 5.44l.94 2.06.94-2.06 2.06-.94-2.06-.94-.94-2.06-.94 2.06-2.06.94zm-11 1L8.5 8.5l.94-2.06 2.06-.94-2.06-.94L8.5 2.5l-.94 2.06-2.06.94zm10 10l.94 2.06.94-2.06 2.06-.94-2.06-.94-.94-2.06-.94 2.06-2.06.94z\"/><path d=\"M17.41 7.96l-1.37-1.37c-.4-.4-.92-.59-1.43-.59-.52 0-1.04.2-1.43.59L10.3 9.45l-7.72 7.72c-.78.78-.78 2.05 0 2.83L4 21.41c.39.39.9.59 1.41.59.51 0 1.02-.2 1.41-.59l7.78-7.78 2.81-2.81c.8-.78.8-2.07 0-2.86zM5.41 20L4 18.59l7.72-7.72 1.47 1.35L5.41 20z\"/>\n",
              "  </svg>\n",
              "      </button>\n",
              "      \n",
              "  <style>\n",
              "    .colab-df-container {\n",
              "      display:flex;\n",
              "      flex-wrap:wrap;\n",
              "      gap: 12px;\n",
              "    }\n",
              "\n",
              "    .colab-df-convert {\n",
              "      background-color: #E8F0FE;\n",
              "      border: none;\n",
              "      border-radius: 50%;\n",
              "      cursor: pointer;\n",
              "      display: none;\n",
              "      fill: #1967D2;\n",
              "      height: 32px;\n",
              "      padding: 0 0 0 0;\n",
              "      width: 32px;\n",
              "    }\n",
              "\n",
              "    .colab-df-convert:hover {\n",
              "      background-color: #E2EBFA;\n",
              "      box-shadow: 0px 1px 2px rgba(60, 64, 67, 0.3), 0px 1px 3px 1px rgba(60, 64, 67, 0.15);\n",
              "      fill: #174EA6;\n",
              "    }\n",
              "\n",
              "    [theme=dark] .colab-df-convert {\n",
              "      background-color: #3B4455;\n",
              "      fill: #D2E3FC;\n",
              "    }\n",
              "\n",
              "    [theme=dark] .colab-df-convert:hover {\n",
              "      background-color: #434B5C;\n",
              "      box-shadow: 0px 1px 3px 1px rgba(0, 0, 0, 0.15);\n",
              "      filter: drop-shadow(0px 1px 2px rgba(0, 0, 0, 0.3));\n",
              "      fill: #FFFFFF;\n",
              "    }\n",
              "  </style>\n",
              "\n",
              "      <script>\n",
              "        const buttonEl =\n",
              "          document.querySelector('#df-69b03760-af77-4d5c-a234-6ccb3d7bbbfe button.colab-df-convert');\n",
              "        buttonEl.style.display =\n",
              "          google.colab.kernel.accessAllowed ? 'block' : 'none';\n",
              "\n",
              "        async function convertToInteractive(key) {\n",
              "          const element = document.querySelector('#df-69b03760-af77-4d5c-a234-6ccb3d7bbbfe');\n",
              "          const dataTable =\n",
              "            await google.colab.kernel.invokeFunction('convertToInteractive',\n",
              "                                                     [key], {});\n",
              "          if (!dataTable) return;\n",
              "\n",
              "          const docLinkHtml = 'Like what you see? Visit the ' +\n",
              "            '<a target=\"_blank\" href=https://colab.research.google.com/notebooks/data_table.ipynb>data table notebook</a>'\n",
              "            + ' to learn more about interactive tables.';\n",
              "          element.innerHTML = '';\n",
              "          dataTable['output_type'] = 'display_data';\n",
              "          await google.colab.output.renderOutput(dataTable, element);\n",
              "          const docLink = document.createElement('div');\n",
              "          docLink.innerHTML = docLinkHtml;\n",
              "          element.appendChild(docLink);\n",
              "        }\n",
              "      </script>\n",
              "    </div>\n",
              "  </div>\n",
              "  "
            ],
            "text/plain": [
              "   NAME  ... EMAIL ADDRESS\n",
              "0  None  ...          None\n",
              "1  None  ...          None\n",
              "2  None  ...          None\n",
              "3  None  ...          None\n",
              "4    []  ...            []\n",
              "5    []  ...            []\n",
              "6    []  ...            []\n",
              "7    []  ...            []\n",
              "\n",
              "[8 rows x 9 columns]"
            ]
          },
          "metadata": {},
          "execution_count": 44
        }
      ]
    },
    {
      "cell_type": "code",
      "metadata": {
        "id": "DSy2p_H9j9rz"
      },
      "source": [
        "#remove the unwanted rows\n",
        "df1 = output3.drop(labels=[1,2,3], axis=0)"
      ],
      "execution_count": 48,
      "outputs": []
    },
    {
      "cell_type": "code",
      "metadata": {
        "colab": {
          "base_uri": "https://localhost:8080/",
          "height": 320
        },
        "id": "Tn-lj4ukhSLl",
        "outputId": "d33654e5-3463-4843-d663-74995b71e054"
      },
      "source": [
        "df1"
      ],
      "execution_count": 49,
      "outputs": [
        {
          "output_type": "execute_result",
          "data": {
            "text/html": [
              "\n",
              "  <div id=\"df-5c18126c-4cfe-43bb-b4c0-d82f6f8a568b\">\n",
              "    <div class=\"colab-df-container\">\n",
              "      <div>\n",
              "<style scoped>\n",
              "    .dataframe tbody tr th:only-of-type {\n",
              "        vertical-align: middle;\n",
              "    }\n",
              "\n",
              "    .dataframe tbody tr th {\n",
              "        vertical-align: top;\n",
              "    }\n",
              "\n",
              "    .dataframe thead th {\n",
              "        text-align: right;\n",
              "    }\n",
              "</style>\n",
              "<table border=\"1\" class=\"dataframe\">\n",
              "  <thead>\n",
              "    <tr style=\"text-align: right;\">\n",
              "      <th></th>\n",
              "      <th>NAME</th>\n",
              "      <th>DEGREE</th>\n",
              "      <th>DESIGNATION</th>\n",
              "      <th>SKILLS</th>\n",
              "      <th>COLLEGE NAME</th>\n",
              "      <th>LOCATION</th>\n",
              "      <th>GRADUATION YEAR</th>\n",
              "      <th>COMPANIES WORKED AT</th>\n",
              "      <th>EMAIL ADDRESS</th>\n",
              "    </tr>\n",
              "  </thead>\n",
              "  <tbody>\n",
              "    <tr>\n",
              "      <th>0</th>\n",
              "      <td>None</td>\n",
              "      <td>Developer</td>\n",
              "      <td>Software Engineer</td>\n",
              "      <td>None</td>\n",
              "      <td>Hr Software        Project</td>\n",
              "      <td>None</td>\n",
              "      <td>2014</td>\n",
              "      <td>Engineer</td>\n",
              "      <td>None</td>\n",
              "    </tr>\n",
              "    <tr>\n",
              "      <th>4</th>\n",
              "      <td>[]</td>\n",
              "      <td>[Photo, B-tech graduate]</td>\n",
              "      <td>[]</td>\n",
              "      <td>[]</td>\n",
              "      <td>[]</td>\n",
              "      <td>[]</td>\n",
              "      <td>[2019]</td>\n",
              "      <td>[]</td>\n",
              "      <td>[]</td>\n",
              "    </tr>\n",
              "    <tr>\n",
              "      <th>5</th>\n",
              "      <td>[]</td>\n",
              "      <td>[B.Sc. Mathematics, 6.5 years, 6.5 Years]</td>\n",
              "      <td>[Senior Graphics Designer (]</td>\n",
              "      <td>[]</td>\n",
              "      <td>[Anna University, Calicut University, Relevant...</td>\n",
              "      <td>[]</td>\n",
              "      <td>[2001, 1999]</td>\n",
              "      <td>[]</td>\n",
              "      <td>[]</td>\n",
              "    </tr>\n",
              "    <tr>\n",
              "      <th>6</th>\n",
              "      <td>[]</td>\n",
              "      <td>[Rajesh M, OTP Engine]</td>\n",
              "      <td>[]</td>\n",
              "      <td>[]</td>\n",
              "      <td>[ MCA from Jeppiaar Engineering College, Chen...</td>\n",
              "      <td>[]</td>\n",
              "      <td>[]</td>\n",
              "      <td>[]</td>\n",
              "      <td>[]</td>\n",
              "    </tr>\n",
              "    <tr>\n",
              "      <th>7</th>\n",
              "      <td>[]</td>\n",
              "      <td>[B.E, Electronics and Communication Engineering]</td>\n",
              "      <td>[]</td>\n",
              "      <td>[]</td>\n",
              "      <td>[Mohanapriya Meganathan             Phone: +91...</td>\n",
              "      <td>[]</td>\n",
              "      <td>[2010]</td>\n",
              "      <td>[]</td>\n",
              "      <td>[]</td>\n",
              "    </tr>\n",
              "  </tbody>\n",
              "</table>\n",
              "</div>\n",
              "      <button class=\"colab-df-convert\" onclick=\"convertToInteractive('df-5c18126c-4cfe-43bb-b4c0-d82f6f8a568b')\"\n",
              "              title=\"Convert this dataframe to an interactive table.\"\n",
              "              style=\"display:none;\">\n",
              "        \n",
              "  <svg xmlns=\"http://www.w3.org/2000/svg\" height=\"24px\"viewBox=\"0 0 24 24\"\n",
              "       width=\"24px\">\n",
              "    <path d=\"M0 0h24v24H0V0z\" fill=\"none\"/>\n",
              "    <path d=\"M18.56 5.44l.94 2.06.94-2.06 2.06-.94-2.06-.94-.94-2.06-.94 2.06-2.06.94zm-11 1L8.5 8.5l.94-2.06 2.06-.94-2.06-.94L8.5 2.5l-.94 2.06-2.06.94zm10 10l.94 2.06.94-2.06 2.06-.94-2.06-.94-.94-2.06-.94 2.06-2.06.94z\"/><path d=\"M17.41 7.96l-1.37-1.37c-.4-.4-.92-.59-1.43-.59-.52 0-1.04.2-1.43.59L10.3 9.45l-7.72 7.72c-.78.78-.78 2.05 0 2.83L4 21.41c.39.39.9.59 1.41.59.51 0 1.02-.2 1.41-.59l7.78-7.78 2.81-2.81c.8-.78.8-2.07 0-2.86zM5.41 20L4 18.59l7.72-7.72 1.47 1.35L5.41 20z\"/>\n",
              "  </svg>\n",
              "      </button>\n",
              "      \n",
              "  <style>\n",
              "    .colab-df-container {\n",
              "      display:flex;\n",
              "      flex-wrap:wrap;\n",
              "      gap: 12px;\n",
              "    }\n",
              "\n",
              "    .colab-df-convert {\n",
              "      background-color: #E8F0FE;\n",
              "      border: none;\n",
              "      border-radius: 50%;\n",
              "      cursor: pointer;\n",
              "      display: none;\n",
              "      fill: #1967D2;\n",
              "      height: 32px;\n",
              "      padding: 0 0 0 0;\n",
              "      width: 32px;\n",
              "    }\n",
              "\n",
              "    .colab-df-convert:hover {\n",
              "      background-color: #E2EBFA;\n",
              "      box-shadow: 0px 1px 2px rgba(60, 64, 67, 0.3), 0px 1px 3px 1px rgba(60, 64, 67, 0.15);\n",
              "      fill: #174EA6;\n",
              "    }\n",
              "\n",
              "    [theme=dark] .colab-df-convert {\n",
              "      background-color: #3B4455;\n",
              "      fill: #D2E3FC;\n",
              "    }\n",
              "\n",
              "    [theme=dark] .colab-df-convert:hover {\n",
              "      background-color: #434B5C;\n",
              "      box-shadow: 0px 1px 3px 1px rgba(0, 0, 0, 0.15);\n",
              "      filter: drop-shadow(0px 1px 2px rgba(0, 0, 0, 0.3));\n",
              "      fill: #FFFFFF;\n",
              "    }\n",
              "  </style>\n",
              "\n",
              "      <script>\n",
              "        const buttonEl =\n",
              "          document.querySelector('#df-5c18126c-4cfe-43bb-b4c0-d82f6f8a568b button.colab-df-convert');\n",
              "        buttonEl.style.display =\n",
              "          google.colab.kernel.accessAllowed ? 'block' : 'none';\n",
              "\n",
              "        async function convertToInteractive(key) {\n",
              "          const element = document.querySelector('#df-5c18126c-4cfe-43bb-b4c0-d82f6f8a568b');\n",
              "          const dataTable =\n",
              "            await google.colab.kernel.invokeFunction('convertToInteractive',\n",
              "                                                     [key], {});\n",
              "          if (!dataTable) return;\n",
              "\n",
              "          const docLinkHtml = 'Like what you see? Visit the ' +\n",
              "            '<a target=\"_blank\" href=https://colab.research.google.com/notebooks/data_table.ipynb>data table notebook</a>'\n",
              "            + ' to learn more about interactive tables.';\n",
              "          element.innerHTML = '';\n",
              "          dataTable['output_type'] = 'display_data';\n",
              "          await google.colab.output.renderOutput(dataTable, element);\n",
              "          const docLink = document.createElement('div');\n",
              "          docLink.innerHTML = docLinkHtml;\n",
              "          element.appendChild(docLink);\n",
              "        }\n",
              "      </script>\n",
              "    </div>\n",
              "  </div>\n",
              "  "
            ],
            "text/plain": [
              "   NAME  ... EMAIL ADDRESS\n",
              "0  None  ...          None\n",
              "4    []  ...            []\n",
              "5    []  ...            []\n",
              "6    []  ...            []\n",
              "7    []  ...            []\n",
              "\n",
              "[5 rows x 9 columns]"
            ]
          },
          "metadata": {},
          "execution_count": 49
        }
      ]
    },
    {
      "cell_type": "code",
      "metadata": {
        "id": "45LMOG3-Xt1q"
      },
      "source": [
        "#download the predicted dataset\n",
        "\n",
        "df1.to_csv('merged.csv')\n",
        "data=pd.read_csv('merged.csv')"
      ],
      "execution_count": 50,
      "outputs": []
    },
    {
      "cell_type": "markdown",
      "metadata": {
        "id": "gMU95BCiiP3r"
      },
      "source": [
        "Five dictionary data is stored to a dataframe as pedicted dataframe and download the final dataframe. "
      ]
    },
    {
      "cell_type": "markdown",
      "metadata": {
        "id": "7pq43kKC04--"
      },
      "source": [
        "#Data Inspection"
      ]
    },
    {
      "cell_type": "code",
      "metadata": {
        "colab": {
          "base_uri": "https://localhost:8080/"
        },
        "id": "jqZqTkmq1Y0_",
        "outputId": "fc8e5dc8-6efe-4718-ee8f-a6e79a0703bc"
      },
      "source": [
        "#checking the size of the data frame\n",
        "\n",
        "data.shape"
      ],
      "execution_count": 51,
      "outputs": [
        {
          "output_type": "execute_result",
          "data": {
            "text/plain": [
              "(5, 10)"
            ]
          },
          "metadata": {},
          "execution_count": 51
        }
      ]
    },
    {
      "cell_type": "code",
      "metadata": {
        "colab": {
          "base_uri": "https://localhost:8080/"
        },
        "id": "y7-ItJAf06Yo",
        "outputId": "343fd12b-dffd-4ba3-c295-3459c0f12cca"
      },
      "source": [
        "#checking data type\n",
        "\n",
        "data.dtypes"
      ],
      "execution_count": 52,
      "outputs": [
        {
          "output_type": "execute_result",
          "data": {
            "text/plain": [
              "Unnamed: 0              int64\n",
              "NAME                   object\n",
              "DEGREE                 object\n",
              "DESIGNATION            object\n",
              "SKILLS                 object\n",
              "COLLEGE NAME           object\n",
              "LOCATION               object\n",
              "GRADUATION YEAR        object\n",
              "COMPANIES WORKED AT    object\n",
              "EMAIL ADDRESS          object\n",
              "dtype: object"
            ]
          },
          "metadata": {},
          "execution_count": 52
        }
      ]
    },
    {
      "cell_type": "code",
      "metadata": {
        "id": "Jacdcq_v09X0",
        "colab": {
          "base_uri": "https://localhost:8080/"
        },
        "outputId": "8739a5eb-de40-4e92-c39b-c1ae086d07bb"
      },
      "source": [
        "#checking null values\n",
        "\n",
        "data.isna().sum()"
      ],
      "execution_count": 53,
      "outputs": [
        {
          "output_type": "execute_result",
          "data": {
            "text/plain": [
              "Unnamed: 0             0\n",
              "NAME                   1\n",
              "DEGREE                 0\n",
              "DESIGNATION            0\n",
              "SKILLS                 1\n",
              "COLLEGE NAME           0\n",
              "LOCATION               1\n",
              "GRADUATION YEAR        0\n",
              "COMPANIES WORKED AT    0\n",
              "EMAIL ADDRESS          1\n",
              "dtype: int64"
            ]
          },
          "metadata": {},
          "execution_count": 53
        }
      ]
    },
    {
      "cell_type": "code",
      "metadata": {
        "colab": {
          "base_uri": "https://localhost:8080/"
        },
        "id": "KxGwijzXJ2v1",
        "outputId": "222daa60-7234-4519-fcea-00e90adcbf83"
      },
      "source": [
        "#checking basic information of dataset\n",
        "\n",
        "data.info()"
      ],
      "execution_count": 54,
      "outputs": [
        {
          "output_type": "stream",
          "name": "stdout",
          "text": [
            "<class 'pandas.core.frame.DataFrame'>\n",
            "RangeIndex: 5 entries, 0 to 4\n",
            "Data columns (total 10 columns):\n",
            " #   Column               Non-Null Count  Dtype \n",
            "---  ------               --------------  ----- \n",
            " 0   Unnamed: 0           5 non-null      int64 \n",
            " 1   NAME                 4 non-null      object\n",
            " 2   DEGREE               5 non-null      object\n",
            " 3   DESIGNATION          5 non-null      object\n",
            " 4   SKILLS               4 non-null      object\n",
            " 5   COLLEGE NAME         5 non-null      object\n",
            " 6   LOCATION             4 non-null      object\n",
            " 7   GRADUATION YEAR      5 non-null      object\n",
            " 8   COMPANIES WORKED AT  5 non-null      object\n",
            " 9   EMAIL ADDRESS        4 non-null      object\n",
            "dtypes: int64(1), object(9)\n",
            "memory usage: 528.0+ bytes\n"
          ]
        }
      ]
    },
    {
      "cell_type": "markdown",
      "metadata": {
        "id": "Sd8fMu0oigQd"
      },
      "source": [
        "From the inspection data we can say that, in the predicted dataframe nine features and five values are available. And most of them are object types. Some of the data are missing."
      ]
    },
    {
      "cell_type": "markdown",
      "metadata": {
        "id": "tT__S42NJK7K"
      },
      "source": [
        "#EDA for predicted dataset"
      ]
    },
    {
      "cell_type": "code",
      "metadata": {
        "colab": {
          "base_uri": "https://localhost:8080/",
          "height": 0
        },
        "id": "SIaFyTvBQt-S",
        "outputId": "80fc2d1a-58d2-4004-f195-f5efa3bba8f5"
      },
      "source": [
        "#count plot for designation\n",
        "sns.countplot(data[\"DESIGNATION\"])"
      ],
      "execution_count": 55,
      "outputs": [
        {
          "output_type": "stream",
          "name": "stderr",
          "text": [
            "/usr/local/lib/python3.7/dist-packages/seaborn/_decorators.py:43: FutureWarning: Pass the following variable as a keyword arg: x. From version 0.12, the only valid positional argument will be `data`, and passing other arguments without an explicit keyword will result in an error or misinterpretation.\n",
            "  FutureWarning\n",
            "\n"
          ]
        },
        {
          "output_type": "execute_result",
          "data": {
            "text/plain": [
              "<matplotlib.axes._subplots.AxesSubplot at 0x7f508a236410>"
            ]
          },
          "metadata": {},
          "execution_count": 55
        },
        {
          "output_type": "display_data",
          "data": {
            "image/png": "[encoded data removed]",
            "text/plain": [
              "<Figure size 432x288 with 1 Axes>"
            ]
          },
          "metadata": {
            "needs_background": "light"
          }
        }
      ]
    },
    {
      "cell_type": "code",
      "metadata": {
        "id": "o8eT9jJ3pgz9",
        "colab": {
          "base_uri": "https://localhost:8080/",
          "height": 0
        },
        "outputId": "14628577-5762-4343-db47-17ffc4e4912b"
      },
      "source": [
        "#pie Plott for skills\n",
        "data[\"SKILLS\"].value_counts().plot(kind='pie')"
      ],
      "execution_count": 56,
      "outputs": [
        {
          "output_type": "execute_result",
          "data": {
            "text/plain": [
              "<matplotlib.axes._subplots.AxesSubplot at 0x7f50899858d0>"
            ]
          },
          "metadata": {},
          "execution_count": 56
        },
        {
          "output_type": "display_data",
          "data": {
            "image/png": "[encoded data removed]",
            "text/plain": [
              "<Figure size 432x288 with 1 Axes>"
            ]
          },
          "metadata": {}
        }
      ]
    },
    {
      "cell_type": "markdown",
      "metadata": {
        "id": "Spx9l5dXjM7t"
      },
      "source": [
        "We can't conclude anything from the charts, because the pie chart only shows program language details and the bar chart specifies all field have equal designation."
      ]
    },
    {
      "cell_type": "markdown",
      "metadata": {
        "id": "TFRWPSgbE0Yg"
      },
      "source": [
        "# Manual data "
      ]
    },
    {
      "cell_type": "code",
      "metadata": {
        "id": "Wnhu9kcF5hRq"
      },
      "source": [
        "#loading newly created dataset\n",
        "manual_data=pd.read_excel('/content/manual data orginal.xlsx')"
      ],
      "execution_count": 57,
      "outputs": []
    },
    {
      "cell_type": "code",
      "metadata": {
        "id": "M3ZaXzq-7nEc",
        "colab": {
          "base_uri": "https://localhost:8080/",
          "height": 0
        },
        "outputId": "a334cb00-03f9-4460-c448-f78ac058e1d5"
      },
      "source": [
        "manual_data"
      ],
      "execution_count": 58,
      "outputs": [
        {
          "output_type": "execute_result",
          "data": {
            "text/html": [
              "\n",
              "  <div id=\"df-41148b61-ce05-4a02-b38b-1b66ecc9049c\">\n",
              "    <div class=\"colab-df-container\">\n",
              "      <div>\n",
              "<style scoped>\n",
              "    .dataframe tbody tr th:only-of-type {\n",
              "        vertical-align: middle;\n",
              "    }\n",
              "\n",
              "    .dataframe tbody tr th {\n",
              "        vertical-align: top;\n",
              "    }\n",
              "\n",
              "    .dataframe thead th {\n",
              "        text-align: right;\n",
              "    }\n",
              "</style>\n",
              "<table border=\"1\" class=\"dataframe\">\n",
              "  <thead>\n",
              "    <tr style=\"text-align: right;\">\n",
              "      <th></th>\n",
              "      <th>NAME</th>\n",
              "      <th>DEGREE</th>\n",
              "      <th>DESIGNATION</th>\n",
              "      <th>SKILLS</th>\n",
              "      <th>COLLEGE NAME</th>\n",
              "      <th>LOCATION</th>\n",
              "      <th>GRADUATION YEAR</th>\n",
              "      <th>COMPANIES WORKED AT</th>\n",
              "    </tr>\n",
              "  </thead>\n",
              "  <tbody>\n",
              "    <tr>\n",
              "      <th>0</th>\n",
              "      <td>Jebacerin.L</td>\n",
              "      <td>ME</td>\n",
              "      <td>Software Engineer</td>\n",
              "      <td>C#.NET, ASP.NET, .NET Framework 4.5,WPF, XML, ...</td>\n",
              "      <td>NaN</td>\n",
              "      <td>Trivandrum</td>\n",
              "      <td>NaN</td>\n",
              "      <td>MSN Ltd(Trivandrum)</td>\n",
              "    </tr>\n",
              "    <tr>\n",
              "      <th>1</th>\n",
              "      <td>Shaniba M</td>\n",
              "      <td>BTech</td>\n",
              "      <td>Software Developer</td>\n",
              "      <td>ANGULAR 2 AND ABOVE (ANGULAR 8 CURRENTLY WORKI...</td>\n",
              "      <td>COLLEGE OF ENGINEERING VADAKARA</td>\n",
              "      <td>NaN</td>\n",
              "      <td>2015.0</td>\n",
              "      <td>XMINDS INFOTECH PVT LTD, TRIVANDRUM</td>\n",
              "    </tr>\n",
              "    <tr>\n",
              "      <th>2</th>\n",
              "      <td>Sailesh Earath Krishnan</td>\n",
              "      <td>MCA</td>\n",
              "      <td>Graphics Designer</td>\n",
              "      <td>Front-end development using HTML, CSS and jQue...</td>\n",
              "      <td>Anna University</td>\n",
              "      <td>Cochin</td>\n",
              "      <td>2008.0</td>\n",
              "      <td>Freelancer</td>\n",
              "    </tr>\n",
              "    <tr>\n",
              "      <th>3</th>\n",
              "      <td>Rajesh M</td>\n",
              "      <td>MCA</td>\n",
              "      <td>NaN</td>\n",
              "      <td>Programming Languages : Java ,Technologies :J2...</td>\n",
              "      <td>Jeppiaar Engineering College</td>\n",
              "      <td>Chennai</td>\n",
              "      <td>2015.0</td>\n",
              "      <td>Volante Technology, Chennai</td>\n",
              "    </tr>\n",
              "    <tr>\n",
              "      <th>4</th>\n",
              "      <td>Mohanapriya Meganathan\\n</td>\n",
              "      <td>BE</td>\n",
              "      <td>Lead Engineer</td>\n",
              "      <td>Programming Languages : C, C++, Scripting Lang...</td>\n",
              "      <td>T.J.S Engineering College</td>\n",
              "      <td>Chennai</td>\n",
              "      <td>2014.0</td>\n",
              "      <td>HCL Technologies India Private Limited</td>\n",
              "    </tr>\n",
              "  </tbody>\n",
              "</table>\n",
              "</div>\n",
              "      <button class=\"colab-df-convert\" onclick=\"convertToInteractive('df-41148b61-ce05-4a02-b38b-1b66ecc9049c')\"\n",
              "              title=\"Convert this dataframe to an interactive table.\"\n",
              "              style=\"display:none;\">\n",
              "        \n",
              "  <svg xmlns=\"http://www.w3.org/2000/svg\" height=\"24px\"viewBox=\"0 0 24 24\"\n",
              "       width=\"24px\">\n",
              "    <path d=\"M0 0h24v24H0V0z\" fill=\"none\"/>\n",
              "    <path d=\"M18.56 5.44l.94 2.06.94-2.06 2.06-.94-2.06-.94-.94-2.06-.94 2.06-2.06.94zm-11 1L8.5 8.5l.94-2.06 2.06-.94-2.06-.94L8.5 2.5l-.94 2.06-2.06.94zm10 10l.94 2.06.94-2.06 2.06-.94-2.06-.94-.94-2.06-.94 2.06-2.06.94z\"/><path d=\"M17.41 7.96l-1.37-1.37c-.4-.4-.92-.59-1.43-.59-.52 0-1.04.2-1.43.59L10.3 9.45l-7.72 7.72c-.78.78-.78 2.05 0 2.83L4 21.41c.39.39.9.59 1.41.59.51 0 1.02-.2 1.41-.59l7.78-7.78 2.81-2.81c.8-.78.8-2.07 0-2.86zM5.41 20L4 18.59l7.72-7.72 1.47 1.35L5.41 20z\"/>\n",
              "  </svg>\n",
              "      </button>\n",
              "      \n",
              "  <style>\n",
              "    .colab-df-container {\n",
              "      display:flex;\n",
              "      flex-wrap:wrap;\n",
              "      gap: 12px;\n",
              "    }\n",
              "\n",
              "    .colab-df-convert {\n",
              "      background-color: #E8F0FE;\n",
              "      border: none;\n",
              "      border-radius: 50%;\n",
              "      cursor: pointer;\n",
              "      display: none;\n",
              "      fill: #1967D2;\n",
              "      height: 32px;\n",
              "      padding: 0 0 0 0;\n",
              "      width: 32px;\n",
              "    }\n",
              "\n",
              "    .colab-df-convert:hover {\n",
              "      background-color: #E2EBFA;\n",
              "      box-shadow: 0px 1px 2px rgba(60, 64, 67, 0.3), 0px 1px 3px 1px rgba(60, 64, 67, 0.15);\n",
              "      fill: #174EA6;\n",
              "    }\n",
              "\n",
              "    [theme=dark] .colab-df-convert {\n",
              "      background-color: #3B4455;\n",
              "      fill: #D2E3FC;\n",
              "    }\n",
              "\n",
              "    [theme=dark] .colab-df-convert:hover {\n",
              "      background-color: #434B5C;\n",
              "      box-shadow: 0px 1px 3px 1px rgba(0, 0, 0, 0.15);\n",
              "      filter: drop-shadow(0px 1px 2px rgba(0, 0, 0, 0.3));\n",
              "      fill: #FFFFFF;\n",
              "    }\n",
              "  </style>\n",
              "\n",
              "      <script>\n",
              "        const buttonEl =\n",
              "          document.querySelector('#df-41148b61-ce05-4a02-b38b-1b66ecc9049c button.colab-df-convert');\n",
              "        buttonEl.style.display =\n",
              "          google.colab.kernel.accessAllowed ? 'block' : 'none';\n",
              "\n",
              "        async function convertToInteractive(key) {\n",
              "          const element = document.querySelector('#df-41148b61-ce05-4a02-b38b-1b66ecc9049c');\n",
              "          const dataTable =\n",
              "            await google.colab.kernel.invokeFunction('convertToInteractive',\n",
              "                                                     [key], {});\n",
              "          if (!dataTable) return;\n",
              "\n",
              "          const docLinkHtml = 'Like what you see? Visit the ' +\n",
              "            '<a target=\"_blank\" href=https://colab.research.google.com/notebooks/data_table.ipynb>data table notebook</a>'\n",
              "            + ' to learn more about interactive tables.';\n",
              "          element.innerHTML = '';\n",
              "          dataTable['output_type'] = 'display_data';\n",
              "          await google.colab.output.renderOutput(dataTable, element);\n",
              "          const docLink = document.createElement('div');\n",
              "          docLink.innerHTML = docLinkHtml;\n",
              "          element.appendChild(docLink);\n",
              "        }\n",
              "      </script>\n",
              "    </div>\n",
              "  </div>\n",
              "  "
            ],
            "text/plain": [
              "                       NAME  ...                     COMPANIES WORKED AT\n",
              "0               Jebacerin.L  ...                     MSN Ltd(Trivandrum)\n",
              "1                 Shaniba M  ...     XMINDS INFOTECH PVT LTD, TRIVANDRUM\n",
              "2   Sailesh Earath Krishnan  ...                              Freelancer\n",
              "3                 Rajesh M   ...            Volante Technology, Chennai \n",
              "4  Mohanapriya Meganathan\\n  ...  HCL Technologies India Private Limited\n",
              "\n",
              "[5 rows x 8 columns]"
            ]
          },
          "metadata": {},
          "execution_count": 58
        }
      ]
    },
    {
      "cell_type": "markdown",
      "metadata": {
        "id": "TUGW1v3JFFSW"
      },
      "source": [
        "#Data Inspection"
      ]
    },
    {
      "cell_type": "code",
      "metadata": {
        "id": "SVGc-fkc3WcV",
        "colab": {
          "base_uri": "https://localhost:8080/"
        },
        "outputId": "19e8aaa8-875f-4ce6-be0f-4afc9638099d"
      },
      "source": [
        "#checking the size of the data frame\n",
        "\n",
        "manual_data.shape"
      ],
      "execution_count": 59,
      "outputs": [
        {
          "output_type": "execute_result",
          "data": {
            "text/plain": [
              "(5, 8)"
            ]
          },
          "metadata": {},
          "execution_count": 59
        }
      ]
    },
    {
      "cell_type": "code",
      "metadata": {
        "id": "VPMfKcUXf5K1",
        "colab": {
          "base_uri": "https://localhost:8080/"
        },
        "outputId": "8ad8de9f-e873-4d5d-ecb3-e4cc4d565f87"
      },
      "source": [
        "#checking data type\n",
        "\n",
        "manual_data.dtypes"
      ],
      "execution_count": 60,
      "outputs": [
        {
          "output_type": "execute_result",
          "data": {
            "text/plain": [
              "NAME                    object\n",
              "DEGREE                  object\n",
              "DESIGNATION             object\n",
              "SKILLS                  object\n",
              "COLLEGE NAME            object\n",
              "LOCATION                object\n",
              "GRADUATION YEAR        float64\n",
              "COMPANIES WORKED AT     object\n",
              "dtype: object"
            ]
          },
          "metadata": {},
          "execution_count": 60
        }
      ]
    },
    {
      "cell_type": "code",
      "metadata": {
        "id": "vKpAck5cf8Ot",
        "colab": {
          "base_uri": "https://localhost:8080/"
        },
        "outputId": "a47392cd-4762-40e2-e2ff-ef322307ebc5"
      },
      "source": [
        "#checking null values\n",
        "\n",
        "manual_data.isna().sum()"
      ],
      "execution_count": 61,
      "outputs": [
        {
          "output_type": "execute_result",
          "data": {
            "text/plain": [
              "NAME                   0\n",
              "DEGREE                 0\n",
              "DESIGNATION            1\n",
              "SKILLS                 0\n",
              "COLLEGE NAME           1\n",
              "LOCATION               1\n",
              "GRADUATION YEAR        1\n",
              "COMPANIES WORKED AT    0\n",
              "dtype: int64"
            ]
          },
          "metadata": {},
          "execution_count": 61
        }
      ]
    },
    {
      "cell_type": "code",
      "metadata": {
        "id": "53QjjPtRf_IP",
        "colab": {
          "base_uri": "https://localhost:8080/"
        },
        "outputId": "19fd0a7b-d751-4c68-a058-56cfe7ee448d"
      },
      "source": [
        "#checking basic information of dataset\n",
        "\n",
        "manual_data.info()"
      ],
      "execution_count": 62,
      "outputs": [
        {
          "output_type": "stream",
          "name": "stdout",
          "text": [
            "<class 'pandas.core.frame.DataFrame'>\n",
            "RangeIndex: 5 entries, 0 to 4\n",
            "Data columns (total 8 columns):\n",
            " #   Column               Non-Null Count  Dtype  \n",
            "---  ------               --------------  -----  \n",
            " 0   NAME                 5 non-null      object \n",
            " 1   DEGREE               5 non-null      object \n",
            " 2   DESIGNATION          4 non-null      object \n",
            " 3   SKILLS               5 non-null      object \n",
            " 4   COLLEGE NAME         4 non-null      object \n",
            " 5   LOCATION             4 non-null      object \n",
            " 6   GRADUATION YEAR      4 non-null      float64\n",
            " 7   COMPANIES WORKED AT  5 non-null      object \n",
            "dtypes: float64(1), object(7)\n",
            "memory usage: 448.0+ bytes\n"
          ]
        }
      ]
    },
    {
      "cell_type": "markdown",
      "metadata": {
        "id": "VofnPSvEjsFI"
      },
      "source": [
        "Manual dataframe is created manualy in excel sheet. From the inspected data we can say that there are eight features and thier values. most of them are object type except graduation year. The missing values are low compaire to predicted dataframe."
      ]
    },
    {
      "cell_type": "markdown",
      "metadata": {
        "id": "alvo-rC3FMoo"
      },
      "source": [
        "#EDA for actual dataset"
      ]
    },
    {
      "cell_type": "code",
      "metadata": {
        "id": "IqsOEbwlgYkH",
        "colab": {
          "base_uri": "https://localhost:8080/",
          "height": 0
        },
        "outputId": "b434c967-a910-4b83-92f9-a63aad21c8e3"
      },
      "source": [
        "#count plot for designation\n",
        "sns.countplot(manual_data[\"DESIGNATION\"])"
      ],
      "execution_count": 63,
      "outputs": [
        {
          "output_type": "stream",
          "name": "stderr",
          "text": [
            "/usr/local/lib/python3.7/dist-packages/seaborn/_decorators.py:43: FutureWarning: Pass the following variable as a keyword arg: x. From version 0.12, the only valid positional argument will be `data`, and passing other arguments without an explicit keyword will result in an error or misinterpretation.\n",
            "  FutureWarning\n",
            "\n"
          ]
        },
        {
          "output_type": "execute_result",
          "data": {
            "text/plain": [
              "<matplotlib.axes._subplots.AxesSubplot at 0x7f5089082390>"
            ]
          },
          "metadata": {},
          "execution_count": 63
        },
        {
          "output_type": "display_data",
          "data": {
            "image/png": "[encoded data removed]",
            "text/plain": [
              "<Figure size 432x288 with 1 Axes>"
            ]
          },
          "metadata": {
            "needs_background": "light"
          }
        }
      ]
    },
    {
      "cell_type": "code",
      "metadata": {
        "id": "PJapIwKQZo5u",
        "colab": {
          "base_uri": "https://localhost:8080/",
          "height": 0
        },
        "outputId": "843606ed-8d28-49c7-e0b2-ffd148a4751e"
      },
      "source": [
        "#line plot for the relation of name and graduation year\n",
        "plt.plot(manual_data['NAME'],manual_data['GRADUATION YEAR'])\n",
        "\n",
        "plt.show()"
      ],
      "execution_count": 64,
      "outputs": [
        {
          "output_type": "display_data",
          "data": {
            "image/png": "[encoded data removed]",
            "text/plain": [
              "<Figure size 432x288 with 1 Axes>"
            ]
          },
          "metadata": {
            "needs_background": "light"
          }
        }
      ]
    },
    {
      "cell_type": "code",
      "metadata": {
        "id": "IAfLV08dloKN",
        "colab": {
          "base_uri": "https://localhost:8080/",
          "height": 0
        },
        "outputId": "5bc85fe9-04a0-424f-cd26-34ed0343aa0c"
      },
      "source": [
        "#pie Plott for skills\n",
        "manual_data[\"SKILLS\"].value_counts().plot(kind='pie')"
      ],
      "execution_count": 65,
      "outputs": [
        {
          "output_type": "execute_result",
          "data": {
            "text/plain": [
              "<matplotlib.axes._subplots.AxesSubplot at 0x7f5088ffa090>"
            ]
          },
          "metadata": {},
          "execution_count": 65
        },
        {
          "output_type": "display_data",
          "data": {
            "image/png": "[encoded data removed]",
            "text/plain": [
              "<Figure size 432x288 with 1 Axes>"
            ]
          },
          "metadata": {}
        }
      ]
    },
    {
      "cell_type": "markdown",
      "metadata": {
        "id": "J5kuoSf4lZA-"
      },
      "source": [
        "Same as the predicted dataframe details we can't say anything from the charts. both the Eda is not help for our work. we can't conclude anything from this details."
      ]
    },
    {
      "cell_type": "markdown",
      "metadata": {
        "id": "G8ENb4dISSPF"
      },
      "source": [
        "#Merging Predicted and Actual dataset"
      ]
    },
    {
      "cell_type": "markdown",
      "metadata": {
        "id": "kRmeGyJtSqy6"
      },
      "source": [
        "#Predicted Dataset\n",
        "\n"
      ]
    },
    {
      "cell_type": "code",
      "metadata": {
        "id": "7YsDkUMjr7uz",
        "colab": {
          "base_uri": "https://localhost:8080/",
          "height": 423
        },
        "outputId": "0836580f-c21a-4c4a-a969-cb7588d091e3"
      },
      "source": [
        "#load predicted dataset and show the dataset\n",
        "\n",
        "df= pd.read_csv('/content/merged (1).csv', index_col=[0])\n",
        "df"
      ],
      "execution_count": 66,
      "outputs": [
        {
          "output_type": "execute_result",
          "data": {
            "text/html": [
              "\n",
              "  <div id=\"df-8be1edb3-cebe-4cb2-8aeb-2f8925f507c7\">\n",
              "    <div class=\"colab-df-container\">\n",
              "      <div>\n",
              "<style scoped>\n",
              "    .dataframe tbody tr th:only-of-type {\n",
              "        vertical-align: middle;\n",
              "    }\n",
              "\n",
              "    .dataframe tbody tr th {\n",
              "        vertical-align: top;\n",
              "    }\n",
              "\n",
              "    .dataframe thead th {\n",
              "        text-align: right;\n",
              "    }\n",
              "</style>\n",
              "<table border=\"1\" class=\"dataframe\">\n",
              "  <thead>\n",
              "    <tr style=\"text-align: right;\">\n",
              "      <th></th>\n",
              "      <th>NAME</th>\n",
              "      <th>DEGREE</th>\n",
              "      <th>DESIGNATION</th>\n",
              "      <th>SKILLS</th>\n",
              "      <th>COLLEGE NAME</th>\n",
              "      <th>LOCATION</th>\n",
              "      <th>GRADUATION YEAR</th>\n",
              "      <th>COMPANIES WORKED AT</th>\n",
              "      <th>EMAIL ADDRESS</th>\n",
              "    </tr>\n",
              "  </thead>\n",
              "  <tbody>\n",
              "    <tr>\n",
              "      <th>0</th>\n",
              "      <td>NaN</td>\n",
              "      <td>Exposure in JavaScript,JQuery,</td>\n",
              "      <td>●</td>\n",
              "      <td>Exenta Software Pvt. Ltd (Trivandrum) – Softwa...</td>\n",
              "      <td>Banking Software</td>\n",
              "      <td>NaN</td>\n",
              "      <td>NaN</td>\n",
              "      <td>(17 JUL 2019 – Till Date)        CERTIFICATION...</td>\n",
              "      <td>NaN</td>\n",
              "    </tr>\n",
              "    <tr>\n",
              "      <th>6</th>\n",
              "      <td>[]</td>\n",
              "      <td>['B-tech graduate with 3+ year experience in w...</td>\n",
              "      <td>[]</td>\n",
              "      <td>['SOFTWARE DEVELOPER, XMINDS INFOTECH PVT LTD,...</td>\n",
              "      <td>['SOFTWARE TESTING(MANUAL)', 'Languages Known:...</td>\n",
              "      <td>[]</td>\n",
              "      <td>[]</td>\n",
              "      <td>[]</td>\n",
              "      <td>[]</td>\n",
              "    </tr>\n",
              "    <tr>\n",
              "      <th>7</th>\n",
              "      <td>['1    ']</td>\n",
              "      <td>['B.Sc. Mathematics']</td>\n",
              "      <td>['Sailesh Earath Krishnan']</td>\n",
              "      <td>['●  Front-end development using HTML, CSS and...</td>\n",
              "      <td>['Calicut University', 'Sailesh Earath Krishnan']</td>\n",
              "      <td>[]</td>\n",
              "      <td>[]</td>\n",
              "      <td>['University']</td>\n",
              "      <td>[]</td>\n",
              "    </tr>\n",
              "    <tr>\n",
              "      <th>8</th>\n",
              "      <td>['Rajesh M']</td>\n",
              "      <td>['7 members       Role']</td>\n",
              "      <td>[]</td>\n",
              "      <td>['Volante Technology, Chennai from June 2020 t...</td>\n",
              "      <td>[]</td>\n",
              "      <td>[]</td>\n",
              "      <td>['2015']</td>\n",
              "      <td>[]</td>\n",
              "      <td>[]</td>\n",
              "    </tr>\n",
              "    <tr>\n",
              "      <th>9</th>\n",
              "      <td>['Mohanapriya Meganathan             ']</td>\n",
              "      <td>['T.J.S Engineering College, Chennai', 'HSC', ...</td>\n",
              "      <td>['Associate Software Engineer']</td>\n",
              "      <td>['Programming Languages :  C, C++']</td>\n",
              "      <td>['Electronics and Communication Engineering', ...</td>\n",
              "      <td>[]</td>\n",
              "      <td>[]</td>\n",
              "      <td>[]</td>\n",
              "      <td>['E. Meganathan', 'Married']</td>\n",
              "    </tr>\n",
              "  </tbody>\n",
              "</table>\n",
              "</div>\n",
              "      <button class=\"colab-df-convert\" onclick=\"convertToInteractive('df-8be1edb3-cebe-4cb2-8aeb-2f8925f507c7')\"\n",
              "              title=\"Convert this dataframe to an interactive table.\"\n",
              "              style=\"display:none;\">\n",
              "        \n",
              "  <svg xmlns=\"http://www.w3.org/2000/svg\" height=\"24px\"viewBox=\"0 0 24 24\"\n",
              "       width=\"24px\">\n",
              "    <path d=\"M0 0h24v24H0V0z\" fill=\"none\"/>\n",
              "    <path d=\"M18.56 5.44l.94 2.06.94-2.06 2.06-.94-2.06-.94-.94-2.06-.94 2.06-2.06.94zm-11 1L8.5 8.5l.94-2.06 2.06-.94-2.06-.94L8.5 2.5l-.94 2.06-2.06.94zm10 10l.94 2.06.94-2.06 2.06-.94-2.06-.94-.94-2.06-.94 2.06-2.06.94z\"/><path d=\"M17.41 7.96l-1.37-1.37c-.4-.4-.92-.59-1.43-.59-.52 0-1.04.2-1.43.59L10.3 9.45l-7.72 7.72c-.78.78-.78 2.05 0 2.83L4 21.41c.39.39.9.59 1.41.59.51 0 1.02-.2 1.41-.59l7.78-7.78 2.81-2.81c.8-.78.8-2.07 0-2.86zM5.41 20L4 18.59l7.72-7.72 1.47 1.35L5.41 20z\"/>\n",
              "  </svg>\n",
              "      </button>\n",
              "      \n",
              "  <style>\n",
              "    .colab-df-container {\n",
              "      display:flex;\n",
              "      flex-wrap:wrap;\n",
              "      gap: 12px;\n",
              "    }\n",
              "\n",
              "    .colab-df-convert {\n",
              "      background-color: #E8F0FE;\n",
              "      border: none;\n",
              "      border-radius: 50%;\n",
              "      cursor: pointer;\n",
              "      display: none;\n",
              "      fill: #1967D2;\n",
              "      height: 32px;\n",
              "      padding: 0 0 0 0;\n",
              "      width: 32px;\n",
              "    }\n",
              "\n",
              "    .colab-df-convert:hover {\n",
              "      background-color: #E2EBFA;\n",
              "      box-shadow: 0px 1px 2px rgba(60, 64, 67, 0.3), 0px 1px 3px 1px rgba(60, 64, 67, 0.15);\n",
              "      fill: #174EA6;\n",
              "    }\n",
              "\n",
              "    [theme=dark] .colab-df-convert {\n",
              "      background-color: #3B4455;\n",
              "      fill: #D2E3FC;\n",
              "    }\n",
              "\n",
              "    [theme=dark] .colab-df-convert:hover {\n",
              "      background-color: #434B5C;\n",
              "      box-shadow: 0px 1px 3px 1px rgba(0, 0, 0, 0.15);\n",
              "      filter: drop-shadow(0px 1px 2px rgba(0, 0, 0, 0.3));\n",
              "      fill: #FFFFFF;\n",
              "    }\n",
              "  </style>\n",
              "\n",
              "      <script>\n",
              "        const buttonEl =\n",
              "          document.querySelector('#df-8be1edb3-cebe-4cb2-8aeb-2f8925f507c7 button.colab-df-convert');\n",
              "        buttonEl.style.display =\n",
              "          google.colab.kernel.accessAllowed ? 'block' : 'none';\n",
              "\n",
              "        async function convertToInteractive(key) {\n",
              "          const element = document.querySelector('#df-8be1edb3-cebe-4cb2-8aeb-2f8925f507c7');\n",
              "          const dataTable =\n",
              "            await google.colab.kernel.invokeFunction('convertToInteractive',\n",
              "                                                     [key], {});\n",
              "          if (!dataTable) return;\n",
              "\n",
              "          const docLinkHtml = 'Like what you see? Visit the ' +\n",
              "            '<a target=\"_blank\" href=https://colab.research.google.com/notebooks/data_table.ipynb>data table notebook</a>'\n",
              "            + ' to learn more about interactive tables.';\n",
              "          element.innerHTML = '';\n",
              "          dataTable['output_type'] = 'display_data';\n",
              "          await google.colab.output.renderOutput(dataTable, element);\n",
              "          const docLink = document.createElement('div');\n",
              "          docLink.innerHTML = docLinkHtml;\n",
              "          element.appendChild(docLink);\n",
              "        }\n",
              "      </script>\n",
              "    </div>\n",
              "  </div>\n",
              "  "
            ],
            "text/plain": [
              "                                      NAME  ...                 EMAIL ADDRESS\n",
              "0                                      NaN  ...                           NaN\n",
              "6                                       []  ...                            []\n",
              "7                                ['1    ']  ...                            []\n",
              "8                             ['Rajesh M']  ...                            []\n",
              "9  ['Mohanapriya Meganathan             ']  ...  ['E. Meganathan', 'Married']\n",
              "\n",
              "[5 rows x 9 columns]"
            ]
          },
          "metadata": {},
          "execution_count": 66
        }
      ]
    },
    {
      "cell_type": "code",
      "metadata": {
        "colab": {
          "base_uri": "https://localhost:8080/",
          "height": 462
        },
        "id": "e2x_cfG-S3TT",
        "outputId": "1a8a0f1e-740e-4c64-c8f1-a0aa493723a0"
      },
      "source": [
        "#take the transpose of predicted dataset\n",
        "\n",
        "predicte_datatrans = df.transpose()\n",
        "predicte_datatrans"
      ],
      "execution_count": 67,
      "outputs": [
        {
          "output_type": "execute_result",
          "data": {
            "text/html": [
              "\n",
              "  <div id=\"df-04658645-be85-4b10-8bd1-0bb1ae1d6d41\">\n",
              "    <div class=\"colab-df-container\">\n",
              "      <div>\n",
              "<style scoped>\n",
              "    .dataframe tbody tr th:only-of-type {\n",
              "        vertical-align: middle;\n",
              "    }\n",
              "\n",
              "    .dataframe tbody tr th {\n",
              "        vertical-align: top;\n",
              "    }\n",
              "\n",
              "    .dataframe thead th {\n",
              "        text-align: right;\n",
              "    }\n",
              "</style>\n",
              "<table border=\"1\" class=\"dataframe\">\n",
              "  <thead>\n",
              "    <tr style=\"text-align: right;\">\n",
              "      <th></th>\n",
              "      <th>0</th>\n",
              "      <th>6</th>\n",
              "      <th>7</th>\n",
              "      <th>8</th>\n",
              "      <th>9</th>\n",
              "    </tr>\n",
              "  </thead>\n",
              "  <tbody>\n",
              "    <tr>\n",
              "      <th>NAME</th>\n",
              "      <td>NaN</td>\n",
              "      <td>[]</td>\n",
              "      <td>['1    ']</td>\n",
              "      <td>['Rajesh M']</td>\n",
              "      <td>['Mohanapriya Meganathan             ']</td>\n",
              "    </tr>\n",
              "    <tr>\n",
              "      <th>DEGREE</th>\n",
              "      <td>Exposure in JavaScript,JQuery,</td>\n",
              "      <td>['B-tech graduate with 3+ year experience in w...</td>\n",
              "      <td>['B.Sc. Mathematics']</td>\n",
              "      <td>['7 members       Role']</td>\n",
              "      <td>['T.J.S Engineering College, Chennai', 'HSC', ...</td>\n",
              "    </tr>\n",
              "    <tr>\n",
              "      <th>DESIGNATION</th>\n",
              "      <td>●</td>\n",
              "      <td>[]</td>\n",
              "      <td>['Sailesh Earath Krishnan']</td>\n",
              "      <td>[]</td>\n",
              "      <td>['Associate Software Engineer']</td>\n",
              "    </tr>\n",
              "    <tr>\n",
              "      <th>SKILLS</th>\n",
              "      <td>Exenta Software Pvt. Ltd (Trivandrum) – Softwa...</td>\n",
              "      <td>['SOFTWARE DEVELOPER, XMINDS INFOTECH PVT LTD,...</td>\n",
              "      <td>['●  Front-end development using HTML, CSS and...</td>\n",
              "      <td>['Volante Technology, Chennai from June 2020 t...</td>\n",
              "      <td>['Programming Languages :  C, C++']</td>\n",
              "    </tr>\n",
              "    <tr>\n",
              "      <th>COLLEGE NAME</th>\n",
              "      <td>Banking Software</td>\n",
              "      <td>['SOFTWARE TESTING(MANUAL)', 'Languages Known:...</td>\n",
              "      <td>['Calicut University', 'Sailesh Earath Krishnan']</td>\n",
              "      <td>[]</td>\n",
              "      <td>['Electronics and Communication Engineering', ...</td>\n",
              "    </tr>\n",
              "    <tr>\n",
              "      <th>LOCATION</th>\n",
              "      <td>NaN</td>\n",
              "      <td>[]</td>\n",
              "      <td>[]</td>\n",
              "      <td>[]</td>\n",
              "      <td>[]</td>\n",
              "    </tr>\n",
              "    <tr>\n",
              "      <th>GRADUATION YEAR</th>\n",
              "      <td>NaN</td>\n",
              "      <td>[]</td>\n",
              "      <td>[]</td>\n",
              "      <td>['2015']</td>\n",
              "      <td>[]</td>\n",
              "    </tr>\n",
              "    <tr>\n",
              "      <th>COMPANIES WORKED AT</th>\n",
              "      <td>(17 JUL 2019 – Till Date)        CERTIFICATION...</td>\n",
              "      <td>[]</td>\n",
              "      <td>['University']</td>\n",
              "      <td>[]</td>\n",
              "      <td>[]</td>\n",
              "    </tr>\n",
              "    <tr>\n",
              "      <th>EMAIL ADDRESS</th>\n",
              "      <td>NaN</td>\n",
              "      <td>[]</td>\n",
              "      <td>[]</td>\n",
              "      <td>[]</td>\n",
              "      <td>['E. Meganathan', 'Married']</td>\n",
              "    </tr>\n",
              "  </tbody>\n",
              "</table>\n",
              "</div>\n",
              "      <button class=\"colab-df-convert\" onclick=\"convertToInteractive('df-04658645-be85-4b10-8bd1-0bb1ae1d6d41')\"\n",
              "              title=\"Convert this dataframe to an interactive table.\"\n",
              "              style=\"display:none;\">\n",
              "        \n",
              "  <svg xmlns=\"http://www.w3.org/2000/svg\" height=\"24px\"viewBox=\"0 0 24 24\"\n",
              "       width=\"24px\">\n",
              "    <path d=\"M0 0h24v24H0V0z\" fill=\"none\"/>\n",
              "    <path d=\"M18.56 5.44l.94 2.06.94-2.06 2.06-.94-2.06-.94-.94-2.06-.94 2.06-2.06.94zm-11 1L8.5 8.5l.94-2.06 2.06-.94-2.06-.94L8.5 2.5l-.94 2.06-2.06.94zm10 10l.94 2.06.94-2.06 2.06-.94-2.06-.94-.94-2.06-.94 2.06-2.06.94z\"/><path d=\"M17.41 7.96l-1.37-1.37c-.4-.4-.92-.59-1.43-.59-.52 0-1.04.2-1.43.59L10.3 9.45l-7.72 7.72c-.78.78-.78 2.05 0 2.83L4 21.41c.39.39.9.59 1.41.59.51 0 1.02-.2 1.41-.59l7.78-7.78 2.81-2.81c.8-.78.8-2.07 0-2.86zM5.41 20L4 18.59l7.72-7.72 1.47 1.35L5.41 20z\"/>\n",
              "  </svg>\n",
              "      </button>\n",
              "      \n",
              "  <style>\n",
              "    .colab-df-container {\n",
              "      display:flex;\n",
              "      flex-wrap:wrap;\n",
              "      gap: 12px;\n",
              "    }\n",
              "\n",
              "    .colab-df-convert {\n",
              "      background-color: #E8F0FE;\n",
              "      border: none;\n",
              "      border-radius: 50%;\n",
              "      cursor: pointer;\n",
              "      display: none;\n",
              "      fill: #1967D2;\n",
              "      height: 32px;\n",
              "      padding: 0 0 0 0;\n",
              "      width: 32px;\n",
              "    }\n",
              "\n",
              "    .colab-df-convert:hover {\n",
              "      background-color: #E2EBFA;\n",
              "      box-shadow: 0px 1px 2px rgba(60, 64, 67, 0.3), 0px 1px 3px 1px rgba(60, 64, 67, 0.15);\n",
              "      fill: #174EA6;\n",
              "    }\n",
              "\n",
              "    [theme=dark] .colab-df-convert {\n",
              "      background-color: #3B4455;\n",
              "      fill: #D2E3FC;\n",
              "    }\n",
              "\n",
              "    [theme=dark] .colab-df-convert:hover {\n",
              "      background-color: #434B5C;\n",
              "      box-shadow: 0px 1px 3px 1px rgba(0, 0, 0, 0.15);\n",
              "      filter: drop-shadow(0px 1px 2px rgba(0, 0, 0, 0.3));\n",
              "      fill: #FFFFFF;\n",
              "    }\n",
              "  </style>\n",
              "\n",
              "      <script>\n",
              "        const buttonEl =\n",
              "          document.querySelector('#df-04658645-be85-4b10-8bd1-0bb1ae1d6d41 button.colab-df-convert');\n",
              "        buttonEl.style.display =\n",
              "          google.colab.kernel.accessAllowed ? 'block' : 'none';\n",
              "\n",
              "        async function convertToInteractive(key) {\n",
              "          const element = document.querySelector('#df-04658645-be85-4b10-8bd1-0bb1ae1d6d41');\n",
              "          const dataTable =\n",
              "            await google.colab.kernel.invokeFunction('convertToInteractive',\n",
              "                                                     [key], {});\n",
              "          if (!dataTable) return;\n",
              "\n",
              "          const docLinkHtml = 'Like what you see? Visit the ' +\n",
              "            '<a target=\"_blank\" href=https://colab.research.google.com/notebooks/data_table.ipynb>data table notebook</a>'\n",
              "            + ' to learn more about interactive tables.';\n",
              "          element.innerHTML = '';\n",
              "          dataTable['output_type'] = 'display_data';\n",
              "          await google.colab.output.renderOutput(dataTable, element);\n",
              "          const docLink = document.createElement('div');\n",
              "          docLink.innerHTML = docLinkHtml;\n",
              "          element.appendChild(docLink);\n",
              "        }\n",
              "      </script>\n",
              "    </div>\n",
              "  </div>\n",
              "  "
            ],
            "text/plain": [
              "                                                                     0  ...                                                  9\n",
              "NAME                                                               NaN  ...            ['Mohanapriya Meganathan             ']\n",
              "DEGREE                                  Exposure in JavaScript,JQuery,  ...  ['T.J.S Engineering College, Chennai', 'HSC', ...\n",
              "DESIGNATION                                                          ●  ...                    ['Associate Software Engineer']\n",
              "SKILLS               Exenta Software Pvt. Ltd (Trivandrum) – Softwa...  ...                ['Programming Languages :  C, C++']\n",
              "COLLEGE NAME                                          Banking Software  ...  ['Electronics and Communication Engineering', ...\n",
              "LOCATION                                                           NaN  ...                                                 []\n",
              "GRADUATION YEAR                                                    NaN  ...                                                 []\n",
              "COMPANIES WORKED AT  (17 JUL 2019 – Till Date)        CERTIFICATION...  ...                                                 []\n",
              "EMAIL ADDRESS                                                      NaN  ...                       ['E. Meganathan', 'Married']\n",
              "\n",
              "[9 rows x 5 columns]"
            ]
          },
          "metadata": {},
          "execution_count": 67
        }
      ]
    },
    {
      "cell_type": "code",
      "metadata": {
        "id": "19VafuMkS6dz"
      },
      "source": [
        "#no value present in email row so its an unwanted data, so it delete from dataset\n",
        "\n",
        "predicte_datatrans = predicte_datatrans.drop(labels=\"EMAIL ADDRESS\", axis=0)"
      ],
      "execution_count": 68,
      "outputs": []
    },
    {
      "cell_type": "code",
      "metadata": {
        "id": "RW0xumy3S7SU"
      },
      "source": [
        "#rename the columns in predicted dataset\n",
        "\n",
        "predicte_datatrans.columns = ['resume_pred1','resume_pred2','resume_pred3','resume_pred4','resume_pred5']"
      ],
      "execution_count": 69,
      "outputs": []
    },
    {
      "cell_type": "code",
      "metadata": {
        "colab": {
          "base_uri": "https://localhost:8080/"
        },
        "id": "lPg_U7ICS-Sp",
        "outputId": "a96f43a8-a702-45d4-84f9-aaf7b2672666"
      },
      "source": [
        "#print the new column name of predicted dataset\n",
        "\n",
        "print(predicte_datatrans.columns)"
      ],
      "execution_count": 70,
      "outputs": [
        {
          "output_type": "stream",
          "name": "stdout",
          "text": [
            "Index(['resume_pred1', 'resume_pred2', 'resume_pred3', 'resume_pred4',\n",
            "       'resume_pred5'],\n",
            "      dtype='object')\n"
          ]
        }
      ]
    },
    {
      "cell_type": "markdown",
      "metadata": {
        "id": "bAX1inizl7Zw"
      },
      "source": [
        "We applying transpose to the predicted dataframe for inter changing the rows and columns in the dataframe. and remove the EMAIL ADRESS column because it has no values and also this data is not available in manual dataframe. Finaly rename the column name as resume_pred1,resume_pred2....."
      ]
    },
    {
      "cell_type": "markdown",
      "metadata": {
        "id": "XBEvxvi2TC_2"
      },
      "source": [
        "#Actual Dataset"
      ]
    },
    {
      "cell_type": "code",
      "metadata": {
        "colab": {
          "base_uri": "https://localhost:8080/",
          "height": 355
        },
        "id": "XFIbVqFpTAwO",
        "outputId": "7cb2ac0b-fe5b-4404-c717-45da0353f2a3"
      },
      "source": [
        "#load the actual dataset and show the details\n",
        "\n",
        "df1= pd.read_excel('/content/manual data orginal.xlsx')\n",
        "df1"
      ],
      "execution_count": 71,
      "outputs": [
        {
          "output_type": "execute_result",
          "data": {
            "text/html": [
              "\n",
              "  <div id=\"df-59987685-0c7f-4a8f-8a43-4bc7cfc448a9\">\n",
              "    <div class=\"colab-df-container\">\n",
              "      <div>\n",
              "<style scoped>\n",
              "    .dataframe tbody tr th:only-of-type {\n",
              "        vertical-align: middle;\n",
              "    }\n",
              "\n",
              "    .dataframe tbody tr th {\n",
              "        vertical-align: top;\n",
              "    }\n",
              "\n",
              "    .dataframe thead th {\n",
              "        text-align: right;\n",
              "    }\n",
              "</style>\n",
              "<table border=\"1\" class=\"dataframe\">\n",
              "  <thead>\n",
              "    <tr style=\"text-align: right;\">\n",
              "      <th></th>\n",
              "      <th>NAME</th>\n",
              "      <th>DEGREE</th>\n",
              "      <th>DESIGNATION</th>\n",
              "      <th>SKILLS</th>\n",
              "      <th>COLLEGE NAME</th>\n",
              "      <th>LOCATION</th>\n",
              "      <th>GRADUATION YEAR</th>\n",
              "      <th>COMPANIES WORKED AT</th>\n",
              "    </tr>\n",
              "  </thead>\n",
              "  <tbody>\n",
              "    <tr>\n",
              "      <th>0</th>\n",
              "      <td>Jebacerin.L</td>\n",
              "      <td>ME</td>\n",
              "      <td>Software Engineer</td>\n",
              "      <td>C#.NET, ASP.NET, .NET Framework 4.5,WPF, XML, ...</td>\n",
              "      <td>NaN</td>\n",
              "      <td>Trivandrum</td>\n",
              "      <td>NaN</td>\n",
              "      <td>MSN Ltd(Trivandrum)</td>\n",
              "    </tr>\n",
              "    <tr>\n",
              "      <th>1</th>\n",
              "      <td>Shaniba M</td>\n",
              "      <td>BTech</td>\n",
              "      <td>Software Developer</td>\n",
              "      <td>ANGULAR 2 AND ABOVE (ANGULAR 8 CURRENTLY WORKI...</td>\n",
              "      <td>COLLEGE OF ENGINEERING VADAKARA</td>\n",
              "      <td>NaN</td>\n",
              "      <td>2015.0</td>\n",
              "      <td>XMINDS INFOTECH PVT LTD, TRIVANDRUM</td>\n",
              "    </tr>\n",
              "    <tr>\n",
              "      <th>2</th>\n",
              "      <td>Sailesh Earath Krishnan</td>\n",
              "      <td>MCA</td>\n",
              "      <td>Graphics Designer</td>\n",
              "      <td>Front-end development using HTML, CSS and jQue...</td>\n",
              "      <td>Anna University</td>\n",
              "      <td>Cochin</td>\n",
              "      <td>2008.0</td>\n",
              "      <td>Freelancer</td>\n",
              "    </tr>\n",
              "    <tr>\n",
              "      <th>3</th>\n",
              "      <td>Rajesh M</td>\n",
              "      <td>MCA</td>\n",
              "      <td>NaN</td>\n",
              "      <td>Programming Languages : Java ,Technologies :J2...</td>\n",
              "      <td>Jeppiaar Engineering College</td>\n",
              "      <td>Chennai</td>\n",
              "      <td>2015.0</td>\n",
              "      <td>Volante Technology, Chennai</td>\n",
              "    </tr>\n",
              "    <tr>\n",
              "      <th>4</th>\n",
              "      <td>Mohanapriya Meganathan\\n</td>\n",
              "      <td>BE</td>\n",
              "      <td>Lead Engineer</td>\n",
              "      <td>Programming Languages : C, C++, Scripting Lang...</td>\n",
              "      <td>T.J.S Engineering College</td>\n",
              "      <td>Chennai</td>\n",
              "      <td>2014.0</td>\n",
              "      <td>HCL Technologies India Private Limited</td>\n",
              "    </tr>\n",
              "  </tbody>\n",
              "</table>\n",
              "</div>\n",
              "      <button class=\"colab-df-convert\" onclick=\"convertToInteractive('df-59987685-0c7f-4a8f-8a43-4bc7cfc448a9')\"\n",
              "              title=\"Convert this dataframe to an interactive table.\"\n",
              "              style=\"display:none;\">\n",
              "        \n",
              "  <svg xmlns=\"http://www.w3.org/2000/svg\" height=\"24px\"viewBox=\"0 0 24 24\"\n",
              "       width=\"24px\">\n",
              "    <path d=\"M0 0h24v24H0V0z\" fill=\"none\"/>\n",
              "    <path d=\"M18.56 5.44l.94 2.06.94-2.06 2.06-.94-2.06-.94-.94-2.06-.94 2.06-2.06.94zm-11 1L8.5 8.5l.94-2.06 2.06-.94-2.06-.94L8.5 2.5l-.94 2.06-2.06.94zm10 10l.94 2.06.94-2.06 2.06-.94-2.06-.94-.94-2.06-.94 2.06-2.06.94z\"/><path d=\"M17.41 7.96l-1.37-1.37c-.4-.4-.92-.59-1.43-.59-.52 0-1.04.2-1.43.59L10.3 9.45l-7.72 7.72c-.78.78-.78 2.05 0 2.83L4 21.41c.39.39.9.59 1.41.59.51 0 1.02-.2 1.41-.59l7.78-7.78 2.81-2.81c.8-.78.8-2.07 0-2.86zM5.41 20L4 18.59l7.72-7.72 1.47 1.35L5.41 20z\"/>\n",
              "  </svg>\n",
              "      </button>\n",
              "      \n",
              "  <style>\n",
              "    .colab-df-container {\n",
              "      display:flex;\n",
              "      flex-wrap:wrap;\n",
              "      gap: 12px;\n",
              "    }\n",
              "\n",
              "    .colab-df-convert {\n",
              "      background-color: #E8F0FE;\n",
              "      border: none;\n",
              "      border-radius: 50%;\n",
              "      cursor: pointer;\n",
              "      display: none;\n",
              "      fill: #1967D2;\n",
              "      height: 32px;\n",
              "      padding: 0 0 0 0;\n",
              "      width: 32px;\n",
              "    }\n",
              "\n",
              "    .colab-df-convert:hover {\n",
              "      background-color: #E2EBFA;\n",
              "      box-shadow: 0px 1px 2px rgba(60, 64, 67, 0.3), 0px 1px 3px 1px rgba(60, 64, 67, 0.15);\n",
              "      fill: #174EA6;\n",
              "    }\n",
              "\n",
              "    [theme=dark] .colab-df-convert {\n",
              "      background-color: #3B4455;\n",
              "      fill: #D2E3FC;\n",
              "    }\n",
              "\n",
              "    [theme=dark] .colab-df-convert:hover {\n",
              "      background-color: #434B5C;\n",
              "      box-shadow: 0px 1px 3px 1px rgba(0, 0, 0, 0.15);\n",
              "      filter: drop-shadow(0px 1px 2px rgba(0, 0, 0, 0.3));\n",
              "      fill: #FFFFFF;\n",
              "    }\n",
              "  </style>\n",
              "\n",
              "      <script>\n",
              "        const buttonEl =\n",
              "          document.querySelector('#df-59987685-0c7f-4a8f-8a43-4bc7cfc448a9 button.colab-df-convert');\n",
              "        buttonEl.style.display =\n",
              "          google.colab.kernel.accessAllowed ? 'block' : 'none';\n",
              "\n",
              "        async function convertToInteractive(key) {\n",
              "          const element = document.querySelector('#df-59987685-0c7f-4a8f-8a43-4bc7cfc448a9');\n",
              "          const dataTable =\n",
              "            await google.colab.kernel.invokeFunction('convertToInteractive',\n",
              "                                                     [key], {});\n",
              "          if (!dataTable) return;\n",
              "\n",
              "          const docLinkHtml = 'Like what you see? Visit the ' +\n",
              "            '<a target=\"_blank\" href=https://colab.research.google.com/notebooks/data_table.ipynb>data table notebook</a>'\n",
              "            + ' to learn more about interactive tables.';\n",
              "          element.innerHTML = '';\n",
              "          dataTable['output_type'] = 'display_data';\n",
              "          await google.colab.output.renderOutput(dataTable, element);\n",
              "          const docLink = document.createElement('div');\n",
              "          docLink.innerHTML = docLinkHtml;\n",
              "          element.appendChild(docLink);\n",
              "        }\n",
              "      </script>\n",
              "    </div>\n",
              "  </div>\n",
              "  "
            ],
            "text/plain": [
              "                       NAME  ...                     COMPANIES WORKED AT\n",
              "0               Jebacerin.L  ...                     MSN Ltd(Trivandrum)\n",
              "1                 Shaniba M  ...     XMINDS INFOTECH PVT LTD, TRIVANDRUM\n",
              "2   Sailesh Earath Krishnan  ...                              Freelancer\n",
              "3                 Rajesh M   ...            Volante Technology, Chennai \n",
              "4  Mohanapriya Meganathan\\n  ...  HCL Technologies India Private Limited\n",
              "\n",
              "[5 rows x 8 columns]"
            ]
          },
          "metadata": {},
          "execution_count": 71
        }
      ]
    },
    {
      "cell_type": "code",
      "metadata": {
        "colab": {
          "base_uri": "https://localhost:8080/",
          "height": 413
        },
        "id": "6pyBwEfCTIkg",
        "outputId": "b0535fae-90c2-47fa-829a-b80f7ada1d3c"
      },
      "source": [
        "#take the transpose if the actual dataset\n",
        "\n",
        "manual_datatrans = df1.transpose()\n",
        "manual_datatrans"
      ],
      "execution_count": 72,
      "outputs": [
        {
          "output_type": "execute_result",
          "data": {
            "text/html": [
              "\n",
              "  <div id=\"df-f9c77956-931d-4119-b593-81981a90ccc1\">\n",
              "    <div class=\"colab-df-container\">\n",
              "      <div>\n",
              "<style scoped>\n",
              "    .dataframe tbody tr th:only-of-type {\n",
              "        vertical-align: middle;\n",
              "    }\n",
              "\n",
              "    .dataframe tbody tr th {\n",
              "        vertical-align: top;\n",
              "    }\n",
              "\n",
              "    .dataframe thead th {\n",
              "        text-align: right;\n",
              "    }\n",
              "</style>\n",
              "<table border=\"1\" class=\"dataframe\">\n",
              "  <thead>\n",
              "    <tr style=\"text-align: right;\">\n",
              "      <th></th>\n",
              "      <th>0</th>\n",
              "      <th>1</th>\n",
              "      <th>2</th>\n",
              "      <th>3</th>\n",
              "      <th>4</th>\n",
              "    </tr>\n",
              "  </thead>\n",
              "  <tbody>\n",
              "    <tr>\n",
              "      <th>NAME</th>\n",
              "      <td>Jebacerin.L</td>\n",
              "      <td>Shaniba M</td>\n",
              "      <td>Sailesh Earath Krishnan</td>\n",
              "      <td>Rajesh M</td>\n",
              "      <td>Mohanapriya Meganathan\\n</td>\n",
              "    </tr>\n",
              "    <tr>\n",
              "      <th>DEGREE</th>\n",
              "      <td>ME</td>\n",
              "      <td>BTech</td>\n",
              "      <td>MCA</td>\n",
              "      <td>MCA</td>\n",
              "      <td>BE</td>\n",
              "    </tr>\n",
              "    <tr>\n",
              "      <th>DESIGNATION</th>\n",
              "      <td>Software Engineer</td>\n",
              "      <td>Software Developer</td>\n",
              "      <td>Graphics Designer</td>\n",
              "      <td>NaN</td>\n",
              "      <td>Lead Engineer</td>\n",
              "    </tr>\n",
              "    <tr>\n",
              "      <th>SKILLS</th>\n",
              "      <td>C#.NET, ASP.NET, .NET Framework 4.5,WPF, XML, ...</td>\n",
              "      <td>ANGULAR 2 AND ABOVE (ANGULAR 8 CURRENTLY WORKI...</td>\n",
              "      <td>Front-end development using HTML, CSS and jQue...</td>\n",
              "      <td>Programming Languages : Java ,Technologies :J2...</td>\n",
              "      <td>Programming Languages : C, C++, Scripting Lang...</td>\n",
              "    </tr>\n",
              "    <tr>\n",
              "      <th>COLLEGE NAME</th>\n",
              "      <td>NaN</td>\n",
              "      <td>COLLEGE OF ENGINEERING VADAKARA</td>\n",
              "      <td>Anna University</td>\n",
              "      <td>Jeppiaar Engineering College</td>\n",
              "      <td>T.J.S Engineering College</td>\n",
              "    </tr>\n",
              "    <tr>\n",
              "      <th>LOCATION</th>\n",
              "      <td>Trivandrum</td>\n",
              "      <td>NaN</td>\n",
              "      <td>Cochin</td>\n",
              "      <td>Chennai</td>\n",
              "      <td>Chennai</td>\n",
              "    </tr>\n",
              "    <tr>\n",
              "      <th>GRADUATION YEAR</th>\n",
              "      <td>NaN</td>\n",
              "      <td>2015</td>\n",
              "      <td>2008</td>\n",
              "      <td>2015</td>\n",
              "      <td>2014</td>\n",
              "    </tr>\n",
              "    <tr>\n",
              "      <th>COMPANIES WORKED AT</th>\n",
              "      <td>MSN Ltd(Trivandrum)</td>\n",
              "      <td>XMINDS INFOTECH PVT LTD, TRIVANDRUM</td>\n",
              "      <td>Freelancer</td>\n",
              "      <td>Volante Technology, Chennai</td>\n",
              "      <td>HCL Technologies India Private Limited</td>\n",
              "    </tr>\n",
              "  </tbody>\n",
              "</table>\n",
              "</div>\n",
              "      <button class=\"colab-df-convert\" onclick=\"convertToInteractive('df-f9c77956-931d-4119-b593-81981a90ccc1')\"\n",
              "              title=\"Convert this dataframe to an interactive table.\"\n",
              "              style=\"display:none;\">\n",
              "        \n",
              "  <svg xmlns=\"http://www.w3.org/2000/svg\" height=\"24px\"viewBox=\"0 0 24 24\"\n",
              "       width=\"24px\">\n",
              "    <path d=\"M0 0h24v24H0V0z\" fill=\"none\"/>\n",
              "    <path d=\"M18.56 5.44l.94 2.06.94-2.06 2.06-.94-2.06-.94-.94-2.06-.94 2.06-2.06.94zm-11 1L8.5 8.5l.94-2.06 2.06-.94-2.06-.94L8.5 2.5l-.94 2.06-2.06.94zm10 10l.94 2.06.94-2.06 2.06-.94-2.06-.94-.94-2.06-.94 2.06-2.06.94z\"/><path d=\"M17.41 7.96l-1.37-1.37c-.4-.4-.92-.59-1.43-.59-.52 0-1.04.2-1.43.59L10.3 9.45l-7.72 7.72c-.78.78-.78 2.05 0 2.83L4 21.41c.39.39.9.59 1.41.59.51 0 1.02-.2 1.41-.59l7.78-7.78 2.81-2.81c.8-.78.8-2.07 0-2.86zM5.41 20L4 18.59l7.72-7.72 1.47 1.35L5.41 20z\"/>\n",
              "  </svg>\n",
              "      </button>\n",
              "      \n",
              "  <style>\n",
              "    .colab-df-container {\n",
              "      display:flex;\n",
              "      flex-wrap:wrap;\n",
              "      gap: 12px;\n",
              "    }\n",
              "\n",
              "    .colab-df-convert {\n",
              "      background-color: #E8F0FE;\n",
              "      border: none;\n",
              "      border-radius: 50%;\n",
              "      cursor: pointer;\n",
              "      display: none;\n",
              "      fill: #1967D2;\n",
              "      height: 32px;\n",
              "      padding: 0 0 0 0;\n",
              "      width: 32px;\n",
              "    }\n",
              "\n",
              "    .colab-df-convert:hover {\n",
              "      background-color: #E2EBFA;\n",
              "      box-shadow: 0px 1px 2px rgba(60, 64, 67, 0.3), 0px 1px 3px 1px rgba(60, 64, 67, 0.15);\n",
              "      fill: #174EA6;\n",
              "    }\n",
              "\n",
              "    [theme=dark] .colab-df-convert {\n",
              "      background-color: #3B4455;\n",
              "      fill: #D2E3FC;\n",
              "    }\n",
              "\n",
              "    [theme=dark] .colab-df-convert:hover {\n",
              "      background-color: #434B5C;\n",
              "      box-shadow: 0px 1px 3px 1px rgba(0, 0, 0, 0.15);\n",
              "      filter: drop-shadow(0px 1px 2px rgba(0, 0, 0, 0.3));\n",
              "      fill: #FFFFFF;\n",
              "    }\n",
              "  </style>\n",
              "\n",
              "      <script>\n",
              "        const buttonEl =\n",
              "          document.querySelector('#df-f9c77956-931d-4119-b593-81981a90ccc1 button.colab-df-convert');\n",
              "        buttonEl.style.display =\n",
              "          google.colab.kernel.accessAllowed ? 'block' : 'none';\n",
              "\n",
              "        async function convertToInteractive(key) {\n",
              "          const element = document.querySelector('#df-f9c77956-931d-4119-b593-81981a90ccc1');\n",
              "          const dataTable =\n",
              "            await google.colab.kernel.invokeFunction('convertToInteractive',\n",
              "                                                     [key], {});\n",
              "          if (!dataTable) return;\n",
              "\n",
              "          const docLinkHtml = 'Like what you see? Visit the ' +\n",
              "            '<a target=\"_blank\" href=https://colab.research.google.com/notebooks/data_table.ipynb>data table notebook</a>'\n",
              "            + ' to learn more about interactive tables.';\n",
              "          element.innerHTML = '';\n",
              "          dataTable['output_type'] = 'display_data';\n",
              "          await google.colab.output.renderOutput(dataTable, element);\n",
              "          const docLink = document.createElement('div');\n",
              "          docLink.innerHTML = docLinkHtml;\n",
              "          element.appendChild(docLink);\n",
              "        }\n",
              "      </script>\n",
              "    </div>\n",
              "  </div>\n",
              "  "
            ],
            "text/plain": [
              "                                                                     0  ...                                                  4\n",
              "NAME                                                       Jebacerin.L  ...                           Mohanapriya Meganathan\\n\n",
              "DEGREE                                                              ME  ...                                                 BE\n",
              "DESIGNATION                                          Software Engineer  ...                                      Lead Engineer\n",
              "SKILLS               C#.NET, ASP.NET, .NET Framework 4.5,WPF, XML, ...  ...  Programming Languages : C, C++, Scripting Lang...\n",
              "COLLEGE NAME                                                       NaN  ...                          T.J.S Engineering College\n",
              "LOCATION                                                    Trivandrum  ...                                            Chennai\n",
              "GRADUATION YEAR                                                    NaN  ...                                               2014\n",
              "COMPANIES WORKED AT                                MSN Ltd(Trivandrum)  ...             HCL Technologies India Private Limited\n",
              "\n",
              "[8 rows x 5 columns]"
            ]
          },
          "metadata": {},
          "execution_count": 72
        }
      ]
    },
    {
      "cell_type": "code",
      "metadata": {
        "id": "3fkHiIjYTL51"
      },
      "source": [
        "#rename the columns in actual dataset\n",
        "\n",
        "manual_datatrans.columns = ['resume_act1','resume_act2','resume_act3','resume_act4','resume_act5']"
      ],
      "execution_count": 73,
      "outputs": []
    },
    {
      "cell_type": "code",
      "metadata": {
        "colab": {
          "base_uri": "https://localhost:8080/"
        },
        "id": "xoZUVHA8TOm_",
        "outputId": "8fc7b245-d320-479e-b768-7faedeb4c7cc"
      },
      "source": [
        "#print the new column name of actual dataset\n",
        "\n",
        "print(manual_datatrans.columns)"
      ],
      "execution_count": 74,
      "outputs": [
        {
          "output_type": "stream",
          "name": "stdout",
          "text": [
            "Index(['resume_act1', 'resume_act2', 'resume_act3', 'resume_act4',\n",
            "       'resume_act5'],\n",
            "      dtype='object')\n"
          ]
        }
      ]
    },
    {
      "cell_type": "markdown",
      "metadata": {
        "id": "xHVX8HYpmqs5"
      },
      "source": [
        "We applying transpose to the manual dataframe for inter changing the rows and columns in the dataframe. Finaly rename the column name as resume_act1, resume_act2.....\n",
        "\n"
      ]
    },
    {
      "cell_type": "markdown",
      "metadata": {
        "id": "XbHzg8WYTTY9"
      },
      "source": [
        "#Merging"
      ]
    },
    {
      "cell_type": "code",
      "metadata": {
        "colab": {
          "base_uri": "https://localhost:8080/",
          "height": 673
        },
        "id": "_OS57mmPTRrn",
        "outputId": "a55ef902-da16-46f4-f605-334597b5cd49"
      },
      "source": [
        "# using a .concat for union of dataframe (set axes join = outer for union of dataframe.)\n",
        "\n",
        "res = pd.concat([manual_datatrans,predicte_datatrans], axis=1, sort=False)\n",
        " \n",
        "res"
      ],
      "execution_count": 75,
      "outputs": [
        {
          "output_type": "execute_result",
          "data": {
            "text/html": [
              "\n",
              "  <div id=\"df-68e39b7f-363b-4543-9901-fc09f6daab5d\">\n",
              "    <div class=\"colab-df-container\">\n",
              "      <div>\n",
              "<style scoped>\n",
              "    .dataframe tbody tr th:only-of-type {\n",
              "        vertical-align: middle;\n",
              "    }\n",
              "\n",
              "    .dataframe tbody tr th {\n",
              "        vertical-align: top;\n",
              "    }\n",
              "\n",
              "    .dataframe thead th {\n",
              "        text-align: right;\n",
              "    }\n",
              "</style>\n",
              "<table border=\"1\" class=\"dataframe\">\n",
              "  <thead>\n",
              "    <tr style=\"text-align: right;\">\n",
              "      <th></th>\n",
              "      <th>resume_act1</th>\n",
              "      <th>resume_act2</th>\n",
              "      <th>resume_act3</th>\n",
              "      <th>resume_act4</th>\n",
              "      <th>resume_act5</th>\n",
              "      <th>resume_pred1</th>\n",
              "      <th>resume_pred2</th>\n",
              "      <th>resume_pred3</th>\n",
              "      <th>resume_pred4</th>\n",
              "      <th>resume_pred5</th>\n",
              "    </tr>\n",
              "  </thead>\n",
              "  <tbody>\n",
              "    <tr>\n",
              "      <th>NAME</th>\n",
              "      <td>Jebacerin.L</td>\n",
              "      <td>Shaniba M</td>\n",
              "      <td>Sailesh Earath Krishnan</td>\n",
              "      <td>Rajesh M</td>\n",
              "      <td>Mohanapriya Meganathan\\n</td>\n",
              "      <td>NaN</td>\n",
              "      <td>[]</td>\n",
              "      <td>['1    ']</td>\n",
              "      <td>['Rajesh M']</td>\n",
              "      <td>['Mohanapriya Meganathan             ']</td>\n",
              "    </tr>\n",
              "    <tr>\n",
              "      <th>DEGREE</th>\n",
              "      <td>ME</td>\n",
              "      <td>BTech</td>\n",
              "      <td>MCA</td>\n",
              "      <td>MCA</td>\n",
              "      <td>BE</td>\n",
              "      <td>Exposure in JavaScript,JQuery,</td>\n",
              "      <td>['B-tech graduate with 3+ year experience in w...</td>\n",
              "      <td>['B.Sc. Mathematics']</td>\n",
              "      <td>['7 members       Role']</td>\n",
              "      <td>['T.J.S Engineering College, Chennai', 'HSC', ...</td>\n",
              "    </tr>\n",
              "    <tr>\n",
              "      <th>DESIGNATION</th>\n",
              "      <td>Software Engineer</td>\n",
              "      <td>Software Developer</td>\n",
              "      <td>Graphics Designer</td>\n",
              "      <td>NaN</td>\n",
              "      <td>Lead Engineer</td>\n",
              "      <td>●</td>\n",
              "      <td>[]</td>\n",
              "      <td>['Sailesh Earath Krishnan']</td>\n",
              "      <td>[]</td>\n",
              "      <td>['Associate Software Engineer']</td>\n",
              "    </tr>\n",
              "    <tr>\n",
              "      <th>SKILLS</th>\n",
              "      <td>C#.NET, ASP.NET, .NET Framework 4.5,WPF, XML, ...</td>\n",
              "      <td>ANGULAR 2 AND ABOVE (ANGULAR 8 CURRENTLY WORKI...</td>\n",
              "      <td>Front-end development using HTML, CSS and jQue...</td>\n",
              "      <td>Programming Languages : Java ,Technologies :J2...</td>\n",
              "      <td>Programming Languages : C, C++, Scripting Lang...</td>\n",
              "      <td>Exenta Software Pvt. Ltd (Trivandrum) – Softwa...</td>\n",
              "      <td>['SOFTWARE DEVELOPER, XMINDS INFOTECH PVT LTD,...</td>\n",
              "      <td>['●  Front-end development using HTML, CSS and...</td>\n",
              "      <td>['Volante Technology, Chennai from June 2020 t...</td>\n",
              "      <td>['Programming Languages :  C, C++']</td>\n",
              "    </tr>\n",
              "    <tr>\n",
              "      <th>COLLEGE NAME</th>\n",
              "      <td>NaN</td>\n",
              "      <td>COLLEGE OF ENGINEERING VADAKARA</td>\n",
              "      <td>Anna University</td>\n",
              "      <td>Jeppiaar Engineering College</td>\n",
              "      <td>T.J.S Engineering College</td>\n",
              "      <td>Banking Software</td>\n",
              "      <td>['SOFTWARE TESTING(MANUAL)', 'Languages Known:...</td>\n",
              "      <td>['Calicut University', 'Sailesh Earath Krishnan']</td>\n",
              "      <td>[]</td>\n",
              "      <td>['Electronics and Communication Engineering', ...</td>\n",
              "    </tr>\n",
              "    <tr>\n",
              "      <th>LOCATION</th>\n",
              "      <td>Trivandrum</td>\n",
              "      <td>NaN</td>\n",
              "      <td>Cochin</td>\n",
              "      <td>Chennai</td>\n",
              "      <td>Chennai</td>\n",
              "      <td>NaN</td>\n",
              "      <td>[]</td>\n",
              "      <td>[]</td>\n",
              "      <td>[]</td>\n",
              "      <td>[]</td>\n",
              "    </tr>\n",
              "    <tr>\n",
              "      <th>GRADUATION YEAR</th>\n",
              "      <td>NaN</td>\n",
              "      <td>2015</td>\n",
              "      <td>2008</td>\n",
              "      <td>2015</td>\n",
              "      <td>2014</td>\n",
              "      <td>NaN</td>\n",
              "      <td>[]</td>\n",
              "      <td>[]</td>\n",
              "      <td>['2015']</td>\n",
              "      <td>[]</td>\n",
              "    </tr>\n",
              "    <tr>\n",
              "      <th>COMPANIES WORKED AT</th>\n",
              "      <td>MSN Ltd(Trivandrum)</td>\n",
              "      <td>XMINDS INFOTECH PVT LTD, TRIVANDRUM</td>\n",
              "      <td>Freelancer</td>\n",
              "      <td>Volante Technology, Chennai</td>\n",
              "      <td>HCL Technologies India Private Limited</td>\n",
              "      <td>(17 JUL 2019 – Till Date)        CERTIFICATION...</td>\n",
              "      <td>[]</td>\n",
              "      <td>['University']</td>\n",
              "      <td>[]</td>\n",
              "      <td>[]</td>\n",
              "    </tr>\n",
              "  </tbody>\n",
              "</table>\n",
              "</div>\n",
              "      <button class=\"colab-df-convert\" onclick=\"convertToInteractive('df-68e39b7f-363b-4543-9901-fc09f6daab5d')\"\n",
              "              title=\"Convert this dataframe to an interactive table.\"\n",
              "              style=\"display:none;\">\n",
              "        \n",
              "  <svg xmlns=\"http://www.w3.org/2000/svg\" height=\"24px\"viewBox=\"0 0 24 24\"\n",
              "       width=\"24px\">\n",
              "    <path d=\"M0 0h24v24H0V0z\" fill=\"none\"/>\n",
              "    <path d=\"M18.56 5.44l.94 2.06.94-2.06 2.06-.94-2.06-.94-.94-2.06-.94 2.06-2.06.94zm-11 1L8.5 8.5l.94-2.06 2.06-.94-2.06-.94L8.5 2.5l-.94 2.06-2.06.94zm10 10l.94 2.06.94-2.06 2.06-.94-2.06-.94-.94-2.06-.94 2.06-2.06.94z\"/><path d=\"M17.41 7.96l-1.37-1.37c-.4-.4-.92-.59-1.43-.59-.52 0-1.04.2-1.43.59L10.3 9.45l-7.72 7.72c-.78.78-.78 2.05 0 2.83L4 21.41c.39.39.9.59 1.41.59.51 0 1.02-.2 1.41-.59l7.78-7.78 2.81-2.81c.8-.78.8-2.07 0-2.86zM5.41 20L4 18.59l7.72-7.72 1.47 1.35L5.41 20z\"/>\n",
              "  </svg>\n",
              "      </button>\n",
              "      \n",
              "  <style>\n",
              "    .colab-df-container {\n",
              "      display:flex;\n",
              "      flex-wrap:wrap;\n",
              "      gap: 12px;\n",
              "    }\n",
              "\n",
              "    .colab-df-convert {\n",
              "      background-color: #E8F0FE;\n",
              "      border: none;\n",
              "      border-radius: 50%;\n",
              "      cursor: pointer;\n",
              "      display: none;\n",
              "      fill: #1967D2;\n",
              "      height: 32px;\n",
              "      padding: 0 0 0 0;\n",
              "      width: 32px;\n",
              "    }\n",
              "\n",
              "    .colab-df-convert:hover {\n",
              "      background-color: #E2EBFA;\n",
              "      box-shadow: 0px 1px 2px rgba(60, 64, 67, 0.3), 0px 1px 3px 1px rgba(60, 64, 67, 0.15);\n",
              "      fill: #174EA6;\n",
              "    }\n",
              "\n",
              "    [theme=dark] .colab-df-convert {\n",
              "      background-color: #3B4455;\n",
              "      fill: #D2E3FC;\n",
              "    }\n",
              "\n",
              "    [theme=dark] .colab-df-convert:hover {\n",
              "      background-color: #434B5C;\n",
              "      box-shadow: 0px 1px 3px 1px rgba(0, 0, 0, 0.15);\n",
              "      filter: drop-shadow(0px 1px 2px rgba(0, 0, 0, 0.3));\n",
              "      fill: #FFFFFF;\n",
              "    }\n",
              "  </style>\n",
              "\n",
              "      <script>\n",
              "        const buttonEl =\n",
              "          document.querySelector('#df-68e39b7f-363b-4543-9901-fc09f6daab5d button.colab-df-convert');\n",
              "        buttonEl.style.display =\n",
              "          google.colab.kernel.accessAllowed ? 'block' : 'none';\n",
              "\n",
              "        async function convertToInteractive(key) {\n",
              "          const element = document.querySelector('#df-68e39b7f-363b-4543-9901-fc09f6daab5d');\n",
              "          const dataTable =\n",
              "            await google.colab.kernel.invokeFunction('convertToInteractive',\n",
              "                                                     [key], {});\n",
              "          if (!dataTable) return;\n",
              "\n",
              "          const docLinkHtml = 'Like what you see? Visit the ' +\n",
              "            '<a target=\"_blank\" href=https://colab.research.google.com/notebooks/data_table.ipynb>data table notebook</a>'\n",
              "            + ' to learn more about interactive tables.';\n",
              "          element.innerHTML = '';\n",
              "          dataTable['output_type'] = 'display_data';\n",
              "          await google.colab.output.renderOutput(dataTable, element);\n",
              "          const docLink = document.createElement('div');\n",
              "          docLink.innerHTML = docLinkHtml;\n",
              "          element.appendChild(docLink);\n",
              "        }\n",
              "      </script>\n",
              "    </div>\n",
              "  </div>\n",
              "  "
            ],
            "text/plain": [
              "                                                           resume_act1  ...                                       resume_pred5\n",
              "NAME                                                       Jebacerin.L  ...            ['Mohanapriya Meganathan             ']\n",
              "DEGREE                                                              ME  ...  ['T.J.S Engineering College, Chennai', 'HSC', ...\n",
              "DESIGNATION                                          Software Engineer  ...                    ['Associate Software Engineer']\n",
              "SKILLS               C#.NET, ASP.NET, .NET Framework 4.5,WPF, XML, ...  ...                ['Programming Languages :  C, C++']\n",
              "COLLEGE NAME                                                       NaN  ...  ['Electronics and Communication Engineering', ...\n",
              "LOCATION                                                    Trivandrum  ...                                                 []\n",
              "GRADUATION YEAR                                                    NaN  ...                                                 []\n",
              "COMPANIES WORKED AT                                MSN Ltd(Trivandrum)  ...                                                 []\n",
              "\n",
              "[8 rows x 10 columns]"
            ]
          },
          "metadata": {},
          "execution_count": 75
        }
      ]
    },
    {
      "cell_type": "code",
      "metadata": {
        "colab": {
          "base_uri": "https://localhost:8080/",
          "height": 673
        },
        "id": "wh-kdsztnrl_",
        "outputId": "8173a9d6-0e1f-4646-9cd3-5869f2f24aa0"
      },
      "source": [
        "#replace the [] into nan\n",
        "\n",
        "res1 = res.replace(to_replace =[\"[]\"],\n",
        "                 value =\"\")\n",
        "\n",
        "res1"
      ],
      "execution_count": 76,
      "outputs": [
        {
          "output_type": "execute_result",
          "data": {
            "text/html": [
              "\n",
              "  <div id=\"df-862392a0-8738-4ccc-a0f0-5691bb862c7b\">\n",
              "    <div class=\"colab-df-container\">\n",
              "      <div>\n",
              "<style scoped>\n",
              "    .dataframe tbody tr th:only-of-type {\n",
              "        vertical-align: middle;\n",
              "    }\n",
              "\n",
              "    .dataframe tbody tr th {\n",
              "        vertical-align: top;\n",
              "    }\n",
              "\n",
              "    .dataframe thead th {\n",
              "        text-align: right;\n",
              "    }\n",
              "</style>\n",
              "<table border=\"1\" class=\"dataframe\">\n",
              "  <thead>\n",
              "    <tr style=\"text-align: right;\">\n",
              "      <th></th>\n",
              "      <th>resume_act1</th>\n",
              "      <th>resume_act2</th>\n",
              "      <th>resume_act3</th>\n",
              "      <th>resume_act4</th>\n",
              "      <th>resume_act5</th>\n",
              "      <th>resume_pred1</th>\n",
              "      <th>resume_pred2</th>\n",
              "      <th>resume_pred3</th>\n",
              "      <th>resume_pred4</th>\n",
              "      <th>resume_pred5</th>\n",
              "    </tr>\n",
              "  </thead>\n",
              "  <tbody>\n",
              "    <tr>\n",
              "      <th>NAME</th>\n",
              "      <td>Jebacerin.L</td>\n",
              "      <td>Shaniba M</td>\n",
              "      <td>Sailesh Earath Krishnan</td>\n",
              "      <td>Rajesh M</td>\n",
              "      <td>Mohanapriya Meganathan\\n</td>\n",
              "      <td>NaN</td>\n",
              "      <td></td>\n",
              "      <td>['1    ']</td>\n",
              "      <td>['Rajesh M']</td>\n",
              "      <td>['Mohanapriya Meganathan             ']</td>\n",
              "    </tr>\n",
              "    <tr>\n",
              "      <th>DEGREE</th>\n",
              "      <td>ME</td>\n",
              "      <td>BTech</td>\n",
              "      <td>MCA</td>\n",
              "      <td>MCA</td>\n",
              "      <td>BE</td>\n",
              "      <td>Exposure in JavaScript,JQuery,</td>\n",
              "      <td>['B-tech graduate with 3+ year experience in w...</td>\n",
              "      <td>['B.Sc. Mathematics']</td>\n",
              "      <td>['7 members       Role']</td>\n",
              "      <td>['T.J.S Engineering College, Chennai', 'HSC', ...</td>\n",
              "    </tr>\n",
              "    <tr>\n",
              "      <th>DESIGNATION</th>\n",
              "      <td>Software Engineer</td>\n",
              "      <td>Software Developer</td>\n",
              "      <td>Graphics Designer</td>\n",
              "      <td>NaN</td>\n",
              "      <td>Lead Engineer</td>\n",
              "      <td>●</td>\n",
              "      <td></td>\n",
              "      <td>['Sailesh Earath Krishnan']</td>\n",
              "      <td></td>\n",
              "      <td>['Associate Software Engineer']</td>\n",
              "    </tr>\n",
              "    <tr>\n",
              "      <th>SKILLS</th>\n",
              "      <td>C#.NET, ASP.NET, .NET Framework 4.5,WPF, XML, ...</td>\n",
              "      <td>ANGULAR 2 AND ABOVE (ANGULAR 8 CURRENTLY WORKI...</td>\n",
              "      <td>Front-end development using HTML, CSS and jQue...</td>\n",
              "      <td>Programming Languages : Java ,Technologies :J2...</td>\n",
              "      <td>Programming Languages : C, C++, Scripting Lang...</td>\n",
              "      <td>Exenta Software Pvt. Ltd (Trivandrum) – Softwa...</td>\n",
              "      <td>['SOFTWARE DEVELOPER, XMINDS INFOTECH PVT LTD,...</td>\n",
              "      <td>['●  Front-end development using HTML, CSS and...</td>\n",
              "      <td>['Volante Technology, Chennai from June 2020 t...</td>\n",
              "      <td>['Programming Languages :  C, C++']</td>\n",
              "    </tr>\n",
              "    <tr>\n",
              "      <th>COLLEGE NAME</th>\n",
              "      <td>NaN</td>\n",
              "      <td>COLLEGE OF ENGINEERING VADAKARA</td>\n",
              "      <td>Anna University</td>\n",
              "      <td>Jeppiaar Engineering College</td>\n",
              "      <td>T.J.S Engineering College</td>\n",
              "      <td>Banking Software</td>\n",
              "      <td>['SOFTWARE TESTING(MANUAL)', 'Languages Known:...</td>\n",
              "      <td>['Calicut University', 'Sailesh Earath Krishnan']</td>\n",
              "      <td></td>\n",
              "      <td>['Electronics and Communication Engineering', ...</td>\n",
              "    </tr>\n",
              "    <tr>\n",
              "      <th>LOCATION</th>\n",
              "      <td>Trivandrum</td>\n",
              "      <td>NaN</td>\n",
              "      <td>Cochin</td>\n",
              "      <td>Chennai</td>\n",
              "      <td>Chennai</td>\n",
              "      <td>NaN</td>\n",
              "      <td></td>\n",
              "      <td></td>\n",
              "      <td></td>\n",
              "      <td></td>\n",
              "    </tr>\n",
              "    <tr>\n",
              "      <th>GRADUATION YEAR</th>\n",
              "      <td>NaN</td>\n",
              "      <td>2015</td>\n",
              "      <td>2008</td>\n",
              "      <td>2015</td>\n",
              "      <td>2014</td>\n",
              "      <td>NaN</td>\n",
              "      <td></td>\n",
              "      <td></td>\n",
              "      <td>['2015']</td>\n",
              "      <td></td>\n",
              "    </tr>\n",
              "    <tr>\n",
              "      <th>COMPANIES WORKED AT</th>\n",
              "      <td>MSN Ltd(Trivandrum)</td>\n",
              "      <td>XMINDS INFOTECH PVT LTD, TRIVANDRUM</td>\n",
              "      <td>Freelancer</td>\n",
              "      <td>Volante Technology, Chennai</td>\n",
              "      <td>HCL Technologies India Private Limited</td>\n",
              "      <td>(17 JUL 2019 – Till Date)        CERTIFICATION...</td>\n",
              "      <td></td>\n",
              "      <td>['University']</td>\n",
              "      <td></td>\n",
              "      <td></td>\n",
              "    </tr>\n",
              "  </tbody>\n",
              "</table>\n",
              "</div>\n",
              "      <button class=\"colab-df-convert\" onclick=\"convertToInteractive('df-862392a0-8738-4ccc-a0f0-5691bb862c7b')\"\n",
              "              title=\"Convert this dataframe to an interactive table.\"\n",
              "              style=\"display:none;\">\n",
              "        \n",
              "  <svg xmlns=\"http://www.w3.org/2000/svg\" height=\"24px\"viewBox=\"0 0 24 24\"\n",
              "       width=\"24px\">\n",
              "    <path d=\"M0 0h24v24H0V0z\" fill=\"none\"/>\n",
              "    <path d=\"M18.56 5.44l.94 2.06.94-2.06 2.06-.94-2.06-.94-.94-2.06-.94 2.06-2.06.94zm-11 1L8.5 8.5l.94-2.06 2.06-.94-2.06-.94L8.5 2.5l-.94 2.06-2.06.94zm10 10l.94 2.06.94-2.06 2.06-.94-2.06-.94-.94-2.06-.94 2.06-2.06.94z\"/><path d=\"M17.41 7.96l-1.37-1.37c-.4-.4-.92-.59-1.43-.59-.52 0-1.04.2-1.43.59L10.3 9.45l-7.72 7.72c-.78.78-.78 2.05 0 2.83L4 21.41c.39.39.9.59 1.41.59.51 0 1.02-.2 1.41-.59l7.78-7.78 2.81-2.81c.8-.78.8-2.07 0-2.86zM5.41 20L4 18.59l7.72-7.72 1.47 1.35L5.41 20z\"/>\n",
              "  </svg>\n",
              "      </button>\n",
              "      \n",
              "  <style>\n",
              "    .colab-df-container {\n",
              "      display:flex;\n",
              "      flex-wrap:wrap;\n",
              "      gap: 12px;\n",
              "    }\n",
              "\n",
              "    .colab-df-convert {\n",
              "      background-color: #E8F0FE;\n",
              "      border: none;\n",
              "      border-radius: 50%;\n",
              "      cursor: pointer;\n",
              "      display: none;\n",
              "      fill: #1967D2;\n",
              "      height: 32px;\n",
              "      padding: 0 0 0 0;\n",
              "      width: 32px;\n",
              "    }\n",
              "\n",
              "    .colab-df-convert:hover {\n",
              "      background-color: #E2EBFA;\n",
              "      box-shadow: 0px 1px 2px rgba(60, 64, 67, 0.3), 0px 1px 3px 1px rgba(60, 64, 67, 0.15);\n",
              "      fill: #174EA6;\n",
              "    }\n",
              "\n",
              "    [theme=dark] .colab-df-convert {\n",
              "      background-color: #3B4455;\n",
              "      fill: #D2E3FC;\n",
              "    }\n",
              "\n",
              "    [theme=dark] .colab-df-convert:hover {\n",
              "      background-color: #434B5C;\n",
              "      box-shadow: 0px 1px 3px 1px rgba(0, 0, 0, 0.15);\n",
              "      filter: drop-shadow(0px 1px 2px rgba(0, 0, 0, 0.3));\n",
              "      fill: #FFFFFF;\n",
              "    }\n",
              "  </style>\n",
              "\n",
              "      <script>\n",
              "        const buttonEl =\n",
              "          document.querySelector('#df-862392a0-8738-4ccc-a0f0-5691bb862c7b button.colab-df-convert');\n",
              "        buttonEl.style.display =\n",
              "          google.colab.kernel.accessAllowed ? 'block' : 'none';\n",
              "\n",
              "        async function convertToInteractive(key) {\n",
              "          const element = document.querySelector('#df-862392a0-8738-4ccc-a0f0-5691bb862c7b');\n",
              "          const dataTable =\n",
              "            await google.colab.kernel.invokeFunction('convertToInteractive',\n",
              "                                                     [key], {});\n",
              "          if (!dataTable) return;\n",
              "\n",
              "          const docLinkHtml = 'Like what you see? Visit the ' +\n",
              "            '<a target=\"_blank\" href=https://colab.research.google.com/notebooks/data_table.ipynb>data table notebook</a>'\n",
              "            + ' to learn more about interactive tables.';\n",
              "          element.innerHTML = '';\n",
              "          dataTable['output_type'] = 'display_data';\n",
              "          await google.colab.output.renderOutput(dataTable, element);\n",
              "          const docLink = document.createElement('div');\n",
              "          docLink.innerHTML = docLinkHtml;\n",
              "          element.appendChild(docLink);\n",
              "        }\n",
              "      </script>\n",
              "    </div>\n",
              "  </div>\n",
              "  "
            ],
            "text/plain": [
              "                                                           resume_act1  ...                                       resume_pred5\n",
              "NAME                                                       Jebacerin.L  ...            ['Mohanapriya Meganathan             ']\n",
              "DEGREE                                                              ME  ...  ['T.J.S Engineering College, Chennai', 'HSC', ...\n",
              "DESIGNATION                                          Software Engineer  ...                    ['Associate Software Engineer']\n",
              "SKILLS               C#.NET, ASP.NET, .NET Framework 4.5,WPF, XML, ...  ...                ['Programming Languages :  C, C++']\n",
              "COLLEGE NAME                                                       NaN  ...  ['Electronics and Communication Engineering', ...\n",
              "LOCATION                                                    Trivandrum  ...                                                   \n",
              "GRADUATION YEAR                                                    NaN  ...                                                   \n",
              "COMPANIES WORKED AT                                MSN Ltd(Trivandrum)  ...                                                   \n",
              "\n",
              "[8 rows x 10 columns]"
            ]
          },
          "metadata": {},
          "execution_count": 76
        }
      ]
    },
    {
      "cell_type": "markdown",
      "metadata": {
        "id": "kPi2RN_nnHXr"
      },
      "source": [
        "Merged the predicted and manual dataframe for future use. The [ ] (square brackets) is replaced by \" \" (empty string). and download it "
      ]
    },
    {
      "cell_type": "markdown",
      "metadata": {
        "id": "Co_7DsTdT_D5"
      },
      "source": [
        "#Calculating ratio"
      ]
    },
    {
      "cell_type": "code",
      "metadata": {
        "colab": {
          "base_uri": "https://localhost:8080/",
          "height": 673
        },
        "id": "-gVC5benTZZj",
        "outputId": "e32817d4-ab8b-4aec-d55c-bc97d3c6729d"
      },
      "source": [
        "#loading the merged dataset named as final_dataset\n",
        "\n",
        "res2 = pd.read_csv('/content/final_dataset.csv')\n",
        "res2"
      ],
      "execution_count": 77,
      "outputs": [
        {
          "output_type": "execute_result",
          "data": {
            "text/html": [
              "\n",
              "  <div id=\"df-511790ea-b66c-4d83-8f6a-87e295defb35\">\n",
              "    <div class=\"colab-df-container\">\n",
              "      <div>\n",
              "<style scoped>\n",
              "    .dataframe tbody tr th:only-of-type {\n",
              "        vertical-align: middle;\n",
              "    }\n",
              "\n",
              "    .dataframe tbody tr th {\n",
              "        vertical-align: top;\n",
              "    }\n",
              "\n",
              "    .dataframe thead th {\n",
              "        text-align: right;\n",
              "    }\n",
              "</style>\n",
              "<table border=\"1\" class=\"dataframe\">\n",
              "  <thead>\n",
              "    <tr style=\"text-align: right;\">\n",
              "      <th></th>\n",
              "      <th>Unnamed: 0</th>\n",
              "      <th>resume_act1</th>\n",
              "      <th>resume_act2</th>\n",
              "      <th>resume_act3</th>\n",
              "      <th>resume_act4</th>\n",
              "      <th>resume_act5</th>\n",
              "      <th>resume_pred1</th>\n",
              "      <th>resume_pred2</th>\n",
              "      <th>resume_pred3</th>\n",
              "      <th>resume_pred4</th>\n",
              "      <th>resume_pred5</th>\n",
              "    </tr>\n",
              "  </thead>\n",
              "  <tbody>\n",
              "    <tr>\n",
              "      <th>0</th>\n",
              "      <td>NAME</td>\n",
              "      <td>Jebacerin.L</td>\n",
              "      <td>Shaniba M</td>\n",
              "      <td>Sailesh Earath Krishnan</td>\n",
              "      <td>Rajesh M</td>\n",
              "      <td>Mohanapriya Meganathan\\n</td>\n",
              "      <td>NaN</td>\n",
              "      <td>NaN</td>\n",
              "      <td>['1    ']</td>\n",
              "      <td>['Rajesh M']</td>\n",
              "      <td>['Mohanapriya Meganathan             ']</td>\n",
              "    </tr>\n",
              "    <tr>\n",
              "      <th>1</th>\n",
              "      <td>DEGREE</td>\n",
              "      <td>ME</td>\n",
              "      <td>BTech</td>\n",
              "      <td>MCA</td>\n",
              "      <td>MCA</td>\n",
              "      <td>BE</td>\n",
              "      <td>Exposure in JavaScript,JQuery,</td>\n",
              "      <td>['B-tech graduate with 3+ year experience in w...</td>\n",
              "      <td>['B.Sc. Mathematics']</td>\n",
              "      <td>['7 members       Role']</td>\n",
              "      <td>['T.J.S Engineering College, Chennai', 'HSC', ...</td>\n",
              "    </tr>\n",
              "    <tr>\n",
              "      <th>2</th>\n",
              "      <td>DESIGNATION</td>\n",
              "      <td>Software Engineer</td>\n",
              "      <td>Software Developer</td>\n",
              "      <td>Graphics Designer</td>\n",
              "      <td>NaN</td>\n",
              "      <td>Lead Engineer</td>\n",
              "      <td>●</td>\n",
              "      <td>NaN</td>\n",
              "      <td>['Sailesh Earath Krishnan']</td>\n",
              "      <td>NaN</td>\n",
              "      <td>['Associate Software Engineer']</td>\n",
              "    </tr>\n",
              "    <tr>\n",
              "      <th>3</th>\n",
              "      <td>SKILLS</td>\n",
              "      <td>C#.NET, ASP.NET, .NET Framework 4.5,WPF, XML, ...</td>\n",
              "      <td>ANGULAR 2 AND ABOVE (ANGULAR 8 CURRENTLY WORKI...</td>\n",
              "      <td>Front-end development using HTML, CSS and jQue...</td>\n",
              "      <td>Programming Languages : Java ,Technologies :J2...</td>\n",
              "      <td>Programming Languages : C, C++, Scripting Lang...</td>\n",
              "      <td>Exenta Software Pvt. Ltd (Trivandrum) – Softwa...</td>\n",
              "      <td>['SOFTWARE DEVELOPER, XMINDS INFOTECH PVT LTD,...</td>\n",
              "      <td>['●  Front-end development using HTML, CSS and...</td>\n",
              "      <td>['Volante Technology, Chennai from June 2020 t...</td>\n",
              "      <td>['Programming Languages :  C, C++']</td>\n",
              "    </tr>\n",
              "    <tr>\n",
              "      <th>4</th>\n",
              "      <td>COLLEGE NAME</td>\n",
              "      <td>NaN</td>\n",
              "      <td>COLLEGE OF ENGINEERING VADAKARA</td>\n",
              "      <td>Anna University</td>\n",
              "      <td>Jeppiaar Engineering College</td>\n",
              "      <td>T.J.S Engineering College</td>\n",
              "      <td>Banking Software</td>\n",
              "      <td>['SOFTWARE TESTING(MANUAL)', 'Languages Known:...</td>\n",
              "      <td>['Calicut University', 'Sailesh Earath Krishnan']</td>\n",
              "      <td>NaN</td>\n",
              "      <td>['Electronics and Communication Engineering', ...</td>\n",
              "    </tr>\n",
              "    <tr>\n",
              "      <th>5</th>\n",
              "      <td>LOCATION</td>\n",
              "      <td>Trivandrum</td>\n",
              "      <td>NaN</td>\n",
              "      <td>Cochin</td>\n",
              "      <td>Chennai</td>\n",
              "      <td>Chennai</td>\n",
              "      <td>NaN</td>\n",
              "      <td>NaN</td>\n",
              "      <td>NaN</td>\n",
              "      <td>NaN</td>\n",
              "      <td>NaN</td>\n",
              "    </tr>\n",
              "    <tr>\n",
              "      <th>6</th>\n",
              "      <td>GRADUATION YEAR</td>\n",
              "      <td>NaN</td>\n",
              "      <td>2015.0</td>\n",
              "      <td>2008.0</td>\n",
              "      <td>2015.0</td>\n",
              "      <td>2014.0</td>\n",
              "      <td>NaN</td>\n",
              "      <td>NaN</td>\n",
              "      <td>NaN</td>\n",
              "      <td>['2015']</td>\n",
              "      <td>NaN</td>\n",
              "    </tr>\n",
              "    <tr>\n",
              "      <th>7</th>\n",
              "      <td>COMPANIES WORKED AT</td>\n",
              "      <td>MSN Ltd(Trivandrum)</td>\n",
              "      <td>XMINDS INFOTECH PVT LTD, TRIVANDRUM</td>\n",
              "      <td>Freelancer</td>\n",
              "      <td>Volante Technology, Chennai</td>\n",
              "      <td>HCL Technologies India Private Limited</td>\n",
              "      <td>(17 JUL 2019 – Till Date)        CERTIFICATION...</td>\n",
              "      <td>NaN</td>\n",
              "      <td>['University']</td>\n",
              "      <td>NaN</td>\n",
              "      <td>NaN</td>\n",
              "    </tr>\n",
              "  </tbody>\n",
              "</table>\n",
              "</div>\n",
              "      <button class=\"colab-df-convert\" onclick=\"convertToInteractive('df-511790ea-b66c-4d83-8f6a-87e295defb35')\"\n",
              "              title=\"Convert this dataframe to an interactive table.\"\n",
              "              style=\"display:none;\">\n",
              "        \n",
              "  <svg xmlns=\"http://www.w3.org/2000/svg\" height=\"24px\"viewBox=\"0 0 24 24\"\n",
              "       width=\"24px\">\n",
              "    <path d=\"M0 0h24v24H0V0z\" fill=\"none\"/>\n",
              "    <path d=\"M18.56 5.44l.94 2.06.94-2.06 2.06-.94-2.06-.94-.94-2.06-.94 2.06-2.06.94zm-11 1L8.5 8.5l.94-2.06 2.06-.94-2.06-.94L8.5 2.5l-.94 2.06-2.06.94zm10 10l.94 2.06.94-2.06 2.06-.94-2.06-.94-.94-2.06-.94 2.06-2.06.94z\"/><path d=\"M17.41 7.96l-1.37-1.37c-.4-.4-.92-.59-1.43-.59-.52 0-1.04.2-1.43.59L10.3 9.45l-7.72 7.72c-.78.78-.78 2.05 0 2.83L4 21.41c.39.39.9.59 1.41.59.51 0 1.02-.2 1.41-.59l7.78-7.78 2.81-2.81c.8-.78.8-2.07 0-2.86zM5.41 20L4 18.59l7.72-7.72 1.47 1.35L5.41 20z\"/>\n",
              "  </svg>\n",
              "      </button>\n",
              "      \n",
              "  <style>\n",
              "    .colab-df-container {\n",
              "      display:flex;\n",
              "      flex-wrap:wrap;\n",
              "      gap: 12px;\n",
              "    }\n",
              "\n",
              "    .colab-df-convert {\n",
              "      background-color: #E8F0FE;\n",
              "      border: none;\n",
              "      border-radius: 50%;\n",
              "      cursor: pointer;\n",
              "      display: none;\n",
              "      fill: #1967D2;\n",
              "      height: 32px;\n",
              "      padding: 0 0 0 0;\n",
              "      width: 32px;\n",
              "    }\n",
              "\n",
              "    .colab-df-convert:hover {\n",
              "      background-color: #E2EBFA;\n",
              "      box-shadow: 0px 1px 2px rgba(60, 64, 67, 0.3), 0px 1px 3px 1px rgba(60, 64, 67, 0.15);\n",
              "      fill: #174EA6;\n",
              "    }\n",
              "\n",
              "    [theme=dark] .colab-df-convert {\n",
              "      background-color: #3B4455;\n",
              "      fill: #D2E3FC;\n",
              "    }\n",
              "\n",
              "    [theme=dark] .colab-df-convert:hover {\n",
              "      background-color: #434B5C;\n",
              "      box-shadow: 0px 1px 3px 1px rgba(0, 0, 0, 0.15);\n",
              "      filter: drop-shadow(0px 1px 2px rgba(0, 0, 0, 0.3));\n",
              "      fill: #FFFFFF;\n",
              "    }\n",
              "  </style>\n",
              "\n",
              "      <script>\n",
              "        const buttonEl =\n",
              "          document.querySelector('#df-511790ea-b66c-4d83-8f6a-87e295defb35 button.colab-df-convert');\n",
              "        buttonEl.style.display =\n",
              "          google.colab.kernel.accessAllowed ? 'block' : 'none';\n",
              "\n",
              "        async function convertToInteractive(key) {\n",
              "          const element = document.querySelector('#df-511790ea-b66c-4d83-8f6a-87e295defb35');\n",
              "          const dataTable =\n",
              "            await google.colab.kernel.invokeFunction('convertToInteractive',\n",
              "                                                     [key], {});\n",
              "          if (!dataTable) return;\n",
              "\n",
              "          const docLinkHtml = 'Like what you see? Visit the ' +\n",
              "            '<a target=\"_blank\" href=https://colab.research.google.com/notebooks/data_table.ipynb>data table notebook</a>'\n",
              "            + ' to learn more about interactive tables.';\n",
              "          element.innerHTML = '';\n",
              "          dataTable['output_type'] = 'display_data';\n",
              "          await google.colab.output.renderOutput(dataTable, element);\n",
              "          const docLink = document.createElement('div');\n",
              "          docLink.innerHTML = docLinkHtml;\n",
              "          element.appendChild(docLink);\n",
              "        }\n",
              "      </script>\n",
              "    </div>\n",
              "  </div>\n",
              "  "
            ],
            "text/plain": [
              "            Unnamed: 0  ...                                       resume_pred5\n",
              "0                 NAME  ...            ['Mohanapriya Meganathan             ']\n",
              "1               DEGREE  ...  ['T.J.S Engineering College, Chennai', 'HSC', ...\n",
              "2          DESIGNATION  ...                    ['Associate Software Engineer']\n",
              "3               SKILLS  ...                ['Programming Languages :  C, C++']\n",
              "4         COLLEGE NAME  ...  ['Electronics and Communication Engineering', ...\n",
              "5             LOCATION  ...                                                NaN\n",
              "6      GRADUATION YEAR  ...                                                NaN\n",
              "7  COMPANIES WORKED AT  ...                                                NaN\n",
              "\n",
              "[8 rows x 11 columns]"
            ]
          },
          "metadata": {},
          "execution_count": 77
        }
      ]
    },
    {
      "cell_type": "code",
      "metadata": {
        "id": "x0W-b6UYTm1a"
      },
      "source": [
        "#applying fillna function and fuzz ratio function to final dataset \n",
        "\n",
        "res2['ratio1'] = res2.fillna(value=\"\", axis=None, inplace=False).apply(lambda x: fuzz.ratio(x.resume_act1, x.resume_pred1),axis=1)\n",
        "res2['ratio2'] = res2.fillna(value=\"\", axis=None, inplace=False).apply(lambda x: fuzz.ratio(x.resume_act2, x.resume_pred2),axis=1)\n",
        "res2['ratio3'] = res2.fillna(value=\"\", axis=None, inplace=False).apply(lambda x: fuzz.ratio(x.resume_act3, x.resume_pred3),axis=1)\n",
        "res2['ratio4'] = res2.fillna(value=\"\", axis=None, inplace=False).apply(lambda x: fuzz.ratio(x.resume_act4, x.resume_pred4),axis=1)\n",
        "res2['ratio5'] = res2.fillna(value=\"\", axis=None, inplace=False).apply(lambda x: fuzz.ratio(x.resume_act5, x.resume_pred5),axis=1)"
      ],
      "execution_count": 78,
      "outputs": []
    },
    {
      "cell_type": "markdown",
      "metadata": {
        "id": "JGwnE0MGbhnx"
      },
      "source": [
        "Fuzzywuzzy uses a some similarity ratio between two sequences and returns the similarity percentage.We used the ratio() function above to calculate the Levenshtein distance similarity ratio between the two strings (sequences). The similarity ratio percentage here is different for different columns.\n",
        "\n",
        "Pandas.apply allow the users to pass a function and apply it on every single value of the Pandas series. It comes as a huge improvement for the pandas library as this function helps to segregate data according to the conditions required due to which it is efficiently used in data science and machine learning.\n",
        "\n",
        "Here new five columns are created for the ratio representation. the fuzzy ratio is used to find matches between two string. Here the actual value and predicted value of each resume is compared and give the ratio between them."
      ]
    },
    {
      "cell_type": "code",
      "metadata": {
        "colab": {
          "base_uri": "https://localhost:8080/",
          "height": 711
        },
        "id": "-W0qyASnUQYp",
        "outputId": "699f56a4-37f0-4c61-f61d-558cf4a069ae"
      },
      "source": [
        "#displaying fuzz ratio value\n",
        "\n",
        "res2"
      ],
      "execution_count": 79,
      "outputs": [
        {
          "output_type": "execute_result",
          "data": {
            "text/html": [
              "\n",
              "  <div id=\"df-6ee8ae1c-b063-47cb-aa36-5e99dc9a6c90\">\n",
              "    <div class=\"colab-df-container\">\n",
              "      <div>\n",
              "<style scoped>\n",
              "    .dataframe tbody tr th:only-of-type {\n",
              "        vertical-align: middle;\n",
              "    }\n",
              "\n",
              "    .dataframe tbody tr th {\n",
              "        vertical-align: top;\n",
              "    }\n",
              "\n",
              "    .dataframe thead th {\n",
              "        text-align: right;\n",
              "    }\n",
              "</style>\n",
              "<table border=\"1\" class=\"dataframe\">\n",
              "  <thead>\n",
              "    <tr style=\"text-align: right;\">\n",
              "      <th></th>\n",
              "      <th>Unnamed: 0</th>\n",
              "      <th>resume_act1</th>\n",
              "      <th>resume_act2</th>\n",
              "      <th>resume_act3</th>\n",
              "      <th>resume_act4</th>\n",
              "      <th>resume_act5</th>\n",
              "      <th>resume_pred1</th>\n",
              "      <th>resume_pred2</th>\n",
              "      <th>resume_pred3</th>\n",
              "      <th>resume_pred4</th>\n",
              "      <th>resume_pred5</th>\n",
              "      <th>ratio1</th>\n",
              "      <th>ratio2</th>\n",
              "      <th>ratio3</th>\n",
              "      <th>ratio4</th>\n",
              "      <th>ratio5</th>\n",
              "    </tr>\n",
              "  </thead>\n",
              "  <tbody>\n",
              "    <tr>\n",
              "      <th>0</th>\n",
              "      <td>NAME</td>\n",
              "      <td>Jebacerin.L</td>\n",
              "      <td>Shaniba M</td>\n",
              "      <td>Sailesh Earath Krishnan</td>\n",
              "      <td>Rajesh M</td>\n",
              "      <td>Mohanapriya Meganathan\\n</td>\n",
              "      <td>NaN</td>\n",
              "      <td>NaN</td>\n",
              "      <td>['1    ']</td>\n",
              "      <td>['Rajesh M']</td>\n",
              "      <td>['Mohanapriya Meganathan             ']</td>\n",
              "      <td>0</td>\n",
              "      <td>0</td>\n",
              "      <td>12</td>\n",
              "      <td>76</td>\n",
              "      <td>71</td>\n",
              "    </tr>\n",
              "    <tr>\n",
              "      <th>1</th>\n",
              "      <td>DEGREE</td>\n",
              "      <td>ME</td>\n",
              "      <td>BTech</td>\n",
              "      <td>MCA</td>\n",
              "      <td>MCA</td>\n",
              "      <td>BE</td>\n",
              "      <td>Exposure in JavaScript,JQuery,</td>\n",
              "      <td>['B-tech graduate with 3+ year experience in w...</td>\n",
              "      <td>['B.Sc. Mathematics']</td>\n",
              "      <td>['7 members       Role']</td>\n",
              "      <td>['T.J.S Engineering College, Chennai', 'HSC', ...</td>\n",
              "      <td>6</td>\n",
              "      <td>4</td>\n",
              "      <td>8</td>\n",
              "      <td>0</td>\n",
              "      <td>4</td>\n",
              "    </tr>\n",
              "    <tr>\n",
              "      <th>2</th>\n",
              "      <td>DESIGNATION</td>\n",
              "      <td>Software Engineer</td>\n",
              "      <td>Software Developer</td>\n",
              "      <td>Graphics Designer</td>\n",
              "      <td>NaN</td>\n",
              "      <td>Lead Engineer</td>\n",
              "      <td>●</td>\n",
              "      <td>NaN</td>\n",
              "      <td>['Sailesh Earath Krishnan']</td>\n",
              "      <td>NaN</td>\n",
              "      <td>['Associate Software Engineer']</td>\n",
              "      <td>0</td>\n",
              "      <td>0</td>\n",
              "      <td>27</td>\n",
              "      <td>100</td>\n",
              "      <td>50</td>\n",
              "    </tr>\n",
              "    <tr>\n",
              "      <th>3</th>\n",
              "      <td>SKILLS</td>\n",
              "      <td>C#.NET, ASP.NET, .NET Framework 4.5,WPF, XML, ...</td>\n",
              "      <td>ANGULAR 2 AND ABOVE (ANGULAR 8 CURRENTLY WORKI...</td>\n",
              "      <td>Front-end development using HTML, CSS and jQue...</td>\n",
              "      <td>Programming Languages : Java ,Technologies :J2...</td>\n",
              "      <td>Programming Languages : C, C++, Scripting Lang...</td>\n",
              "      <td>Exenta Software Pvt. Ltd (Trivandrum) – Softwa...</td>\n",
              "      <td>['SOFTWARE DEVELOPER, XMINDS INFOTECH PVT LTD,...</td>\n",
              "      <td>['●  Front-end development using HTML, CSS and...</td>\n",
              "      <td>['Volante Technology, Chennai from June 2020 t...</td>\n",
              "      <td>['Programming Languages :  C, C++']</td>\n",
              "      <td>28</td>\n",
              "      <td>12</td>\n",
              "      <td>50</td>\n",
              "      <td>18</td>\n",
              "      <td>30</td>\n",
              "    </tr>\n",
              "    <tr>\n",
              "      <th>4</th>\n",
              "      <td>COLLEGE NAME</td>\n",
              "      <td>NaN</td>\n",
              "      <td>COLLEGE OF ENGINEERING VADAKARA</td>\n",
              "      <td>Anna University</td>\n",
              "      <td>Jeppiaar Engineering College</td>\n",
              "      <td>T.J.S Engineering College</td>\n",
              "      <td>Banking Software</td>\n",
              "      <td>['SOFTWARE TESTING(MANUAL)', 'Languages Known:...</td>\n",
              "      <td>['Calicut University', 'Sailesh Earath Krishnan']</td>\n",
              "      <td>NaN</td>\n",
              "      <td>['Electronics and Communication Engineering', ...</td>\n",
              "      <td>0</td>\n",
              "      <td>23</td>\n",
              "      <td>38</td>\n",
              "      <td>0</td>\n",
              "      <td>14</td>\n",
              "    </tr>\n",
              "    <tr>\n",
              "      <th>5</th>\n",
              "      <td>LOCATION</td>\n",
              "      <td>Trivandrum</td>\n",
              "      <td>NaN</td>\n",
              "      <td>Cochin</td>\n",
              "      <td>Chennai</td>\n",
              "      <td>Chennai</td>\n",
              "      <td>NaN</td>\n",
              "      <td>NaN</td>\n",
              "      <td>NaN</td>\n",
              "      <td>NaN</td>\n",
              "      <td>NaN</td>\n",
              "      <td>0</td>\n",
              "      <td>100</td>\n",
              "      <td>0</td>\n",
              "      <td>0</td>\n",
              "      <td>0</td>\n",
              "    </tr>\n",
              "    <tr>\n",
              "      <th>6</th>\n",
              "      <td>GRADUATION YEAR</td>\n",
              "      <td>NaN</td>\n",
              "      <td>2015.0</td>\n",
              "      <td>2008.0</td>\n",
              "      <td>2015.0</td>\n",
              "      <td>2014.0</td>\n",
              "      <td>NaN</td>\n",
              "      <td>NaN</td>\n",
              "      <td>NaN</td>\n",
              "      <td>['2015']</td>\n",
              "      <td>NaN</td>\n",
              "      <td>100</td>\n",
              "      <td>0</td>\n",
              "      <td>0</td>\n",
              "      <td>57</td>\n",
              "      <td>0</td>\n",
              "    </tr>\n",
              "    <tr>\n",
              "      <th>7</th>\n",
              "      <td>COMPANIES WORKED AT</td>\n",
              "      <td>MSN Ltd(Trivandrum)</td>\n",
              "      <td>XMINDS INFOTECH PVT LTD, TRIVANDRUM</td>\n",
              "      <td>Freelancer</td>\n",
              "      <td>Volante Technology, Chennai</td>\n",
              "      <td>HCL Technologies India Private Limited</td>\n",
              "      <td>(17 JUL 2019 – Till Date)        CERTIFICATION...</td>\n",
              "      <td>NaN</td>\n",
              "      <td>['University']</td>\n",
              "      <td>NaN</td>\n",
              "      <td>NaN</td>\n",
              "      <td>12</td>\n",
              "      <td>0</td>\n",
              "      <td>25</td>\n",
              "      <td>0</td>\n",
              "      <td>0</td>\n",
              "    </tr>\n",
              "  </tbody>\n",
              "</table>\n",
              "</div>\n",
              "      <button class=\"colab-df-convert\" onclick=\"convertToInteractive('df-6ee8ae1c-b063-47cb-aa36-5e99dc9a6c90')\"\n",
              "              title=\"Convert this dataframe to an interactive table.\"\n",
              "              style=\"display:none;\">\n",
              "        \n",
              "  <svg xmlns=\"http://www.w3.org/2000/svg\" height=\"24px\"viewBox=\"0 0 24 24\"\n",
              "       width=\"24px\">\n",
              "    <path d=\"M0 0h24v24H0V0z\" fill=\"none\"/>\n",
              "    <path d=\"M18.56 5.44l.94 2.06.94-2.06 2.06-.94-2.06-.94-.94-2.06-.94 2.06-2.06.94zm-11 1L8.5 8.5l.94-2.06 2.06-.94-2.06-.94L8.5 2.5l-.94 2.06-2.06.94zm10 10l.94 2.06.94-2.06 2.06-.94-2.06-.94-.94-2.06-.94 2.06-2.06.94z\"/><path d=\"M17.41 7.96l-1.37-1.37c-.4-.4-.92-.59-1.43-.59-.52 0-1.04.2-1.43.59L10.3 9.45l-7.72 7.72c-.78.78-.78 2.05 0 2.83L4 21.41c.39.39.9.59 1.41.59.51 0 1.02-.2 1.41-.59l7.78-7.78 2.81-2.81c.8-.78.8-2.07 0-2.86zM5.41 20L4 18.59l7.72-7.72 1.47 1.35L5.41 20z\"/>\n",
              "  </svg>\n",
              "      </button>\n",
              "      \n",
              "  <style>\n",
              "    .colab-df-container {\n",
              "      display:flex;\n",
              "      flex-wrap:wrap;\n",
              "      gap: 12px;\n",
              "    }\n",
              "\n",
              "    .colab-df-convert {\n",
              "      background-color: #E8F0FE;\n",
              "      border: none;\n",
              "      border-radius: 50%;\n",
              "      cursor: pointer;\n",
              "      display: none;\n",
              "      fill: #1967D2;\n",
              "      height: 32px;\n",
              "      padding: 0 0 0 0;\n",
              "      width: 32px;\n",
              "    }\n",
              "\n",
              "    .colab-df-convert:hover {\n",
              "      background-color: #E2EBFA;\n",
              "      box-shadow: 0px 1px 2px rgba(60, 64, 67, 0.3), 0px 1px 3px 1px rgba(60, 64, 67, 0.15);\n",
              "      fill: #174EA6;\n",
              "    }\n",
              "\n",
              "    [theme=dark] .colab-df-convert {\n",
              "      background-color: #3B4455;\n",
              "      fill: #D2E3FC;\n",
              "    }\n",
              "\n",
              "    [theme=dark] .colab-df-convert:hover {\n",
              "      background-color: #434B5C;\n",
              "      box-shadow: 0px 1px 3px 1px rgba(0, 0, 0, 0.15);\n",
              "      filter: drop-shadow(0px 1px 2px rgba(0, 0, 0, 0.3));\n",
              "      fill: #FFFFFF;\n",
              "    }\n",
              "  </style>\n",
              "\n",
              "      <script>\n",
              "        const buttonEl =\n",
              "          document.querySelector('#df-6ee8ae1c-b063-47cb-aa36-5e99dc9a6c90 button.colab-df-convert');\n",
              "        buttonEl.style.display =\n",
              "          google.colab.kernel.accessAllowed ? 'block' : 'none';\n",
              "\n",
              "        async function convertToInteractive(key) {\n",
              "          const element = document.querySelector('#df-6ee8ae1c-b063-47cb-aa36-5e99dc9a6c90');\n",
              "          const dataTable =\n",
              "            await google.colab.kernel.invokeFunction('convertToInteractive',\n",
              "                                                     [key], {});\n",
              "          if (!dataTable) return;\n",
              "\n",
              "          const docLinkHtml = 'Like what you see? Visit the ' +\n",
              "            '<a target=\"_blank\" href=https://colab.research.google.com/notebooks/data_table.ipynb>data table notebook</a>'\n",
              "            + ' to learn more about interactive tables.';\n",
              "          element.innerHTML = '';\n",
              "          dataTable['output_type'] = 'display_data';\n",
              "          await google.colab.output.renderOutput(dataTable, element);\n",
              "          const docLink = document.createElement('div');\n",
              "          docLink.innerHTML = docLinkHtml;\n",
              "          element.appendChild(docLink);\n",
              "        }\n",
              "      </script>\n",
              "    </div>\n",
              "  </div>\n",
              "  "
            ],
            "text/plain": [
              "            Unnamed: 0  ... ratio5\n",
              "0                 NAME  ...     71\n",
              "1               DEGREE  ...      4\n",
              "2          DESIGNATION  ...     50\n",
              "3               SKILLS  ...     30\n",
              "4         COLLEGE NAME  ...     14\n",
              "5             LOCATION  ...      0\n",
              "6      GRADUATION YEAR  ...      0\n",
              "7  COMPANIES WORKED AT  ...      0\n",
              "\n",
              "[8 rows x 16 columns]"
            ]
          },
          "metadata": {},
          "execution_count": 79
        }
      ]
    },
    {
      "cell_type": "markdown",
      "metadata": {
        "id": "CnlE_KvWstVc"
      },
      "source": [
        "The actual value is compare to corresponding predicted value. ie, resume_act1 value is compare with resume_pred1 value.\n",
        "This Ratio is used to find the model accuracy. we got most of the ratio values in different columns."
      ]
    },
    {
      "cell_type": "code",
      "metadata": {
        "colab": {
          "base_uri": "https://localhost:8080/"
        },
        "id": "69oL5HszUUWK",
        "outputId": "00c02c57-a250-47f6-99cf-1ed10e690857"
      },
      "source": [
        "#calculating average score for ratio1 to ratio5\n",
        "\n",
        "df_new = res2[['ratio1', 'ratio2', 'ratio3', 'ratio4', 'ratio5']]\n",
        "avg_score = df_new.mean(axis=1)\n",
        "avg_score"
      ],
      "execution_count": 80,
      "outputs": [
        {
          "output_type": "execute_result",
          "data": {
            "text/plain": [
              "0    31.8\n",
              "1     4.4\n",
              "2    35.4\n",
              "3    27.6\n",
              "4    15.0\n",
              "5    20.0\n",
              "6    31.4\n",
              "7     7.4\n",
              "dtype: float64"
            ]
          },
          "metadata": {},
          "execution_count": 80
        }
      ]
    },
    {
      "cell_type": "markdown",
      "metadata": {
        "id": "G6PtVeomtcqr"
      },
      "source": [
        "caluculating the average score in each row."
      ]
    },
    {
      "cell_type": "code",
      "metadata": {
        "colab": {
          "base_uri": "https://localhost:8080/"
        },
        "id": "_oohhoODUbFo",
        "outputId": "f0e60f3b-fa85-4c4b-dd77-f9948b104e57"
      },
      "source": [
        "#calculating average score for each resume\n",
        "\n",
        "avg_resume_score = df_new.mean()\n",
        "avg_resume_score.index = ['Resume1', 'Resume2', 'Resume3', 'Resume4', 'Resume5']\n",
        "avg_resume_score"
      ],
      "execution_count": 81,
      "outputs": [
        {
          "output_type": "execute_result",
          "data": {
            "text/plain": [
              "Resume1    18.250\n",
              "Resume2    17.375\n",
              "Resume3    20.000\n",
              "Resume4    31.375\n",
              "Resume5    21.125\n",
              "dtype: float64"
            ]
          },
          "metadata": {},
          "execution_count": 81
        }
      ]
    },
    {
      "cell_type": "markdown",
      "metadata": {
        "id": "eSZ6V90nuM2D"
      },
      "source": [
        "Calculating average score for each resume.Most of the data and resumes shows similarity in between thier actual data and predicted data. Our model gave a good resul for resume parsing."
      ]
    },
    {
      "cell_type": "markdown",
      "metadata": {
        "id": "w2y-g6IkuUJ1"
      },
      "source": [
        "**Conclusion**\n",
        "\n",
        "The main objective of Natural Language Processing (NLP)-based Resume Parser in Python project is to extract the required information about candidates without having to go through each and every resume manually, which ultimately leads to a more time and energy-efficient process.  By using the NLP model, we can extract most of the important data like name, location, degree… from the resume. Its all done by the entity and the key words present in the resume. The matching of predicted resume and actual resume is formed here. The fuzzy ratio is used to calculate the comparison value between the resumes. The row wise and column wise ratio is calculated. All the values are shows below 50 so the model is working in good form. The extraction of the data from the resume is moderately good. In future we can improve the accuracy of the model to extract all the data. Test the model further and make it work on resumes from all over the world. Improve the dataset to extract more entity types like Address, Date of birth, Companies worked for, Working Duration, Graduation Year, Achievements, Strength and weaknesses, Nationality, Career Objective, CGPA/GPA/Percentage/Result.\n"
      ]
    },
    {
      "cell_type": "code",
      "metadata": {
        "id": "QCLngIocYcQl"
      },
      "source": [
        ""
      ],
      "execution_count": null,
      "outputs": []
    }
  ]
}